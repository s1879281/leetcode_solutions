{
 "cells": [
  {
   "cell_type": "markdown",
   "metadata": {},
   "source": [
    "# Description:"
   ]
  },
  {
   "cell_type": "markdown",
   "metadata": {},
   "source": [
    "Given a binary tree, find its maximum depth.\n",
    "\n",
    "The maximum depth is the number of nodes along the longest path from the root node down to the farthest leaf node.\n",
    "\n",
    "Note: A leaf is a node with no children."
   ]
  },
  {
   "cell_type": "markdown",
   "metadata": {},
   "source": [
    "# Example:"
   ]
  },
  {
   "cell_type": "markdown",
   "metadata": {},
   "source": [
    "Given binary tree [3,9,20,null,null,15,7],\n",
    "\n",
    "return its depth = 3."
   ]
  },
  {
   "cell_type": "markdown",
   "metadata": {},
   "source": [
    "# Solution:"
   ]
  },
  {
   "cell_type": "code",
   "execution_count": 1,
   "metadata": {},
   "outputs": [],
   "source": [
    "# Definition for binary tree node.\n",
    "class TreeNode(object):\n",
    "    \"\"\"定义树的节点\"\"\"\n",
    "    \n",
    "    def __init__(self, x):\n",
    "        self.val = x\n",
    "        self.left = None\n",
    "        self.right = None\n",
    "        \n",
    "    def __call__(self):\n",
    "        cur = self\n",
    "        queue = [cur]\n",
    "        l = [cur.val]\n",
    "        while queue:\n",
    "            cur = queue.pop(0)\n",
    "\n",
    "            if not cur.left:\n",
    "                l.append(None)\n",
    "            else:\n",
    "                queue.append(cur.left)\n",
    "                l.append(cur.left.val)\n",
    "                \n",
    "            if not cur.right:\n",
    "                l.append(None)\n",
    "            else:\n",
    "                queue.append(cur.right)\n",
    "                l.append(cur.right.val)\n",
    "        \n",
    "        while l[-1] is None:\n",
    "            l.pop()\n",
    "                \n",
    "        return l\n",
    "\n",
    "class BinaryTree(object):\n",
    "    \"\"\"定义二叉树\"\"\"\n",
    "    \n",
    "    def __init__(self, numList):\n",
    "        self.root = self.buildBinaryTree(numList, 0)\n",
    "        \n",
    "    def buildBinaryTree(self, numList, index):\n",
    "        if index > len(numList) - 1 or numList[index] == None:\n",
    "            return None\n",
    "        \n",
    "        root = TreeNode(numList[index])\n",
    "        root.left = self.buildBinaryTree(numList, 2 * index + 1)\n",
    "        root.right = self.buildBinaryTree(numList, 2 * index + 2)\n",
    "        \n",
    "        return root\n",
    "            \n",
    "    def __call__(self):\n",
    "        root = self.root\n",
    "                \n",
    "        return root()"
   ]
  },
  {
   "cell_type": "code",
   "execution_count": 2,
   "metadata": {},
   "outputs": [],
   "source": [
    "class Solution_1(object):\n",
    "    \"\"\"递归\"\"\"\n",
    "    \n",
    "    def maxDepth(self, root):\n",
    "        \"\"\"\n",
    "        :type root: TreeNode\n",
    "        :rtype: int\n",
    "        \"\"\"\n",
    "        if not root:\n",
    "            return 0\n",
    "        return max(self.maxDepth(root.left), self.maxDepth(root.right)) + 1"
   ]
  },
  {
   "cell_type": "markdown",
   "metadata": {},
   "source": [
    "# Test:"
   ]
  },
  {
   "cell_type": "code",
   "execution_count": 3,
   "metadata": {},
   "outputs": [
    {
     "name": "stdout",
     "output_type": "stream",
     "text": [
      "3\n"
     ]
    }
   ],
   "source": [
    "if __name__ == '__main__':\n",
    "    s_1 = Solution_1()\n",
    "    \n",
    "    tree = BinaryTree([3,9,20,None,None,15,7])\n",
    "    root = tree.root\n",
    "    print(s_1.maxDepth(root))\n",
    "    "
   ]
  }
 ],
 "metadata": {
  "kernelspec": {
   "display_name": "Python 3",
   "language": "python",
   "name": "python3"
  },
  "language_info": {
   "codemirror_mode": {
    "name": "ipython",
    "version": 3
   },
   "file_extension": ".py",
   "mimetype": "text/x-python",
   "name": "python",
   "nbconvert_exporter": "python",
   "pygments_lexer": "ipython3",
   "version": "3.7.1"
  }
 },
 "nbformat": 4,
 "nbformat_minor": 2
}
