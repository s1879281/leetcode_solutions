{
 "cells": [
  {
   "cell_type": "markdown",
   "metadata": {},
   "source": [
    "# Description:"
   ]
  },
  {
   "cell_type": "markdown",
   "metadata": {},
   "source": [
    "Return the root node of a binary search tree that matches the given preorder traversal.\n",
    "\n",
    "(Recall that a binary search tree is a binary tree where for every node, any descendant of node.left has a value < node.val, and any descendant of node.right has a value > node.val.  Also recall that a preorder traversal displays the value of the node first, then traverses node.left, then traverses node.right.)"
   ]
  },
  {
   "cell_type": "markdown",
   "metadata": {},
   "source": [
    "# Example:"
   ]
  },
  {
   "cell_type": "markdown",
   "metadata": {},
   "source": [
    "Input: [8,5,1,7,10,12]\n",
    "\n",
    "Output: [8,5,10,1,7,null,12]"
   ]
  },
  {
   "cell_type": "markdown",
   "metadata": {},
   "source": [
    "# Solution:"
   ]
  },
  {
   "cell_type": "code",
   "execution_count": 8,
   "metadata": {},
   "outputs": [],
   "source": [
    "# Definition for binary tree node.\n",
    "class TreeNode(object):\n",
    "    \"\"\"定义树的节点\"\"\"\n",
    "    \n",
    "    def __init__(self, x):\n",
    "        self.val = x\n",
    "        self.left = None\n",
    "        self.right = None\n",
    "        \n",
    "    def __call__(self):\n",
    "        cur = self\n",
    "        queue = [cur]\n",
    "        l = [cur.val]\n",
    "        while queue:\n",
    "            cur = queue.pop(0)\n",
    "\n",
    "            if not cur.left:\n",
    "                l.append(None)\n",
    "            else:\n",
    "                queue.append(cur.left)\n",
    "                l.append(cur.left.val)\n",
    "                \n",
    "            if not cur.right:\n",
    "                l.append(None)\n",
    "            else:\n",
    "                queue.append(cur.right)\n",
    "                l.append(cur.right.val)\n",
    "        \n",
    "        while l[-1] is None:\n",
    "            l.pop()\n",
    "                \n",
    "        return l\n",
    "\n",
    "class BinaryTree(object):\n",
    "    \"\"\"定义二叉树\"\"\"\n",
    "    \n",
    "    def __init__(self, numList):\n",
    "        self.root = self.buildBinaryTree(numList, 0)\n",
    "        \n",
    "    def buildBinaryTree(self, numList, index):\n",
    "        if index > len(numList) - 1 or numList[index] == None:\n",
    "            return None\n",
    "        \n",
    "        root = TreeNode(numList[index])\n",
    "        root.left = self.buildBinaryTree(numList, 2 * index + 1)\n",
    "        root.right = self.buildBinaryTree(numList, 2 * index + 2)\n",
    "        \n",
    "        return root\n",
    "            \n",
    "    def __call__(self):\n",
    "        root = self.root\n",
    "                \n",
    "        return root()"
   ]
  },
  {
   "cell_type": "code",
   "execution_count": 9,
   "metadata": {},
   "outputs": [],
   "source": [
    "class Solution_1(object):\n",
    "    \"\"\"递归\"\"\"\n",
    "    \n",
    "    def bstFromPreorder(self, preorder):\n",
    "        \"\"\"\n",
    "        :type preorder: List[int]\n",
    "        :rtype: TreeNode\n",
    "        \"\"\"\n",
    "        if not preorder:\n",
    "            return None\n",
    "        \n",
    "        root = TreeNode(preorder[0])\n",
    "        \n",
    "        if len(preorder) > 1:\n",
    "            i = 1\n",
    "            while i < len(preorder) and preorder[i] < preorder[0]:\n",
    "                i += 1\n",
    "            root.left = self.bstFromPreorder(preorder[1:i])\n",
    "            root.right = self.bstFromPreorder(preorder[i:])\n",
    "            \n",
    "        return root"
   ]
  },
  {
   "cell_type": "code",
   "execution_count": 10,
   "metadata": {},
   "outputs": [],
   "source": [
    "class Solution_2(object):\n",
    "    \"\"\"迭代，栈\"\"\"\n",
    "    \n",
    "    def bstFromPreorder(self, preorder):\n",
    "        \"\"\"\n",
    "        :type preorder: List[int]\n",
    "        :rtype: TreeNode\n",
    "        \"\"\"\n",
    "        if not preorder:\n",
    "            return None\n",
    "        \n",
    "        node = root = TreeNode(preorder[0])\n",
    "        stack = [root]\n",
    "        \n",
    "        i = 1\n",
    "        while i < len(preorder):\n",
    "            if preorder[i] < node.val:\n",
    "                node.left = TreeNode(preorder[i])\n",
    "                node = node.left\n",
    "            \n",
    "            else:\n",
    "                while stack and stack[-1].val < preorder[i]:\n",
    "                    node = stack.pop()\n",
    "                node.right = TreeNode(preorder[i])\n",
    "                node = node.right\n",
    "                \n",
    "            stack.append(node)\n",
    "            i += 1\n",
    "        \n",
    "        return root"
   ]
  },
  {
   "cell_type": "code",
   "execution_count": 11,
   "metadata": {},
   "outputs": [],
   "source": [
    "class Solution_3(object):\n",
    "    \"\"\"递归，复杂度O(n)\"\"\"\n",
    "    \n",
    "    def bstFromPreorder(self, preorder):\n",
    "        \"\"\"\n",
    "        :type preorder: List[int]\n",
    "        :rtype: TreeNode\n",
    "        \"\"\"\n",
    "        self.i = 0\n",
    "        return self.helper(preorder)\n",
    "        \n",
    "    def helper(self, A, bound=float('inf')):\n",
    "        if self.i == len(A) or A[self.i] > bound:\n",
    "            return None\n",
    "        root = TreeNode(A[self.i])\n",
    "        self.i += 1\n",
    "        root.left = self.helper(A, root.val)\n",
    "        root.right = self.helper(A, bound)\n",
    "        return root"
   ]
  },
  {
   "cell_type": "code",
   "execution_count": 12,
   "metadata": {},
   "outputs": [],
   "source": [
    "class Solution_4(object):\n",
    "    \"\"\"递归，二分查找\"\"\"\n",
    "    \n",
    "    def bstFromPreorder(self, preorder):\n",
    "        if preorder:\n",
    "            root = TreeNode(preorder[0])\n",
    "            if len(preorder)>1:\n",
    "                l, r = 1, len(preorder) - 1\n",
    "                while l <= r:\n",
    "                    j = (l + r) // 2\n",
    "                    if j > 1 and preorder[j] > preorder[0] and preorder[j-1] > preorder[0]:\n",
    "                        r = j-1\n",
    "                    elif preorder[j] < preorder[0] and (preorder[j-1] < preorder[0] or j == 1):\n",
    "                        l = j+1\n",
    "                    else:\n",
    "                        break\n",
    "                if l >= len(preorder):\n",
    "                    j += 1\n",
    "                root.left = self.bstFromPreorder(preorder[1:j])\n",
    "                root.right = self.bstFromPreorder(preorder[j:])\n",
    "            return root"
   ]
  },
  {
   "cell_type": "markdown",
   "metadata": {},
   "source": [
    "# Test:"
   ]
  },
  {
   "cell_type": "code",
   "execution_count": 13,
   "metadata": {},
   "outputs": [
    {
     "name": "stdout",
     "output_type": "stream",
     "text": [
      "[8, 5, 10, 1, 7, None, 12]\n",
      "[8, 5, 10, 1, 7, None, 12]\n",
      "[8, 5, 10, 1, 7, None, 12]\n",
      "[8, 5, 10, 1, 7, None, 12]\n"
     ]
    }
   ],
   "source": [
    "if __name__ == '__main__':\n",
    "    s_1 = Solution_1()\n",
    "    s_2 = Solution_2()\n",
    "    s_3 = Solution_3()\n",
    "    s_4 = Solution_4()\n",
    "    print(s_1.bstFromPreorder([8,5,1,7,10,12])())\n",
    "    print(s_2.bstFromPreorder([8,5,1,7,10,12])())\n",
    "    print(s_3.bstFromPreorder([8,5,1,7,10,12])())\n",
    "    print(s_4.bstFromPreorder([8,5,1,7,10,12])())"
   ]
  }
 ],
 "metadata": {
  "kernelspec": {
   "display_name": "Python 3",
   "language": "python",
   "name": "python3"
  },
  "language_info": {
   "codemirror_mode": {
    "name": "ipython",
    "version": 3
   },
   "file_extension": ".py",
   "mimetype": "text/x-python",
   "name": "python",
   "nbconvert_exporter": "python",
   "pygments_lexer": "ipython3",
   "version": "3.7.1"
  }
 },
 "nbformat": 4,
 "nbformat_minor": 2
}
