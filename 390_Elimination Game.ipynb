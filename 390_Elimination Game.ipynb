{
 "cells": [
  {
   "cell_type": "markdown",
   "metadata": {},
   "source": [
    "# Description:"
   ]
  },
  {
   "cell_type": "markdown",
   "metadata": {},
   "source": [
    "There is a list of sorted integers from 1 to n. Starting from left to right, remove the first number and every other number afterward until you reach the end of the list.\n",
    "\n",
    "Repeat the previous step again, but this time from right to left, remove the right most number and every other number from the remaining numbers.\n",
    "\n",
    "We keep repeating the steps again, alternating left to right and right to left, until a single number remains.\n",
    "\n",
    "Find the last number that remains starting with a list of length n."
   ]
  },
  {
   "cell_type": "markdown",
   "metadata": {},
   "source": [
    "# Example:"
   ]
  },
  {
   "cell_type": "markdown",
   "metadata": {},
   "source": [
    "Input:\n",
    "n = 9,\n",
    "\n",
    "1 2 3 4 5 6 7 8 9\n",
    "\n",
    "2 4 6 8\n",
    "\n",
    "2 6\n",
    "\n",
    "6\n",
    "\n",
    "Output:\n",
    "6"
   ]
  },
  {
   "cell_type": "markdown",
   "metadata": {},
   "source": [
    "# Solution:"
   ]
  },
  {
   "cell_type": "code",
   "execution_count": 1,
   "metadata": {},
   "outputs": [],
   "source": [
    "class Solution_1:\n",
    "    \"\"\"每执行两步动作以后，剩下的数字的个数为n对4的商。如果n对4取余为0或1，则两步以后的列表为[2,6,10,...]; 若为3或4，\n",
    "    则两步以后的列表为[4,8,12,...]。设定基本情况的解，调用递归函数。\"\"\"\n",
    "    \n",
    "    def lastRemaining(self, n):\n",
    "        \"\"\"\n",
    "        :type n: int\n",
    "        :rtype: int\n",
    "        \"\"\"\n",
    "        if n == 1:\n",
    "            return 1\n",
    "        if n == 2 or n == 3:\n",
    "            return 2\n",
    "        temp = self.lastRemaining(n // 4)\n",
    "        if n % 4 == 1 or n % 4 == 0:\n",
    "            return 4 * temp - 2\n",
    "        else:\n",
    "            return 4 * temp"
   ]
  },
  {
   "cell_type": "markdown",
   "metadata": {},
   "source": [
    "# Test:"
   ]
  },
  {
   "cell_type": "code",
   "execution_count": 2,
   "metadata": {},
   "outputs": [
    {
     "name": "stdout",
     "output_type": "stream",
     "text": [
      "6\n"
     ]
    }
   ],
   "source": [
    "if __name__ == '__main__':\n",
    "    s_1 = Solution_1()\n",
    "    print (s_1.lastRemaining(9))"
   ]
  },
  {
   "cell_type": "code",
   "execution_count": 1,
   "metadata": {},
   "outputs": [
    {
     "data": {
      "text/plain": [
       "[4, 2]"
      ]
     },
     "execution_count": 1,
     "metadata": {},
     "output_type": "execute_result"
    }
   ],
   "source": [
    "a=[1,2,3,4,5]\n",
    "a[-2::-2]"
   ]
  },
  {
   "cell_type": "code",
   "execution_count": null,
   "metadata": {},
   "outputs": [],
   "source": []
  }
 ],
 "metadata": {
  "kernelspec": {
   "display_name": "Python 3",
   "language": "python",
   "name": "python3"
  },
  "language_info": {
   "codemirror_mode": {
    "name": "ipython",
    "version": 3
   },
   "file_extension": ".py",
   "mimetype": "text/x-python",
   "name": "python",
   "nbconvert_exporter": "python",
   "pygments_lexer": "ipython3",
   "version": "3.7.1"
  }
 },
 "nbformat": 4,
 "nbformat_minor": 2
}
