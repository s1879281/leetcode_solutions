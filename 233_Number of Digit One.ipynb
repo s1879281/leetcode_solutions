{
 "cells": [
  {
   "cell_type": "markdown",
   "metadata": {},
   "source": [
    "# Description:"
   ]
  },
  {
   "cell_type": "markdown",
   "metadata": {},
   "source": [
    "Given an integer n, count the total number of digit 1 appearing in all non-negative integers less than or equal to n."
   ]
  },
  {
   "cell_type": "markdown",
   "metadata": {},
   "source": [
    "# Example:"
   ]
  },
  {
   "cell_type": "markdown",
   "metadata": {},
   "source": [
    "Input: 13\n",
    "\n",
    "Output: 6 \n",
    "\n",
    "Explanation: Digit 1 occurred in the following numbers: 1, 10, 11, 12, 13."
   ]
  },
  {
   "cell_type": "markdown",
   "metadata": {},
   "source": [
    "# Solution:"
   ]
  },
  {
   "cell_type": "code",
   "execution_count": 12,
   "metadata": {},
   "outputs": [],
   "source": [
    "class Solution_1:\n",
    "    \"\"\"\n",
    "    if n = xyzdabc, considering the occurrence of one on thousand, it should be:\n",
    "    (1) xyz * 1000                     if d == 0\n",
    "    (2) xyz * 1000 + abc + 1           if d == 1\n",
    "    (3) xyz * 1000 + 1000              if d > 1\n",
    "    \"\"\"\n",
    "    \n",
    "    def countDigitOne(self, n):\n",
    "        \"\"\"\n",
    "        :type n: int\n",
    "        :rtype: int\n",
    "        \"\"\"\n",
    "        res = 0\n",
    "        \n",
    "        d = 1\n",
    "        \n",
    "        while n // d > 0:\n",
    "            pre, post = n // d, n % d\n",
    "            res += (pre % 10 == 1) * (post + 1) + (pre % 10 > 1) * d + pre // 10 * d\n",
    "            d *= 10\n",
    "            \n",
    "        return res"
   ]
  },
  {
   "cell_type": "markdown",
   "metadata": {},
   "source": [
    "# Test:"
   ]
  },
  {
   "cell_type": "code",
   "execution_count": 13,
   "metadata": {},
   "outputs": [
    {
     "name": "stdout",
     "output_type": "stream",
     "text": [
      "6\n"
     ]
    }
   ],
   "source": [
    "if __name__ == '__main__':\n",
    "    s_1 = Solution_1()\n",
    "    print (s_1.countDigitOne(13))"
   ]
  }
 ],
 "metadata": {
  "kernelspec": {
   "display_name": "Python 3",
   "language": "python",
   "name": "python3"
  },
  "language_info": {
   "codemirror_mode": {
    "name": "ipython",
    "version": 3
   },
   "file_extension": ".py",
   "mimetype": "text/x-python",
   "name": "python",
   "nbconvert_exporter": "python",
   "pygments_lexer": "ipython3",
   "version": "3.7.1"
  }
 },
 "nbformat": 4,
 "nbformat_minor": 2
}
