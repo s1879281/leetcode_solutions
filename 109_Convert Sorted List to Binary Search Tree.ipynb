{
 "cells": [
  {
   "cell_type": "markdown",
   "metadata": {},
   "source": [
    "# Description:"
   ]
  },
  {
   "cell_type": "markdown",
   "metadata": {},
   "source": [
    "Given a singly linked list where elements are sorted in ascending order, convert it to a height balanced BST.\n",
    "\n",
    "For this problem, a height-balanced binary tree is defined as a binary tree in which the depth of the two subtrees of every node never differ by more than 1."
   ]
  },
  {
   "cell_type": "markdown",
   "metadata": {},
   "source": [
    "# Example:"
   ]
  },
  {
   "cell_type": "markdown",
   "metadata": {},
   "source": [
    "Given the sorted linked list: [-10,-3,0,5,9],\n",
    "\n",
    "One possible answer is: [0,-3,9,-10,null,5], which represents the following height balanced BST."
   ]
  },
  {
   "cell_type": "markdown",
   "metadata": {},
   "source": [
    "# Solution:"
   ]
  },
  {
   "cell_type": "code",
   "execution_count": 18,
   "metadata": {},
   "outputs": [],
   "source": [
    "# Definition for binary tree node.\n",
    "class TreeNode(object):\n",
    "    \"\"\"定义树的节点\"\"\"\n",
    "    \n",
    "    def __init__(self, x):\n",
    "        self.val = x\n",
    "        self.left = None\n",
    "        self.right = None\n",
    "        \n",
    "    def __call__(self):\n",
    "        cur = self\n",
    "        queue = [cur]\n",
    "        l = [cur.val]\n",
    "        while queue:\n",
    "            cur = queue.pop(0)\n",
    "\n",
    "            if not cur.left:\n",
    "                l.append(None)\n",
    "            else:\n",
    "                queue.append(cur.left)\n",
    "                l.append(cur.left.val)\n",
    "                \n",
    "            if not cur.right:\n",
    "                l.append(None)\n",
    "            else:\n",
    "                queue.append(cur.right)\n",
    "                l.append(cur.right.val)\n",
    "        \n",
    "        while l[-1] is None:\n",
    "            l.pop()\n",
    "                \n",
    "        return l\n",
    "\n",
    "class BinaryTree(object):\n",
    "    \"\"\"定义二叉树\"\"\"\n",
    "    \n",
    "    def __init__(self, numList):\n",
    "        self.root = self.buildBinaryTree(numList, 0)\n",
    "        \n",
    "    def buildBinaryTree(self, numList, index):\n",
    "        if index > len(numList) - 1 or numList[index] == None:\n",
    "            return None\n",
    "        \n",
    "        root = TreeNode(numList[index])\n",
    "        root.left = self.buildBinaryTree(numList, 2 * index + 1)\n",
    "        root.right = self.buildBinaryTree(numList, 2 * index + 2)\n",
    "        \n",
    "        return root\n",
    "            \n",
    "    def __call__(self):\n",
    "        root = self.root\n",
    "                \n",
    "        return root()"
   ]
  },
  {
   "cell_type": "code",
   "execution_count": 19,
   "metadata": {},
   "outputs": [],
   "source": [
    "# Definition for singly-linked list.\n",
    "class ListNode(object):\n",
    "    \"\"\"定义链表节点\"\"\"\n",
    "    \n",
    "    def __init__(self, x):\n",
    "        self.val = x\n",
    "        self.next = None\n",
    "        \n",
    "    def __call__(self):\n",
    "        l = [self.val]\n",
    "        cur = self\n",
    "        while cur.next is not None:\n",
    "            cur = cur.next\n",
    "            l.append(cur.val)\n",
    "        return l\n",
    "\n",
    "class LinkedList(object):\n",
    "    \"\"\"定义链表\"\"\"\n",
    "    \n",
    "    def __init__(self, numList):\n",
    "        if len(numList) == 0:\n",
    "            self.head = None\n",
    "        else:\n",
    "            self.head = cur = ListNode(numList[0])\n",
    "            index = 1\n",
    "            while index < len(numList):\n",
    "                cur.next = ListNode(numList[index])\n",
    "                cur = cur.next\n",
    "                index += 1\n",
    "            \n",
    "    def __call__(self):\n",
    "        head = self.head\n",
    "        return head()"
   ]
  },
  {
   "cell_type": "code",
   "execution_count": 20,
   "metadata": {},
   "outputs": [],
   "source": [
    "class Solution_1(object):\n",
    "    \"\"\"递归，时间复杂度O(n)\"\"\"\n",
    "    \n",
    "    def sortedListToBST(self, head):\n",
    "        \"\"\"\n",
    "        :type head: ListNode\n",
    "        :rtype: TreeNode\n",
    "        \"\"\"\n",
    "        def sortedArrayToBST(array, left, right):\n",
    "            if left > right:\n",
    "                return None\n",
    "            \n",
    "            mid = (left + right + 1) // 2\n",
    "        \n",
    "            root = TreeNode(array[mid])\n",
    "            root.left = sortedArrayToBST(array, left, mid - 1)\n",
    "            root.right = sortedArrayToBST(array, mid + 1, right)\n",
    "            \n",
    "            return root\n",
    "        \n",
    "        l = []\n",
    "        while head:\n",
    "            l.append(head.val)\n",
    "            head = head.next\n",
    "        return sortedArrayToBST(l, 0, len(l) - 1)"
   ]
  },
  {
   "cell_type": "code",
   "execution_count": 21,
   "metadata": {},
   "outputs": [],
   "source": [
    "class Solution_2(object):\n",
    "    \"\"\"自上而下，快慢游标，时间复杂度O(nlgn)\"\"\"\n",
    "    \n",
    "    def sortedListToBST(self, head):\n",
    "        \"\"\"\n",
    "        :type head: ListNode\n",
    "        :rtype: TreeNode\n",
    "        \"\"\"\n",
    "        if not head:\n",
    "            return None\n",
    "        \n",
    "        if not head.next:\n",
    "            return TreeNode(head.val)\n",
    "        \n",
    "        dummy = ListNode(0)\n",
    "        dummy.next = head\n",
    "        \n",
    "        slow, fast = dummy, head\n",
    "        \n",
    "        while fast and fast.next:\n",
    "            slow = slow.next\n",
    "            fast = fast.next.next\n",
    "            \n",
    "        root = TreeNode(slow.next.val)\n",
    "        root.right = self.sortedListToBST(slow.next.next)\n",
    "        slow.next = None\n",
    "        root.left = self.sortedListToBST(head)\n",
    "        \n",
    "        return root"
   ]
  },
  {
   "cell_type": "markdown",
   "metadata": {},
   "source": [
    "# Test:"
   ]
  },
  {
   "cell_type": "code",
   "execution_count": 22,
   "metadata": {},
   "outputs": [
    {
     "name": "stdout",
     "output_type": "stream",
     "text": [
      "[0, -3, 9, -10, None, 5]\n",
      "[0, -3, 9, -10, None, 5]\n"
     ]
    }
   ],
   "source": [
    "if __name__ == '__main__':\n",
    "    s_1 = Solution_1()\n",
    "    s_2 = Solution_2()\n",
    "    s_3 = Solution_3()\n",
    "    list1 = LinkedList([-10,-3,0,5,9])\n",
    "    l1 = list1.head\n",
    "    print(s_1.sortedListToBST(l1)())\n",
    "    list2 = LinkedList([-10,-3,0,5,9])\n",
    "    l2 = list2.head\n",
    "    print(s_2.sortedListToBST(l2)())"
   ]
  }
 ],
 "metadata": {
  "kernelspec": {
   "display_name": "Python 3",
   "language": "python",
   "name": "python3"
  },
  "language_info": {
   "codemirror_mode": {
    "name": "ipython",
    "version": 3
   },
   "file_extension": ".py",
   "mimetype": "text/x-python",
   "name": "python",
   "nbconvert_exporter": "python",
   "pygments_lexer": "ipython3",
   "version": "3.6.8"
  }
 },
 "nbformat": 4,
 "nbformat_minor": 2
}
