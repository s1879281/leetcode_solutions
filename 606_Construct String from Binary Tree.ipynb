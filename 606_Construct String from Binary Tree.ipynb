{
 "cells": [
  {
   "cell_type": "markdown",
   "metadata": {},
   "source": [
    "# Description:"
   ]
  },
  {
   "cell_type": "markdown",
   "metadata": {},
   "source": [
    "You need to construct a string consists of parenthesis and integers from a binary tree with the preorder traversing way.\n",
    "The null node needs to be represented by empty parenthesis pair \"()\". \n",
    "\n",
    "And you need to omit all the empty parenthesis pairs that don't affect the one-to-one mapping relationship between the string and the original binary tree."
   ]
  },
  {
   "cell_type": "markdown",
   "metadata": {},
   "source": [
    "# Example:"
   ]
  },
  {
   "cell_type": "markdown",
   "metadata": {},
   "source": [
    "Input: Binary tree: [1,2,3,4]\n",
    "\n",
    "Output: \"1(2(4))(3)\"\n",
    "\n",
    "Explanation: Originallay it needs to be \"1(2(4)())(3()())\", \n",
    "but you need to omit all the unnecessary empty parenthesis pairs. \n",
    "And it will be \"1(2(4))(3)\"."
   ]
  },
  {
   "cell_type": "markdown",
   "metadata": {},
   "source": [
    "Input: Binary tree: [1,2,3,null,4]\n",
    "\n",
    "Output: \"1(2()(4))(3)\"\n",
    "\n",
    "Explanation: Almost the same as the first example, \n",
    "except we can't omit the first parenthesis pair to break the one-to-one mapping relationship between the input and the output."
   ]
  },
  {
   "cell_type": "markdown",
   "metadata": {},
   "source": [
    "# Solution:"
   ]
  },
  {
   "cell_type": "code",
   "execution_count": 6,
   "metadata": {},
   "outputs": [],
   "source": [
    "# Definition for binary tree node.\n",
    "class TreeNode(object):\n",
    "    \"\"\"定义树的节点\"\"\"\n",
    "    \n",
    "    def __init__(self, x):\n",
    "        self.val = x\n",
    "        self.left = None\n",
    "        self.right = None\n",
    "        \n",
    "    def __call__(self):\n",
    "        cur = self\n",
    "        queue = [cur]\n",
    "        l = [cur.val]\n",
    "        while queue:\n",
    "            cur = queue.pop(0)\n",
    "\n",
    "            if not cur.left:\n",
    "                l.append(None)\n",
    "            else:\n",
    "                queue.append(cur.left)\n",
    "                l.append(cur.left.val)\n",
    "                \n",
    "            if not cur.right:\n",
    "                l.append(None)\n",
    "            else:\n",
    "                queue.append(cur.right)\n",
    "                l.append(cur.right.val)\n",
    "        \n",
    "        while l[-1] is None:\n",
    "            l.pop()\n",
    "                \n",
    "        return l\n",
    "\n",
    "class BinaryTree(object):\n",
    "    \"\"\"定义二叉树\"\"\"\n",
    "    \n",
    "    def __init__(self, numList):\n",
    "        self.root = self.buildBinaryTree(numList, 0)\n",
    "        \n",
    "    def buildBinaryTree(self, numList, index):\n",
    "        if index > len(numList) - 1 or numList[index] == None:\n",
    "            return None\n",
    "        \n",
    "        root = TreeNode(numList[index])\n",
    "        root.left = self.buildBinaryTree(numList, 2 * index + 1)\n",
    "        root.right = self.buildBinaryTree(numList, 2 * index + 2)\n",
    "        \n",
    "        return root\n",
    "            \n",
    "    def __call__(self):\n",
    "        root = self.root\n",
    "                \n",
    "        return root()"
   ]
  },
  {
   "cell_type": "code",
   "execution_count": 9,
   "metadata": {},
   "outputs": [],
   "source": [
    "class Solution_1(object):\n",
    "    \"\"\"递归\"\"\"\n",
    "    \n",
    "    def tree2str(self, t):\n",
    "        \"\"\"\n",
    "        :type t: TreeNode\n",
    "        :rtype: str\n",
    "        \"\"\"\n",
    "        if not t:\n",
    "            return \"\"\n",
    "        s = str(t.val)\n",
    "        lc = self.tree2str(t.left)\n",
    "        rc = self.tree2str(t.right)\n",
    "        if not lc and not rc:\n",
    "            return s\n",
    "        if not rc:\n",
    "            return s + \"(\" + lc + \")\"\n",
    "        if not lc:\n",
    "            return s + \"()(\" + rc + \")\"\n",
    "        return s + \"(\" + lc + \")\" + \"(\" + rc + \")\""
   ]
  },
  {
   "cell_type": "markdown",
   "metadata": {},
   "source": [
    "# Test:"
   ]
  },
  {
   "cell_type": "code",
   "execution_count": 10,
   "metadata": {},
   "outputs": [
    {
     "name": "stdout",
     "output_type": "stream",
     "text": [
      "1(2()(4))(3)\n"
     ]
    }
   ],
   "source": [
    "if __name__ == '__main__':\n",
    "    s_1 = Solution_1()\n",
    "    tree = BinaryTree([1,2,3,None,4])\n",
    "    root = tree.root\n",
    "    print(s_1.tree2str(root))"
   ]
  }
 ],
 "metadata": {
  "kernelspec": {
   "display_name": "Python 3",
   "language": "python",
   "name": "python3"
  },
  "language_info": {
   "codemirror_mode": {
    "name": "ipython",
    "version": 3
   },
   "file_extension": ".py",
   "mimetype": "text/x-python",
   "name": "python",
   "nbconvert_exporter": "python",
   "pygments_lexer": "ipython3",
   "version": "3.7.1"
  }
 },
 "nbformat": 4,
 "nbformat_minor": 2
}
