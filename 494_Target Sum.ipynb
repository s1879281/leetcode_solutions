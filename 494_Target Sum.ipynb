{
 "cells": [
  {
   "cell_type": "markdown",
   "metadata": {},
   "source": [
    "# Description:"
   ]
  },
  {
   "cell_type": "markdown",
   "metadata": {},
   "source": [
    "You are given a list of non-negative integers, a1, a2, ..., an, and a target, S. Now you have 2 symbols + and -. For each integer, you should choose one from + and - as its new symbol. \n",
    "\n",
    "Find out how many ways to assign symbols to make sum of integers equal to target S. "
   ]
  },
  {
   "cell_type": "markdown",
   "metadata": {},
   "source": [
    "# Example:"
   ]
  },
  {
   "cell_type": "markdown",
   "metadata": {},
   "source": [
    "Input: nums is [1, 1, 1, 1, 1], S is 3.\n",
    "\n",
    "Output: 5\n",
    "\n",
    "Explanation: \n",
    "\n",
    "-1+1+1+1+1 = 3\n",
    "\n",
    "+1-1+1+1+1 = 3\n",
    "\n",
    "+1+1-1+1+1 = 3\n",
    "\n",
    "+1+1+1-1+1 = 3\n",
    "\n",
    "+1+1+1+1-1 = 3\n",
    "\n",
    "There are 5 ways to assign symbols to make the sum of nums be target 3."
   ]
  },
  {
   "cell_type": "markdown",
   "metadata": {},
   "source": [
    "# Solution:"
   ]
  },
  {
   "cell_type": "code",
   "execution_count": 32,
   "metadata": {},
   "outputs": [],
   "source": [
    "class Solution_1:\n",
    "    \"\"\"深度优先记忆化搜索\"\"\"\n",
    "    \n",
    "    def findTargetSumWays(self, nums, S):\n",
    "        \"\"\"\n",
    "        :type nums: List[int]\n",
    "        :type S: int\n",
    "        :rtype: int\n",
    "        \"\"\"\n",
    "        nums.sort()\n",
    "        self.dp = {}\n",
    "        return self.helper(nums, 0, S)\n",
    "        \n",
    "    def helper(self, nums, start, target):\n",
    "        if (start, target) in self.dp:\n",
    "            return self.dp[(start, target)]\n",
    "        if start == len(nums) - 1:\n",
    "            if nums[start] != abs(target):\n",
    "                return 0\n",
    "            if nums[start] == 0:\n",
    "                return 2\n",
    "            return 1\n",
    "        self.dp[(start, target)] = self.helper(nums, start + 1, target - nums[start])\\\n",
    "                + self.helper(nums, start + 1, target + nums[start])\n",
    "        return self.dp[(start, target)]"
   ]
  },
  {
   "cell_type": "markdown",
   "metadata": {},
   "source": [
    "# Test:"
   ]
  },
  {
   "cell_type": "code",
   "execution_count": 33,
   "metadata": {},
   "outputs": [
    {
     "name": "stdout",
     "output_type": "stream",
     "text": [
      "5\n"
     ]
    }
   ],
   "source": [
    "if __name__ == '__main__':\n",
    "    s_1 = Solution_1()\n",
    "    print (s_1.findTargetSumWays([1, 1, 1, 1, 1], 3))"
   ]
  }
 ],
 "metadata": {
  "kernelspec": {
   "display_name": "Python 3",
   "language": "python",
   "name": "python3"
  },
  "language_info": {
   "codemirror_mode": {
    "name": "ipython",
    "version": 3
   },
   "file_extension": ".py",
   "mimetype": "text/x-python",
   "name": "python",
   "nbconvert_exporter": "python",
   "pygments_lexer": "ipython3",
   "version": "3.7.1"
  }
 },
 "nbformat": 4,
 "nbformat_minor": 2
}
