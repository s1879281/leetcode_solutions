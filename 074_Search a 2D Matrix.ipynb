{
 "cells": [
  {
   "cell_type": "markdown",
   "metadata": {},
   "source": [
    "# Description:"
   ]
  },
  {
   "cell_type": "markdown",
   "metadata": {},
   "source": [
    "Write an efficient algorithm that searches for a value in an m x n matrix. This matrix has the following properties:\n",
    "Integers in each row are sorted from left to right.\n",
    "\n",
    "The first integer of each row is greater than the last integer of the previous row."
   ]
  },
  {
   "cell_type": "markdown",
   "metadata": {},
   "source": [
    "# Example:"
   ]
  },
  {
   "cell_type": "markdown",
   "metadata": {},
   "source": [
    "Input:\n",
    "\n",
    "matrix = [\n",
    "  [1,   3,  5,  7],\n",
    "  [10, 11, 16, 20],\n",
    "  [23, 30, 34, 50]\n",
    "]\n",
    "\n",
    "target = 3\n",
    "\n",
    "Output: true"
   ]
  },
  {
   "cell_type": "markdown",
   "metadata": {},
   "source": [
    "Input:\n",
    "    \n",
    "matrix = [\n",
    "  [1,   3,  5,  7],\n",
    "  [10, 11, 16, 20],\n",
    "  [23, 30, 34, 50]\n",
    "]\n",
    "\n",
    "target = 13\n",
    "\n",
    "Output: false"
   ]
  },
  {
   "cell_type": "markdown",
   "metadata": {},
   "source": [
    "# Solution:"
   ]
  },
  {
   "cell_type": "code",
   "execution_count": 5,
   "metadata": {},
   "outputs": [],
   "source": [
    "class Solution_1(object):\n",
    "    \"\"\"从左下角开始遍历，复杂度O(n)\"\"\"\n",
    "    \n",
    "    def searchMatrix(self, matrix, target):\n",
    "        \"\"\"\n",
    "        :type matrix: List[List[int]]\n",
    "        :type target: int\n",
    "        :rtype: bool\n",
    "        \"\"\"\n",
    "        i = len(matrix) - 1\n",
    "        j = 0\n",
    "        \n",
    "        while i >= 0 and j < len(matrix[0]):\n",
    "            if target == matrix[i][j]:\n",
    "                return True\n",
    "            \n",
    "            if target > matrix[i][j]:\n",
    "                j += 1\n",
    "            \n",
    "            else:\n",
    "                i -= 1\n",
    "                \n",
    "        return False"
   ]
  },
  {
   "cell_type": "code",
   "execution_count": 10,
   "metadata": {},
   "outputs": [],
   "source": [
    "class Solution_2:\n",
    "    \"\"\"二分查找，复杂度：O(nlgn)\"\"\"\n",
    "    \n",
    "    def searchMatrix(self, matrix, target):\n",
    "        \"\"\"\n",
    "        :type matrix: List[List[int]]\n",
    "        :type target: int\n",
    "        :rtype: bool\n",
    "        \"\"\"\n",
    "        l = []\n",
    "        for array in matrix:\n",
    "            l += array\n",
    "        return self.binarySearch(l, 0, len(l) - 1, target)\n",
    "        \n",
    "        \n",
    "    def binarySearch(self, nums, start, end, target):\n",
    "        if start > end:\n",
    "            return False\n",
    "        \n",
    "        mid = (start + end) // 2\n",
    "        \n",
    "        if nums[mid] == target:\n",
    "            return True\n",
    "        \n",
    "        if nums[mid] > target:\n",
    "            return self.binarySearch(nums, start, mid - 1, target)\n",
    "        \n",
    "        return self.binarySearch(nums, mid + 1, end, target)"
   ]
  },
  {
   "cell_type": "markdown",
   "metadata": {},
   "source": [
    "# Test:"
   ]
  },
  {
   "cell_type": "code",
   "execution_count": 11,
   "metadata": {},
   "outputs": [
    {
     "name": "stdout",
     "output_type": "stream",
     "text": [
      "True\n",
      "True\n"
     ]
    }
   ],
   "source": [
    "if __name__ == '__main__':\n",
    "    s_1 = Solution_1()\n",
    "    s_2 = Solution_2()\n",
    "    print (s_1.searchMatrix([[1, 3, 5, 7], [10, 11, 16, 20], [23, 30, 34, 50]], 3))\n",
    "    print (s_2.searchMatrix([[1, 3, 5, 7], [10, 11, 16, 20], [23, 30, 34, 50]], 3))"
   ]
  }
 ],
 "metadata": {
  "kernelspec": {
   "display_name": "Python 3",
   "language": "python",
   "name": "python3"
  },
  "language_info": {
   "codemirror_mode": {
    "name": "ipython",
    "version": 3
   },
   "file_extension": ".py",
   "mimetype": "text/x-python",
   "name": "python",
   "nbconvert_exporter": "python",
   "pygments_lexer": "ipython3",
   "version": "3.7.1"
  }
 },
 "nbformat": 4,
 "nbformat_minor": 2
}
