{
 "cells": [
  {
   "cell_type": "markdown",
   "metadata": {},
   "source": [
    "# Description:"
   ]
  },
  {
   "cell_type": "markdown",
   "metadata": {},
   "source": [
    "Given an unsorted array of integers, find the length of longest increasing subsequence."
   ]
  },
  {
   "cell_type": "markdown",
   "metadata": {},
   "source": [
    "# Example:"
   ]
  },
  {
   "cell_type": "markdown",
   "metadata": {},
   "source": [
    "Input: [10,9,2,5,3,7,101,18]\n",
    "\n",
    "Output: 4\n",
    "\n",
    "Explanation: The longest increasing subsequence is [2,3,7,101], therefore the length is 4. "
   ]
  },
  {
   "cell_type": "markdown",
   "metadata": {},
   "source": [
    "# Solution:"
   ]
  },
  {
   "cell_type": "code",
   "execution_count": 2,
   "metadata": {},
   "outputs": [],
   "source": [
    "class Solution_1:\n",
    "    \"\"\"二分查找+动态规划，复杂度O(nlgn)。按列表依次遍历，并更新dp列表，dp列表存储每个长度的所有上升子序列的最后一个值的最小值。\n",
    "    如例[2,3,7,101]，已遍历三个数时，dp[1]的值为长度为2的所有上升子序列[2,3]和[3,7]的最后一个值的最小值，即3。dp列表是递增的，\n",
    "    故可以用二分查找，寻找每个数可以插入的位置，计算以当前数构建的最大子序列的长度。\"\"\"\n",
    "    \n",
    "    def lengthOfLIS(self, nums):\n",
    "        \"\"\"\n",
    "        :type nums: List[int]\n",
    "        :rtype: int\n",
    "        \"\"\"\n",
    "        dp = [0] * len(nums)\n",
    "        size = 0\n",
    "        for n in nums:\n",
    "            l, r = 0, size\n",
    "            while l != r:\n",
    "                mid = (l + r) // 2\n",
    "                if dp[mid] < n:\n",
    "                    l = mid + 1\n",
    "                else:\n",
    "                    r = mid\n",
    "            dp[l] = n\n",
    "            size = max(l + 1, size)\n",
    "        return size"
   ]
  },
  {
   "cell_type": "markdown",
   "metadata": {},
   "source": [
    "# Test:"
   ]
  },
  {
   "cell_type": "code",
   "execution_count": 3,
   "metadata": {},
   "outputs": [
    {
     "name": "stdout",
     "output_type": "stream",
     "text": [
      "4\n"
     ]
    }
   ],
   "source": [
    "if __name__ == '__main__':\n",
    "    s_1 = Solution_1()\n",
    "    print(s_1.lengthOfLIS([2,3,7,101]))"
   ]
  }
 ],
 "metadata": {
  "kernelspec": {
   "display_name": "Python 3",
   "language": "python",
   "name": "python3"
  },
  "language_info": {
   "codemirror_mode": {
    "name": "ipython",
    "version": 3
   },
   "file_extension": ".py",
   "mimetype": "text/x-python",
   "name": "python",
   "nbconvert_exporter": "python",
   "pygments_lexer": "ipython3",
   "version": "3.7.1"
  }
 },
 "nbformat": 4,
 "nbformat_minor": 2
}
