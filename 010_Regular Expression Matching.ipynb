{
 "cells": [
  {
   "cell_type": "markdown",
   "metadata": {},
   "source": [
    "# Description:"
   ]
  },
  {
   "cell_type": "markdown",
   "metadata": {},
   "source": [
    "Given an input string (s) and a pattern (p), implement regular expression matching with support for '.' and '*'.\n",
    "\n",
    "'.' Matches any single character.\n",
    "\n",
    "'*' Matches zero or more of the preceding element.\n",
    "\n",
    "The matching should cover the entire input string (not partial)."
   ]
  },
  {
   "cell_type": "markdown",
   "metadata": {},
   "source": [
    "# Example:"
   ]
  },
  {
   "cell_type": "markdown",
   "metadata": {},
   "source": [
    "Input:\n",
    "\n",
    "s = \"aa\"\n",
    "\n",
    "p = \"a\"\n",
    "\n",
    "Output: false\n",
    "\n",
    "Explanation: \"a\" does not match the entire string \"aa\"."
   ]
  },
  {
   "cell_type": "markdown",
   "metadata": {},
   "source": [
    "Input:\n",
    "    \n",
    "s = \"aa\"\n",
    "\n",
    "p = \"a*\"\n",
    "\n",
    "Output: true\n",
    "    \n",
    "Explanation: '*' means zero or more of the preceding element, 'a'. Therefore, by repeating 'a' once, it becomes \"aa\"."
   ]
  },
  {
   "cell_type": "markdown",
   "metadata": {},
   "source": [
    "Input:\n",
    "    \n",
    "s = \"ab\"\n",
    "\n",
    "p = \".*\"\n",
    "\n",
    "Output: true\n",
    "    \n",
    "Explanation: \".*\" means \"zero or more (*) of any character (.)\"."
   ]
  },
  {
   "cell_type": "markdown",
   "metadata": {},
   "source": [
    "Input:\n",
    "    \n",
    "s = \"aab\"\n",
    "\n",
    "p = \"c\\*a\\*b\"\n",
    "\n",
    "Output: true\n",
    "    \n",
    "Explanation: c can be repeated 0 times, a can be repeated 1 time. Therefore, it matches \"aab\"."
   ]
  },
  {
   "cell_type": "markdown",
   "metadata": {},
   "source": [
    "Input:\n",
    "    \n",
    "s = \"mississippi\"\n",
    "\n",
    "p = \"mis\\*is\\*p\\*\\.\"\n",
    "\n",
    "Output: false"
   ]
  },
  {
   "cell_type": "markdown",
   "metadata": {},
   "source": [
    "# Solution:"
   ]
  },
  {
   "cell_type": "code",
   "execution_count": 8,
   "metadata": {},
   "outputs": [],
   "source": [
    "class Solution_1:\n",
    "    \"\"\"动态规划\"\"\"\n",
    "    \n",
    "    def isMatch(self, s, p):\n",
    "        \"\"\"\n",
    "        :type s: str\n",
    "        :type p: str\n",
    "        :rtype: bool\n",
    "        \"\"\"\n",
    "        dp = [[False] * (len(p) + 1) for _ in range(len(s) + 1)]\n",
    "        dp[0][0] = True\n",
    "        \n",
    "        for i in range(2, len(p) + 1):\n",
    "            dp[0][i] = dp[0][i - 2] if p[i - 1] == '*' else False       # s为空时的情况\n",
    "        \n",
    "        for i in range(1, len(s) + 1):\n",
    "            for j in range(1, len(p) + 1):\n",
    "                if p[j - 1] != '*':\n",
    "                    if dp[i - 1][j - 1] and (s[i - 1] == p[j - 1] or p[j - 1] == '.'):   # pattern中当前字符不为*，匹配两个字符串当前位置字符\n",
    "                        dp[i][j] = True \n",
    "                else:\n",
    "                    if dp[i][j - 2]:                                                     # pattern中*前面的字符匹配0个字符\n",
    "                        dp[i][j] = True\n",
    "                    if dp[i - 1][j] and (p[j - 2] == s[i - 1] or p[j - 2] == '.'):       # pattern中*前面的字符匹配1或多个字符\n",
    "                        dp[i][j] = True\n",
    "                        \n",
    "        return dp[-1][-1]"
   ]
  },
  {
   "cell_type": "markdown",
   "metadata": {},
   "source": [
    "# Test:"
   ]
  },
  {
   "cell_type": "code",
   "execution_count": 9,
   "metadata": {},
   "outputs": [
    {
     "name": "stdout",
     "output_type": "stream",
     "text": [
      "True\n",
      "True\n",
      "False\n"
     ]
    }
   ],
   "source": [
    "if __name__ == '__main__':\n",
    "    s_1 = Solution_1()\n",
    "    print (s_1.isMatch(\"aa\", \"a*\"))\n",
    "    print (s_1.isMatch(\"aab\", \"c*a*b\"))\n",
    "    print (s_1.isMatch(\"mississippi\", \"mis*is*p*.\"))"
   ]
  }
 ],
 "metadata": {
  "kernelspec": {
   "display_name": "Python 3",
   "language": "python",
   "name": "python3"
  },
  "language_info": {
   "codemirror_mode": {
    "name": "ipython",
    "version": 3
   },
   "file_extension": ".py",
   "mimetype": "text/x-python",
   "name": "python",
   "nbconvert_exporter": "python",
   "pygments_lexer": "ipython3",
   "version": "3.7.1"
  }
 },
 "nbformat": 4,
 "nbformat_minor": 2
}
