{
 "cells": [
  {
   "cell_type": "markdown",
   "metadata": {},
   "source": [
    "# Description:"
   ]
  },
  {
   "cell_type": "markdown",
   "metadata": {},
   "source": [
    "Given a list of non negative integers, arrange them such that they form the largest number."
   ]
  },
  {
   "cell_type": "markdown",
   "metadata": {},
   "source": [
    "# Example:"
   ]
  },
  {
   "cell_type": "markdown",
   "metadata": {},
   "source": [
    "Input: [10,2]\n",
    "\n",
    "Output: \"210\""
   ]
  },
  {
   "cell_type": "markdown",
   "metadata": {},
   "source": [
    "Input: [3,30,34,5,9]\n",
    "    \n",
    "Output: \"9534330\""
   ]
  },
  {
   "cell_type": "markdown",
   "metadata": {},
   "source": [
    "# Solution:"
   ]
  },
  {
   "cell_type": "code",
   "execution_count": 11,
   "metadata": {},
   "outputs": [],
   "source": [
    "class Element:\n",
    "    def __init__(self, num):\n",
    "        self.val = num\n",
    "        \n",
    "    def __eq__(self, other):\n",
    "        return str(self.val) + str(other.val) == str(other.val) + str(self.val)\n",
    "    \n",
    "    def __gt__(self, other):\n",
    "        return str(self.val) + str(other.val) > str(other.val) + str(self.val)\n",
    "\n",
    "    \n",
    "class Solution_1:\n",
    "    \"\"\"判断两个数字哪个应放前面：先将它们转换成字符串并拼接起来，比较s1+s2和s2+s1哪个大，如果s1+s2大，那说明s1应该放前面\"\"\"\n",
    "    \n",
    "    def largestNumber(self, nums):\n",
    "        \"\"\"\n",
    "        :type nums: List[int]\n",
    "        :rtype: str\n",
    "        \"\"\"\n",
    "        nums = [Element(num) for num in nums]\n",
    "        nums.sort(reverse=True)\n",
    "        return ''.join([str(elem.val) for elem in nums]).lstrip('0') or '0'"
   ]
  },
  {
   "cell_type": "markdown",
   "metadata": {},
   "source": [
    "# Test:"
   ]
  },
  {
   "cell_type": "code",
   "execution_count": 12,
   "metadata": {},
   "outputs": [
    {
     "name": "stdout",
     "output_type": "stream",
     "text": [
      "9534330\n"
     ]
    }
   ],
   "source": [
    "if __name__ == '__main__':\n",
    "    s_1 = Solution_1()\n",
    "    print (s_1.largestNumber([3,30,34,5,9]))"
   ]
  }
 ],
 "metadata": {
  "kernelspec": {
   "display_name": "Python 3",
   "language": "python",
   "name": "python3"
  },
  "language_info": {
   "codemirror_mode": {
    "name": "ipython",
    "version": 3
   },
   "file_extension": ".py",
   "mimetype": "text/x-python",
   "name": "python",
   "nbconvert_exporter": "python",
   "pygments_lexer": "ipython3",
   "version": "3.6.8"
  }
 },
 "nbformat": 4,
 "nbformat_minor": 2
}
