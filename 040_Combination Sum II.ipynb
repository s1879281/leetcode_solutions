{
 "cells": [
  {
   "cell_type": "markdown",
   "metadata": {},
   "source": [
    "# Description:"
   ]
  },
  {
   "cell_type": "markdown",
   "metadata": {},
   "source": [
    "Given a collection of candidate numbers (candidates) and a target number (target), find all unique combinations in candidates where the candidate numbers sums to target.\n",
    "\n",
    "Each number in candidates may only be used once in the combination."
   ]
  },
  {
   "cell_type": "markdown",
   "metadata": {},
   "source": [
    "# Example:"
   ]
  },
  {
   "cell_type": "markdown",
   "metadata": {},
   "source": [
    "Input: candidates = [10,1,2,7,6,1,5], target = 8,\n",
    "\n",
    "A solution set is:\n",
    "\n",
    "[\n",
    "  [1, 7],\n",
    "  [1, 2, 5],\n",
    "  [2, 6],\n",
    "  [1, 1, 6]\n",
    "]"
   ]
  },
  {
   "cell_type": "markdown",
   "metadata": {},
   "source": [
    "Input: candidates = [2,5,2,1,2], target = 5,\n",
    "\n",
    "A solution set is:\n",
    "\n",
    "[\n",
    "  [1,2,2],\n",
    "  [5]\n",
    "]"
   ]
  },
  {
   "cell_type": "markdown",
   "metadata": {},
   "source": [
    "# Solution:"
   ]
  },
  {
   "cell_type": "code",
   "execution_count": 11,
   "metadata": {},
   "outputs": [],
   "source": [
    "class Solution_1:\n",
    "    \"\"\"深度优先，相同数字剪枝\"\"\"\n",
    "    \n",
    "    def combinationSum(self, candidates, target):\n",
    "        \"\"\"\n",
    "        :type candidates: List[int]\n",
    "        :type target: int\n",
    "        :rtype: List[List[int]]\n",
    "        \"\"\"\n",
    "        res = []\n",
    "        candidates.sort()\n",
    "        self.dfs(candidates, target, 0, [], res)\n",
    "        return res\n",
    "          \n",
    "    def dfs(self, nums, target, index, path, res):\n",
    "        if target < 0:\n",
    "            return\n",
    "        \n",
    "        if target == 0:\n",
    "            res.append(path)\n",
    "            return\n",
    "        \n",
    "        for i in range(index, len(nums)):\n",
    "            #  important\n",
    "            if i > index and nums[i] == nums[i - 1]:\n",
    "                continue\n",
    "            \n",
    "            self.dfs(nums, target - nums[i], i + 1, path + [nums[i]], res)"
   ]
  },
  {
   "cell_type": "markdown",
   "metadata": {},
   "source": [
    "# Test:"
   ]
  },
  {
   "cell_type": "code",
   "execution_count": 12,
   "metadata": {},
   "outputs": [
    {
     "name": "stdout",
     "output_type": "stream",
     "text": [
      "[[1, 1, 6], [1, 2, 5], [1, 7], [2, 6]]\n"
     ]
    }
   ],
   "source": [
    "if __name__ == '__main__':\n",
    "    s_1 = Solution_1()\n",
    "    print (s_1.combinationSum([10,1,2,7,6,1,5], 8))"
   ]
  }
 ],
 "metadata": {
  "kernelspec": {
   "display_name": "Python 3",
   "language": "python",
   "name": "python3"
  },
  "language_info": {
   "codemirror_mode": {
    "name": "ipython",
    "version": 3
   },
   "file_extension": ".py",
   "mimetype": "text/x-python",
   "name": "python",
   "nbconvert_exporter": "python",
   "pygments_lexer": "ipython3",
   "version": "3.7.1"
  }
 },
 "nbformat": 4,
 "nbformat_minor": 2
}
