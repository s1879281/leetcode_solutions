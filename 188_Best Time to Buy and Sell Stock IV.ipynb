{
 "cells": [
  {
   "cell_type": "markdown",
   "metadata": {},
   "source": [
    "# Description:"
   ]
  },
  {
   "cell_type": "markdown",
   "metadata": {},
   "source": [
    "Say you have an array for which the ith element is the price of a given stock on day i.\n",
    "\n",
    "Design an algorithm to find the maximum profit. You may complete at most k transactions.\n",
    "\n",
    "Note:\n",
    "You may not engage in multiple transactions at the same time (ie, you must sell the stock before you buy again)."
   ]
  },
  {
   "cell_type": "markdown",
   "metadata": {},
   "source": [
    "# Example:"
   ]
  },
  {
   "cell_type": "markdown",
   "metadata": {},
   "source": [
    "Input: [2,4,1], k = 2\n",
    "\n",
    "Output: 2\n",
    "\n",
    "Explanation: Buy on day 1 (price = 2) and sell on day 2 (price = 4), profit = 4-2 = 2."
   ]
  },
  {
   "cell_type": "markdown",
   "metadata": {},
   "source": [
    "Input: [3,2,6,5,0,3], k = 2\n",
    "\n",
    "Output: 7\n",
    "\n",
    "Explanation: Buy on day 2 (price = 2) and sell on day 3 (price = 6), profit = 6-2 = 4.\n",
    "             Then buy on day 5 (price = 0) and sell on day 6 (price = 3), profit = 3-0 = 3."
   ]
  },
  {
   "cell_type": "markdown",
   "metadata": {},
   "source": [
    "# Solution:"
   ]
  },
  {
   "cell_type": "code",
   "execution_count": 1,
   "metadata": {},
   "outputs": [],
   "source": [
    "class Solution_1:\n",
    "    \"\"\"动态规划，复杂度O(k * n^2)\"\"\"\n",
    "    \n",
    "    def maxProfit(self, k, prices):\n",
    "        \"\"\"\n",
    "        :type k: int\n",
    "        :type prices: List[int]\n",
    "        :rtype: int\n",
    "        \"\"\"\n",
    "        if not prices:\n",
    "            return 0\n",
    "        dp = [[0] * len(prices) for _ in range(k + 1)]\n",
    "        for transaction in range(1, k + 1):\n",
    "            for day in range(1, len(prices)):\n",
    "                dp[transaction][day] = max(dp[transaction][day - 1], \\\n",
    "                                           max([prices[day] - prices[i] + dp[transaction - 1][i] for i in range(0, day)]))\n",
    "        return dp[-1][-1]"
   ]
  },
  {
   "cell_type": "code",
   "execution_count": 2,
   "metadata": {},
   "outputs": [],
   "source": [
    "class Solution_2:\n",
    "    \"\"\"动态规划的优化，复杂度O(k * n)\"\"\"\n",
    "    \n",
    "    def maxProfit(self, k, prices):\n",
    "        \"\"\"\n",
    "        :type k: int\n",
    "        :type prices: List[int]\n",
    "        :rtype: int\n",
    "        \"\"\"\n",
    "        if not prices:\n",
    "            return 0\n",
    "        dp = [[0] * len(prices) for _ in range(k + 1)]\n",
    "        for transaction in range(1, k + 1):\n",
    "            maxDiff = dp[transaction - 1][0] - prices[0]\n",
    "            for day in range(1, len(prices)):\n",
    "                maxDiff = max(maxDiff, dp[transaction - 1][day] - prices[day])\n",
    "                dp[transaction][day] = max(dp[transaction][day - 1], prices[day] + maxDiff)\n",
    "        return dp[-1][-1]"
   ]
  },
  {
   "cell_type": "code",
   "execution_count": 11,
   "metadata": {},
   "outputs": [],
   "source": [
    "class Solution_3:\n",
    "    \"\"\"动态规划的空间优化，时间复杂度O(k * n)，空间复杂度O(n)，k足够大时，时间复杂度为O(n)\"\"\"\n",
    "    \n",
    "    def maxProfit(self, k, prices):\n",
    "        \"\"\"\n",
    "        :type k: int\n",
    "        :type prices: List[int]\n",
    "        :rtype: int\n",
    "        \"\"\"\n",
    "        if not prices:\n",
    "            return 0\n",
    "        if k >= len(prices) / 2:\n",
    "            return sum(a - b for a, b in zip(prices[1:], prices[:-1]) if a > b)\n",
    "        dp0 = dp1 = [0] * len(prices)\n",
    "        for _ in range(1, k + 1):\n",
    "            maxDiff = dp1[0] - prices[0]\n",
    "            for day in range(1, len(prices)):\n",
    "                maxDiff = max(maxDiff, dp0[day] - prices[day])\n",
    "                dp1[day] = max(dp1[day - 1], prices[day] + maxDiff)\n",
    "            dp0 = dp1\n",
    "        return dp1[-1]"
   ]
  },
  {
   "cell_type": "markdown",
   "metadata": {},
   "source": [
    "# Test:"
   ]
  },
  {
   "cell_type": "code",
   "execution_count": 12,
   "metadata": {},
   "outputs": [
    {
     "name": "stdout",
     "output_type": "stream",
     "text": [
      "7\n",
      "7\n",
      "7\n"
     ]
    }
   ],
   "source": [
    "if __name__ == '__main__':\n",
    "    s_1 = Solution_1()\n",
    "    s_2 = Solution_2()\n",
    "    s_3 = Solution_3()\n",
    "    print (s_1.maxProfit(2,[3,2,6,5,0,3]))\n",
    "    print (s_2.maxProfit(2,[3,2,6,5,0,3]))\n",
    "    print (s_3.maxProfit(2,[3,2,6,5,0,3]))"
   ]
  }
 ],
 "metadata": {
  "kernelspec": {
   "display_name": "Python 3",
   "language": "python",
   "name": "python3"
  },
  "language_info": {
   "codemirror_mode": {
    "name": "ipython",
    "version": 3
   },
   "file_extension": ".py",
   "mimetype": "text/x-python",
   "name": "python",
   "nbconvert_exporter": "python",
   "pygments_lexer": "ipython3",
   "version": "3.7.1"
  }
 },
 "nbformat": 4,
 "nbformat_minor": 2
}
