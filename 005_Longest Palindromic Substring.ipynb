{
 "cells": [
  {
   "cell_type": "markdown",
   "metadata": {},
   "source": [
    "# Description:"
   ]
  },
  {
   "cell_type": "markdown",
   "metadata": {},
   "source": [
    "Given a string s, find the longest palindromic substring in s. You may assume that the maximum length of s is 1000."
   ]
  },
  {
   "cell_type": "markdown",
   "metadata": {},
   "source": [
    "# Example:"
   ]
  },
  {
   "cell_type": "markdown",
   "metadata": {},
   "source": [
    "Input: \"babad\"\n",
    "\n",
    "Output: \"bab\"\n",
    "\n",
    "Note: \"aba\" is also a valid answer."
   ]
  },
  {
   "cell_type": "markdown",
   "metadata": {},
   "source": [
    "Input: \"cbbd\"\n",
    "\n",
    "Output: \"bb\""
   ]
  },
  {
   "cell_type": "markdown",
   "metadata": {},
   "source": [
    "# Solution:"
   ]
  },
  {
   "cell_type": "code",
   "execution_count": 3,
   "metadata": {},
   "outputs": [],
   "source": [
    "class Solution_1:\n",
    "    \"\"\"先找出每个连续字符串。再向外扩展。\"\"\"\n",
    "    \n",
    "    def longestPalindrome(self, s):\n",
    "        \"\"\"\n",
    "        :type s: str\n",
    "        :rtype: str\n",
    "        \"\"\"\n",
    "        if not s:\n",
    "            return ''\n",
    "        i = cur = 0\n",
    "        pairs = []\n",
    "        while i < len(s):\n",
    "            if s[cur] != s[i]:\n",
    "                pairs.append([cur, i - 1])\n",
    "                cur = i\n",
    "            i += 1\n",
    "        pairs.append([cur, i - 1])\n",
    "        \n",
    "        maxLength = 0\n",
    "        maxPair = []\n",
    "        for pair in pairs:\n",
    "            while pair[0] - 1 >= 0 and pair[1] + 1 < len(s):\n",
    "                if s[pair[0] - 1] != s[pair[1] + 1]:\n",
    "                    break\n",
    "                pair[0] -= 1\n",
    "                pair[1] += 1\n",
    "                \n",
    "            if pair[1] - pair[0] + 1> maxLength:\n",
    "                maxLength = pair[1] - pair[0] + 1\n",
    "                maxPair = [pair[0], pair[1]]\n",
    "                \n",
    "        return s[maxPair[0]: maxPair[1] + 1]"
   ]
  },
  {
   "cell_type": "markdown",
   "metadata": {},
   "source": [
    "# Test:"
   ]
  },
  {
   "cell_type": "code",
   "execution_count": 4,
   "metadata": {},
   "outputs": [
    {
     "name": "stdout",
     "output_type": "stream",
     "text": [
      "aba\n"
     ]
    }
   ],
   "source": [
    "if __name__ == '__main__':\n",
    "    s_1 = Solution_1()\n",
    "    print (s_1.longestPalindrome('abab'))"
   ]
  }
 ],
 "metadata": {
  "kernelspec": {
   "display_name": "Python 3",
   "language": "python",
   "name": "python3"
  },
  "language_info": {
   "codemirror_mode": {
    "name": "ipython",
    "version": 3
   },
   "file_extension": ".py",
   "mimetype": "text/x-python",
   "name": "python",
   "nbconvert_exporter": "python",
   "pygments_lexer": "ipython3",
   "version": "3.6.8"
  }
 },
 "nbformat": 4,
 "nbformat_minor": 2
}
