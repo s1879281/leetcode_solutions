{
 "cells": [
  {
   "cell_type": "markdown",
   "metadata": {},
   "source": [
    "# Description:"
   ]
  },
  {
   "cell_type": "markdown",
   "metadata": {},
   "source": [
    "Given a non-empty array containing only positive integers, find if the array can be partitioned into two subsets such that the sum of elements in both subsets is equal."
   ]
  },
  {
   "cell_type": "markdown",
   "metadata": {},
   "source": [
    "# Example:"
   ]
  },
  {
   "cell_type": "markdown",
   "metadata": {},
   "source": [
    "Input: [1, 5, 11, 5]\n",
    "\n",
    "Output: true\n",
    "\n",
    "Explanation: The array can be partitioned as [1, 5, 5] and [11]."
   ]
  },
  {
   "cell_type": "markdown",
   "metadata": {},
   "source": [
    "Input: [1, 2, 3, 5]\n",
    "\n",
    "Output: false\n",
    "\n",
    "Explanation: The array cannot be partitioned into equal sum subsets."
   ]
  },
  {
   "cell_type": "markdown",
   "metadata": {},
   "source": [
    "# Solution:"
   ]
  },
  {
   "cell_type": "code",
   "execution_count": 3,
   "metadata": {},
   "outputs": [],
   "source": [
    "class Solution_1:\n",
    "    \"\"\"深度优先，记忆化搜索\"\"\"\n",
    "    \n",
    "    def canPartition(self, nums):\n",
    "        \"\"\"\n",
    "        :type nums: List[int]\n",
    "        :rtype: bool\n",
    "        \"\"\"\n",
    "        self.nums = sorted(nums, reverse=True)\n",
    "        self.cache = {}\n",
    "        return self.dfs([], 0, sum(nums) / 2)\n",
    "        \n",
    "    def dfs(self, path, i, target):\n",
    "        if target == 0:\n",
    "            return True\n",
    "        if target in self.cache:\n",
    "            return False\n",
    "        if target < 0:\n",
    "            return False\n",
    "        self.cache[target] = False\n",
    "        for index in range(i, len(self.nums)):\n",
    "            if self.dfs(path+[self.nums[index]], index+1, target-self.nums[index]):\n",
    "                return True\n",
    "        return False"
   ]
  },
  {
   "cell_type": "code",
   "execution_count": 20,
   "metadata": {},
   "outputs": [],
   "source": [
    "class Solution_2:\n",
    "    \"\"\"动态规划。dp[i][j]指在第i个数是否能得到和为j的组合。\"\"\"\n",
    "    \n",
    "    def canPartition(self, nums):\n",
    "        \"\"\"\n",
    "        :type nums: List[int]\n",
    "        :rtype: bool\n",
    "        \"\"\"\n",
    "        if sum(nums) % 2 != 0:\n",
    "            return False\n",
    "        target = sum(nums) // 2\n",
    "        self.dp = [[False for _ in range(target+1)] for _ in range(len(nums)+1)]\n",
    "        self.dp[0][0] = True\n",
    "        for i in range(1, len(nums)+1):\n",
    "            for j in range(target+1):\n",
    "                if j >= nums[i-1]:\n",
    "                    self.dp[i][j] = self.dp[i-1][j] or self.dp[i-1][j-nums[i-1]]\n",
    "                else:\n",
    "                    self.dp[i][j] = self.dp[i-1][j]\n",
    "                if self.dp[i][-1]:\n",
    "                    return True\n",
    "        return False"
   ]
  },
  {
   "cell_type": "markdown",
   "metadata": {},
   "source": [
    "# Test:"
   ]
  },
  {
   "cell_type": "code",
   "execution_count": 21,
   "metadata": {},
   "outputs": [
    {
     "name": "stdout",
     "output_type": "stream",
     "text": [
      "True False\n",
      "True False\n"
     ]
    }
   ],
   "source": [
    "if __name__ == '__main__':\n",
    "    s_1 = Solution_1()\n",
    "    s_2 = Solution_2()\n",
    "    print (s_1.canPartition([1, 5, 11, 5]), s_1.canPartition([1, 2, 3, 5]))\n",
    "    print (s_2.canPartition([1, 5, 11, 5]), s_2.canPartition([1, 2, 3, 5]))"
   ]
  },
  {
   "cell_type": "code",
   "execution_count": null,
   "metadata": {},
   "outputs": [],
   "source": []
  }
 ],
 "metadata": {
  "kernelspec": {
   "display_name": "Python 3",
   "language": "python",
   "name": "python3"
  },
  "language_info": {
   "codemirror_mode": {
    "name": "ipython",
    "version": 3
   },
   "file_extension": ".py",
   "mimetype": "text/x-python",
   "name": "python",
   "nbconvert_exporter": "python",
   "pygments_lexer": "ipython3",
   "version": "3.7.1"
  }
 },
 "nbformat": 4,
 "nbformat_minor": 2
}
