{
 "cells": [
  {
   "cell_type": "markdown",
   "metadata": {},
   "source": [
    "# Description:"
   ]
  },
  {
   "cell_type": "markdown",
   "metadata": {},
   "source": [
    "A robot is located at the top-left corner of a m x n grid (marked 'Start' in the diagram below).\n",
    "\n",
    "The robot can only move either down or right at any point in time. The robot is trying to reach the bottom-right corner of the grid (marked 'Finish' in the diagram below).\n",
    "\n",
    "Now consider if some obstacles are added to the grids. How many unique paths would there be?"
   ]
  },
  {
   "cell_type": "markdown",
   "metadata": {},
   "source": [
    "# Example:"
   ]
  },
  {
   "cell_type": "markdown",
   "metadata": {},
   "source": [
    "Input:\n",
    "\n",
    "[\n",
    "  [0,0,0],\n",
    "  [0,1,0],\n",
    "  [0,0,0]\n",
    "]\n",
    "\n",
    "Output: 2\n",
    "\n",
    "Explanation:\n",
    "\n",
    "There is one obstacle in the middle of the 3x3 grid above.\n",
    "\n",
    "There are two ways to reach the bottom-right corner:\n",
    "\n",
    "1. Right -> Right -> Down -> Down\n",
    "2. Down -> Down -> Right -> Right"
   ]
  },
  {
   "cell_type": "markdown",
   "metadata": {},
   "source": [
    "# Solution:"
   ]
  },
  {
   "cell_type": "code",
   "execution_count": 6,
   "metadata": {},
   "outputs": [],
   "source": [
    "class Solution_1:\n",
    "    \"\"\"动态规划\"\"\"\n",
    "    \n",
    "    def uniquePathsWithObstacles(self, obstacleGrid):\n",
    "        \"\"\"\n",
    "        :type obstacleGrid: List[List[int]]\n",
    "        :rtype: int\n",
    "        \"\"\"\n",
    "        m, n = len(obstacleGrid), len(obstacleGrid[0])\n",
    "        dp = [[0] * n for _ in range(m)]\n",
    "        for i in range(m):\n",
    "            if obstacleGrid[i][0] == 1:\n",
    "                break\n",
    "            dp[i][0] = 1\n",
    "        for j in range(n):\n",
    "            if obstacleGrid[0][j] == 1:\n",
    "                break\n",
    "            dp[0][j] = 1\n",
    "        for i in range(1, m):\n",
    "            for j in range(1, n):\n",
    "                if obstacleGrid[i][j] == 1:\n",
    "                    dp[i][j] = 0\n",
    "                else:\n",
    "                    dp[i][j] = dp[i - 1][j] + dp[i][j - 1]\n",
    "        return dp[m - 1][n - 1]"
   ]
  },
  {
   "cell_type": "code",
   "execution_count": 20,
   "metadata": {},
   "outputs": [],
   "source": [
    "class Solution_2:\n",
    "    \"\"\"深度优先记忆化搜索\"\"\"\n",
    "    \n",
    "    def uniquePathsWithObstacles(self, obstacleGrid):\n",
    "        \"\"\"\n",
    "        :type obstacleGrid: List[List[int]]\n",
    "        :rtype: int\n",
    "        \"\"\"\n",
    "        m, n = len(obstacleGrid), len(obstacleGrid[0])\n",
    "        self.obstacleGrid = obstacleGrid\n",
    "        self.dp = [[0] * n for _ in range(m)]\n",
    "        for i in range(m):\n",
    "            if obstacleGrid[i][0] == 1:\n",
    "                break\n",
    "            self.dp[i][0] = 1\n",
    "        for j in range(n):\n",
    "            if obstacleGrid[0][j] == 1:\n",
    "                break\n",
    "            self.dp[0][j] = 1\n",
    "        return self.helper(m - 1, n - 1)    \n",
    "            \n",
    "    def helper(self, m, n):\n",
    "        if self.dp[m][n] != 0 or m == 0 or n == 0:\n",
    "            return self.dp[m][n]\n",
    "        if self.obstacleGrid[m][n] == 1:\n",
    "            self.dp[m][n] = 0\n",
    "        else:\n",
    "            self.dp[m][n] = self.helper(m, n - 1) + self.helper(m - 1, n)\n",
    "        return self.dp[m][n]"
   ]
  },
  {
   "cell_type": "markdown",
   "metadata": {},
   "source": [
    "# Test:"
   ]
  },
  {
   "cell_type": "code",
   "execution_count": 21,
   "metadata": {},
   "outputs": [
    {
     "name": "stdout",
     "output_type": "stream",
     "text": [
      "2\n",
      "2\n"
     ]
    }
   ],
   "source": [
    "if __name__ == '__main__':\n",
    "    s_1 = Solution_1()\n",
    "    s_2 = Solution_2()\n",
    "    print(s_1.uniquePathsWithObstacles([[0,0,0], [0,1,0], [0,0,0]]))\n",
    "    print(s_2.uniquePathsWithObstacles([[0,0,0], [0,1,0], [0,0,0]]))"
   ]
  }
 ],
 "metadata": {
  "kernelspec": {
   "display_name": "Python 3",
   "language": "python",
   "name": "python3"
  },
  "language_info": {
   "codemirror_mode": {
    "name": "ipython",
    "version": 3
   },
   "file_extension": ".py",
   "mimetype": "text/x-python",
   "name": "python",
   "nbconvert_exporter": "python",
   "pygments_lexer": "ipython3",
   "version": "3.7.1"
  }
 },
 "nbformat": 4,
 "nbformat_minor": 2
}
