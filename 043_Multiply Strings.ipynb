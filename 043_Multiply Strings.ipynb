{
 "cells": [
  {
   "cell_type": "markdown",
   "metadata": {},
   "source": [
    "# Description:"
   ]
  },
  {
   "cell_type": "markdown",
   "metadata": {},
   "source": [
    "Given two non-negative integers num1 and num2 represented as strings, return the product of num1 and num2, also represented as a string.\n",
    "\n",
    "Note: You must not use any built-in BigInteger library or convert the inputs to integer directly."
   ]
  },
  {
   "cell_type": "markdown",
   "metadata": {},
   "source": [
    "# Example:"
   ]
  },
  {
   "cell_type": "markdown",
   "metadata": {},
   "source": [
    "Input: num1 = \"2\", num2 = \"3\"\n",
    "\n",
    "Output: \"6\""
   ]
  },
  {
   "cell_type": "markdown",
   "metadata": {},
   "source": [
    "Input: num1 = \"123\", num2 = \"456\"\n",
    "\n",
    "Output: \"56088\""
   ]
  },
  {
   "cell_type": "markdown",
   "metadata": {},
   "source": [
    "# Solution:"
   ]
  },
  {
   "cell_type": "code",
   "execution_count": 2,
   "metadata": {},
   "outputs": [],
   "source": [
    "class Solution(object):\n",
    "    \"\"\"模拟乘法计算\"\"\"\n",
    "    \n",
    "    def multiply(self, num1, num2):\n",
    "        \"\"\"\n",
    "        :type num1: str\n",
    "        :type num2: str\n",
    "        :rtype: str\n",
    "        \"\"\"\n",
    "        res = [0] * (len(num1) + len(num2))\n",
    "        pos = len(res) - 1\n",
    "        for n in reversed(num1):\n",
    "            cur_pos = pos\n",
    "            for m in reversed(num2):\n",
    "                res[cur_pos] += int(n) * int(m)\n",
    "                cur_pos -= 1\n",
    "            pos -= 1\n",
    "        carry = 0\n",
    "        for i in range(len(res) - 1, -1, -1):\n",
    "            res[i] += carry\n",
    "            carry = res[i] // 10\n",
    "            res[i] %= 10\n",
    "        res.insert(0, carry)\n",
    "        return ''.join(map(str, res)).lstrip('0') or '0'"
   ]
  },
  {
   "cell_type": "markdown",
   "metadata": {},
   "source": [
    "# Test:"
   ]
  },
  {
   "cell_type": "code",
   "execution_count": 3,
   "metadata": {},
   "outputs": [
    {
     "name": "stdout",
     "output_type": "stream",
     "text": [
      "56088\n"
     ]
    }
   ],
   "source": [
    "if __name__ == '__main__':\n",
    "    s = Solution()\n",
    "    print (s.multiply(\"123\", \"456\"))"
   ]
  }
 ],
 "metadata": {
  "kernelspec": {
   "display_name": "Python 3",
   "language": "python",
   "name": "python3"
  },
  "language_info": {
   "codemirror_mode": {
    "name": "ipython",
    "version": 3
   },
   "file_extension": ".py",
   "mimetype": "text/x-python",
   "name": "python",
   "nbconvert_exporter": "python",
   "pygments_lexer": "ipython3",
   "version": "3.7.1"
  }
 },
 "nbformat": 4,
 "nbformat_minor": 2
}
