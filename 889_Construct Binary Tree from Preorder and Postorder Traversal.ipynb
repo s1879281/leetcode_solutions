{
 "cells": [
  {
   "cell_type": "markdown",
   "metadata": {},
   "source": [
    "# Description:"
   ]
  },
  {
   "cell_type": "markdown",
   "metadata": {},
   "source": [
    "Return any binary tree that matches the given preorder and postorder traversals.\n",
    "\n",
    "Values in the traversals pre and post are distinct positive integers."
   ]
  },
  {
   "cell_type": "markdown",
   "metadata": {},
   "source": [
    "# Example:"
   ]
  },
  {
   "cell_type": "markdown",
   "metadata": {},
   "source": [
    "Input: pre = [1,2,4,5,3,6,7], post = [4,5,2,6,7,3,1]\n",
    "\n",
    "Output: [1,2,3,4,5,6,7]"
   ]
  },
  {
   "cell_type": "markdown",
   "metadata": {},
   "source": [
    "# Solution:"
   ]
  },
  {
   "cell_type": "code",
   "execution_count": 11,
   "metadata": {},
   "outputs": [],
   "source": [
    "# Definition for binary tree node.\n",
    "class TreeNode(object):\n",
    "    \"\"\"定义树的节点\"\"\"\n",
    "    \n",
    "    def __init__(self, x):\n",
    "        self.val = x\n",
    "        self.left = None\n",
    "        self.right = None\n",
    "        \n",
    "    def __call__(self):\n",
    "        cur = self\n",
    "        queue = [cur]\n",
    "        l = [cur.val]\n",
    "        while queue:\n",
    "            cur = queue.pop(0)\n",
    "\n",
    "            if not cur.left:\n",
    "                l.append(None)\n",
    "            else:\n",
    "                queue.append(cur.left)\n",
    "                l.append(cur.left.val)\n",
    "                \n",
    "            if not cur.right:\n",
    "                l.append(None)\n",
    "            else:\n",
    "                queue.append(cur.right)\n",
    "                l.append(cur.right.val)\n",
    "        \n",
    "        while l[-1] is None:\n",
    "            l.pop()\n",
    "                \n",
    "        return l\n",
    "\n",
    "class BinaryTree(object):\n",
    "    \"\"\"定义二叉树\"\"\"\n",
    "    \n",
    "    def __init__(self, numList):\n",
    "        self.root = self.buildBinaryTree(numList, 0)\n",
    "        \n",
    "    def buildBinaryTree(self, numList, index):\n",
    "        if index > len(numList) - 1 or numList[index] == None:\n",
    "            return None\n",
    "        \n",
    "        root = TreeNode(numList[index])\n",
    "        root.left = self.buildBinaryTree(numList, 2 * index + 1)\n",
    "        root.right = self.buildBinaryTree(numList, 2 * index + 2)\n",
    "        \n",
    "        return root\n",
    "            \n",
    "    def __call__(self):\n",
    "        root = self.root\n",
    "                \n",
    "        return root()"
   ]
  },
  {
   "cell_type": "code",
   "execution_count": 12,
   "metadata": {},
   "outputs": [],
   "source": [
    "class Solution_1(object):\n",
    "    \"\"\"递归\"\"\"\n",
    "    \n",
    "    def constructFromPrePost(self, pre, post):\n",
    "        \"\"\"\n",
    "        :type pre: List[int]\n",
    "        :type post: List[int]\n",
    "        :rtype: TreeNode\n",
    "        \"\"\"\n",
    "        if post:\n",
    "            root = TreeNode(pre.pop(0))\n",
    "            if len(post) > 1:\n",
    "                ind = post.index(pre[0])\n",
    "                root.left = self.constructFromPrePost(pre, post[:ind+1])\n",
    "                root.right = self.constructFromPrePost(pre, post[ind+1:-1])\n",
    "            return root"
   ]
  },
  {
   "cell_type": "markdown",
   "metadata": {},
   "source": [
    "# Test:"
   ]
  },
  {
   "cell_type": "code",
   "execution_count": 13,
   "metadata": {},
   "outputs": [
    {
     "name": "stdout",
     "output_type": "stream",
     "text": [
      "[1, 2, 3, 4, 5, 6, 7]\n"
     ]
    }
   ],
   "source": [
    "if __name__ == '__main__':\n",
    "    s_1 = Solution_1()\n",
    "    print(s_1.constructFromPrePost([1,2,4,5,3,6,7], [4,5,2,6,7,3,1])())"
   ]
  }
 ],
 "metadata": {
  "kernelspec": {
   "display_name": "Python 3",
   "language": "python",
   "name": "python3"
  },
  "language_info": {
   "codemirror_mode": {
    "name": "ipython",
    "version": 3
   },
   "file_extension": ".py",
   "mimetype": "text/x-python",
   "name": "python",
   "nbconvert_exporter": "python",
   "pygments_lexer": "ipython3",
   "version": "3.7.1"
  }
 },
 "nbformat": 4,
 "nbformat_minor": 2
}
