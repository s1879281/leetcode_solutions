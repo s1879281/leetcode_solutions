{
 "cells": [
  {
   "cell_type": "markdown",
   "metadata": {},
   "source": [
    "# Description:"
   ]
  },
  {
   "cell_type": "markdown",
   "metadata": {},
   "source": [
    "Given two strings str1 and str2, return the shortest string that has both str1 and str2 as subsequences. If there are multiple valid strings, return any of them.\n",
    "\n",
    "A string s is a subsequence of string t if deleting some number of characters from t (possibly 0) results in the string s."
   ]
  },
  {
   "cell_type": "markdown",
   "metadata": {},
   "source": [
    "# Example:"
   ]
  },
  {
   "cell_type": "markdown",
   "metadata": {},
   "source": [
    "Input: str1 = \"abac\", str2 = \"cab\"\n",
    "\n",
    "Output: \"cabac\""
   ]
  },
  {
   "cell_type": "markdown",
   "metadata": {},
   "source": [
    "Input: str1 = \"aaaaaaaa\", str2 = \"aaaaaaaa\"\n",
    "\n",
    "Output: \"aaaaaaaa\""
   ]
  },
  {
   "cell_type": "markdown",
   "metadata": {},
   "source": [
    "# Solution:"
   ]
  },
  {
   "cell_type": "code",
   "execution_count": 35,
   "metadata": {},
   "outputs": [],
   "source": [
    "class Solution:\n",
    "    \"\"\"动态规划\"\"\"\n",
    "    \n",
    "    def shortestCommonSupersequence(self, str1, str2):\n",
    "        dp = [[0] * (len(str2) + 1) for _ in range(len(str1) + 1)] \n",
    "        for i in range(1, len(str1) + 1):\n",
    "            for j in range(1, len(str2) + 1):\n",
    "                if str1[i - 1] == str2[j - 1]:\n",
    "                    dp[i][j] = dp[i - 1][j - 1] + 1\n",
    "                else:\n",
    "                    dp[i][j] = max(dp[i - 1][j], dp[i][j - 1])\n",
    "        res = \"\"\n",
    "        i, j = len(str1), len(str2)\n",
    "        while i >= 1 and j >= 1:\n",
    "            if str1[i - 1] == str2[j - 1]:\n",
    "                res = str1[i - 1] + res\n",
    "                i -= 1\n",
    "                j -= 1\n",
    "            elif dp[i][j - 1] > dp[i - 1][j]:\n",
    "                res = str2[j - 1] + res\n",
    "                j -= 1\n",
    "            else:\n",
    "                res = str1[i - 1] + res\n",
    "                i -= 1\n",
    "        return str1[:i] + str2[:j] + res"
   ]
  },
  {
   "cell_type": "markdown",
   "metadata": {},
   "source": [
    "# Test:"
   ]
  },
  {
   "cell_type": "code",
   "execution_count": 36,
   "metadata": {},
   "outputs": [
    {
     "name": "stdout",
     "output_type": "stream",
     "text": [
      "cabac\n"
     ]
    }
   ],
   "source": [
    "if __name__ == '__main__':\n",
    "    s = Solution()\n",
    "    print(s.shortestCommonSupersequence(\"abac\", \"cab\"))"
   ]
  }
 ],
 "metadata": {
  "kernelspec": {
   "display_name": "Python 3",
   "language": "python",
   "name": "python3"
  },
  "language_info": {
   "codemirror_mode": {
    "name": "ipython",
    "version": 3
   },
   "file_extension": ".py",
   "mimetype": "text/x-python",
   "name": "python",
   "nbconvert_exporter": "python",
   "pygments_lexer": "ipython3",
   "version": "3.7.1"
  }
 },
 "nbformat": 4,
 "nbformat_minor": 2
}
