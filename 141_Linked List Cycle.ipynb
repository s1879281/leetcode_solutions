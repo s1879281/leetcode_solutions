{
 "cells": [
  {
   "cell_type": "markdown",
   "metadata": {},
   "source": [
    "# Description:"
   ]
  },
  {
   "cell_type": "markdown",
   "metadata": {},
   "source": [
    "Given a linked list, determine if it has a cycle in it.\n",
    "\n",
    "To represent a cycle in the given linked list, we use an integer pos which represents the position (0-indexed) in the linked list where tail connects to. If pos is -1, then there is no cycle in the linked list."
   ]
  },
  {
   "cell_type": "markdown",
   "metadata": {},
   "source": [
    "# Example:"
   ]
  },
  {
   "cell_type": "markdown",
   "metadata": {},
   "source": [
    "Input: head = [3,2,0,-4], pos = 1\n",
    "\n",
    "Output: true\n",
    "\n",
    "Explanation: There is a cycle in the linked list, where tail connects to the second node."
   ]
  },
  {
   "cell_type": "markdown",
   "metadata": {},
   "source": [
    "Input: head = [1,2], pos = 0\n",
    "    \n",
    "Output: true\n",
    "    \n",
    "Explanation: There is a cycle in the linked list, where tail connects to the first node."
   ]
  },
  {
   "cell_type": "markdown",
   "metadata": {},
   "source": [
    "Input: head = [1], pos = -1\n",
    "    \n",
    "Output: false\n",
    "    \n",
    "Explanation: There is no cycle in the linked list."
   ]
  },
  {
   "cell_type": "markdown",
   "metadata": {},
   "source": [
    "# Solution:"
   ]
  },
  {
   "cell_type": "code",
   "execution_count": 22,
   "metadata": {},
   "outputs": [],
   "source": [
    "# Definition for singly-linked list.\n",
    "class ListNode(object):\n",
    "    \"\"\"定义链表节点\"\"\"\n",
    "    \n",
    "    def __init__(self, x):\n",
    "        self.val = x\n",
    "        self.next = None\n",
    "        \n",
    "    def __call__(self):\n",
    "        l = [self.val]\n",
    "        cur = self\n",
    "        while cur.next is not None:\n",
    "            cur = cur.next\n",
    "            l.append(cur.val)\n",
    "        return l\n",
    "\n",
    "class LinkedList(object):\n",
    "    \"\"\"定义链表\"\"\"\n",
    "    \n",
    "    def __init__(self, numList):\n",
    "        if len(numList) == 0:\n",
    "            self.head = None\n",
    "        else:\n",
    "            self.head = cur = ListNode(numList[0])\n",
    "            index = 1\n",
    "            while index < len(numList):\n",
    "                cur.next = ListNode(numList[index])\n",
    "                cur = cur.next\n",
    "                index += 1\n",
    "                \n",
    "    def cycle(self, k):\n",
    "        if k >= 0:\n",
    "            tail = head = self.head\n",
    "            while tail.next is not None:\n",
    "                tail = tail.next\n",
    "            for _ in range(k):\n",
    "                head = head.next\n",
    "            tail.next = head\n",
    "            \n",
    "    def __call__(self):\n",
    "        head = self.head\n",
    "        return head()"
   ]
  },
  {
   "cell_type": "code",
   "execution_count": 25,
   "metadata": {},
   "outputs": [],
   "source": [
    "class Solution_1(object):\n",
    "    \"\"\"快慢指针\"\"\"\n",
    "    \n",
    "    def hasCycle(self, head):\n",
    "        \"\"\"\n",
    "        :type head: ListNode\n",
    "        :rtype: bool\n",
    "        \"\"\"\n",
    "        try:\n",
    "            slow = head\n",
    "            fast = head.next\n",
    "            while slow is not fast:\n",
    "                slow = slow.next\n",
    "                fast = fast.next.next\n",
    "            return True\n",
    "        except:\n",
    "            return False"
   ]
  },
  {
   "cell_type": "markdown",
   "metadata": {},
   "source": [
    "# Test:"
   ]
  },
  {
   "cell_type": "code",
   "execution_count": 26,
   "metadata": {},
   "outputs": [
    {
     "name": "stdout",
     "output_type": "stream",
     "text": [
      "True\n"
     ]
    }
   ],
   "source": [
    "if __name__ == '__main__':\n",
    "    s_1 = Solution_1()\n",
    "    \n",
    "    list1 = LinkedList([3,2,0,-4])\n",
    "    list1.cycle(1)\n",
    "    l1 = list1.head\n",
    "    print(s_1.hasCycle(l1))"
   ]
  }
 ],
 "metadata": {
  "kernelspec": {
   "display_name": "Python 3",
   "language": "python",
   "name": "python3"
  },
  "language_info": {
   "codemirror_mode": {
    "name": "ipython",
    "version": 3
   },
   "file_extension": ".py",
   "mimetype": "text/x-python",
   "name": "python",
   "nbconvert_exporter": "python",
   "pygments_lexer": "ipython3",
   "version": "3.7.1"
  }
 },
 "nbformat": 4,
 "nbformat_minor": 2
}
