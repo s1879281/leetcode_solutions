{
 "cells": [
  {
   "cell_type": "markdown",
   "metadata": {},
   "source": [
    "# Description:"
   ]
  },
  {
   "cell_type": "markdown",
   "metadata": {},
   "source": [
    "Merge two sorted linked lists and return it as a new list. The new list should be made by splicing together the nodes of the first two lists."
   ]
  },
  {
   "cell_type": "markdown",
   "metadata": {},
   "source": [
    "# Example:"
   ]
  },
  {
   "cell_type": "markdown",
   "metadata": {},
   "source": [
    "Input: 1->2->4, 1->3->4\n",
    "Output: 1->1->2->3->4->4"
   ]
  },
  {
   "cell_type": "markdown",
   "metadata": {},
   "source": [
    "# Solution:"
   ]
  },
  {
   "cell_type": "code",
   "execution_count": 7,
   "metadata": {},
   "outputs": [],
   "source": [
    "# Definition for singly-linked list.\n",
    "class ListNode(object):\n",
    "    \"\"\"定义链表节点\"\"\"\n",
    "    \n",
    "    def __init__(self, x):\n",
    "        self.val = x\n",
    "        self.next = None\n",
    "        \n",
    "    def __call__(self):\n",
    "        l = [self.val]\n",
    "        cur = self\n",
    "        while cur.next is not None:\n",
    "            cur = cur.next\n",
    "            l.append(cur.val)\n",
    "        return l\n",
    "\n",
    "class LinkedList(object):\n",
    "    \"\"\"定义链表\"\"\"\n",
    "    \n",
    "    def __init__(self, numList):\n",
    "        if len(numList) == 0:\n",
    "            self.head = None\n",
    "        else:\n",
    "            self.head = cur = ListNode(numList[0])\n",
    "            index = 1\n",
    "            while index < len(numList):\n",
    "                cur.next = ListNode(numList[index])\n",
    "                cur = cur.next\n",
    "                index += 1\n",
    "            \n",
    "    def __call__(self):\n",
    "        head = self.head\n",
    "        return head()"
   ]
  },
  {
   "cell_type": "code",
   "execution_count": 8,
   "metadata": {},
   "outputs": [],
   "source": [
    "class Solution_1(object):\n",
    "    \"\"\"迭代\"\"\"\n",
    "    \n",
    "    def mergeTwoLists(self, l1, l2):\n",
    "        \"\"\"\n",
    "        :type l1: ListNode\n",
    "        :type l2: ListNode\n",
    "        :rtype: ListNode\n",
    "        \"\"\"\n",
    "        l = cur = ListNode(0)\n",
    "        while l1 and l2:\n",
    "            if l1.val < l2.val:\n",
    "                cur.next = l1\n",
    "                l1 = l1.next\n",
    "            else:\n",
    "                cur.next = l2\n",
    "                l2 = l2.next\n",
    "            cur = cur.next\n",
    "        cur.next = l1 or l2\n",
    "        return l.next"
   ]
  },
  {
   "cell_type": "code",
   "execution_count": 9,
   "metadata": {},
   "outputs": [],
   "source": [
    "class Solution_2(object):\n",
    "    \"\"\"递归\"\"\"\n",
    "    \n",
    "    def mergeTwoLists(self, l1, l2):\n",
    "        \"\"\"\n",
    "        :type l1: ListNode\n",
    "        :type l2: ListNode\n",
    "        :rtype: ListNode\n",
    "        \"\"\"\n",
    "        if not l1 or not l2:\n",
    "            return l1 or l2\n",
    "        \n",
    "        if l1.val < l2.val:\n",
    "            l1.next = self.mergeTwoLists(l1.next, l2)\n",
    "            return l1\n",
    "        \n",
    "        else:\n",
    "            l2.next = self.mergeTwoLists(l1, l2.next)\n",
    "            return l2"
   ]
  },
  {
   "cell_type": "markdown",
   "metadata": {},
   "source": [
    "# Test:"
   ]
  },
  {
   "cell_type": "code",
   "execution_count": 10,
   "metadata": {},
   "outputs": [
    {
     "name": "stdout",
     "output_type": "stream",
     "text": [
      "[1, 1, 2, 3, 4, 4]\n",
      "[1, 1, 2, 3, 4, 4]\n"
     ]
    }
   ],
   "source": [
    "if __name__ == '__main__':\n",
    "    s_1 = Solution_1()\n",
    "    s_2 = Solution_2()\n",
    "    \n",
    "    list1 = LinkedList([1,2,4])\n",
    "    l1 = list1.head\n",
    "    list2 = LinkedList([1,3,4])\n",
    "    l2 = list2.head\n",
    "    print(s_1.mergeTwoLists(l1, l2)())\n",
    "    \n",
    "    list1 = LinkedList([1,2,4])\n",
    "    l1 = list1.head\n",
    "    list2 = LinkedList([1,3,4])\n",
    "    l2 = list2.head\n",
    "    print(s_2.mergeTwoLists(l1, l2)())\n",
    "    "
   ]
  },
  {
   "cell_type": "code",
   "execution_count": null,
   "metadata": {},
   "outputs": [],
   "source": []
  }
 ],
 "metadata": {
  "kernelspec": {
   "display_name": "Python 3",
   "language": "python",
   "name": "python3"
  },
  "language_info": {
   "codemirror_mode": {
    "name": "ipython",
    "version": 3
   },
   "file_extension": ".py",
   "mimetype": "text/x-python",
   "name": "python",
   "nbconvert_exporter": "python",
   "pygments_lexer": "ipython3",
   "version": "3.7.1"
  }
 },
 "nbformat": 4,
 "nbformat_minor": 2
}
