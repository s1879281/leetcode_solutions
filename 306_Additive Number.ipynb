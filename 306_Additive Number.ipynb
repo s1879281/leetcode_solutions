{
 "cells": [
  {
   "cell_type": "markdown",
   "metadata": {},
   "source": [
    "# Description:"
   ]
  },
  {
   "cell_type": "markdown",
   "metadata": {},
   "source": [
    "Additive number is a string whose digits can form additive sequence.\n",
    "\n",
    "A valid additive sequence should contain at least three numbers. Except for the first two numbers, each subsequent number in the sequence must be the sum of the preceding two.\n",
    "\n",
    "Given a string containing only digits '0'-'9', write a function to determine if it's an additive number.\n",
    "\n",
    "Note: Numbers in the additive sequence cannot have leading zeros, so sequence 1, 2, 03 or 1, 02, 3 is invalid."
   ]
  },
  {
   "cell_type": "markdown",
   "metadata": {},
   "source": [
    "# Example:"
   ]
  },
  {
   "cell_type": "markdown",
   "metadata": {},
   "source": [
    "Input: \"112358\"\n",
    "\n",
    "Output: true\n",
    "\n",
    "Explanation: The digits can form an additive sequence: 1, 1, 2, 3, 5, 8. \n",
    "             1 + 1 = 2, 1 + 2 = 3, 2 + 3 = 5, 3 + 5 = 8"
   ]
  },
  {
   "cell_type": "markdown",
   "metadata": {},
   "source": [
    "Input: \"199100199\"\n",
    "\n",
    "Output: true\n",
    "\n",
    "Explanation: The additive sequence is: 1, 99, 100, 199. \n",
    "             1 + 99 = 100, 99 + 100 = 199"
   ]
  },
  {
   "cell_type": "markdown",
   "metadata": {},
   "source": [
    "# Solution:"
   ]
  },
  {
   "cell_type": "code",
   "execution_count": 5,
   "metadata": {},
   "outputs": [],
   "source": [
    "class Solution_1:\n",
    "    \"\"\"深度优先，剪枝\"\"\"\n",
    "    \n",
    "    def isAdditiveNumber(self, num):\n",
    "        \"\"\"\n",
    "        :type num: str\n",
    "        :rtype: bool\n",
    "        \"\"\"\n",
    "        return self.dfs(num, [])\n",
    "        \n",
    "    def dfs(self, nums, path):\n",
    "        if len(path) >= 3 and path[-1] != path[-2] + path[-3]:\n",
    "            return False\n",
    "        \n",
    "        if len(nums) == 0 and len(path) >= 3:\n",
    "            return True\n",
    "        \n",
    "        for i in range(len(nums)):\n",
    "            cur = nums[:i + 1]\n",
    "            if len(cur) > 1 and cur[0] == '0':\n",
    "                continue\n",
    "            if self.dfs(nums[i + 1:], path + [int(cur)]):\n",
    "                return True\n",
    "            \n",
    "        return False "
   ]
  },
  {
   "cell_type": "markdown",
   "metadata": {},
   "source": [
    "# Test:"
   ]
  },
  {
   "cell_type": "code",
   "execution_count": 6,
   "metadata": {},
   "outputs": [
    {
     "name": "stdout",
     "output_type": "stream",
     "text": [
      "True\n"
     ]
    }
   ],
   "source": [
    "if __name__ == '__main__':\n",
    "    s_1 = Solution_1()\n",
    "    print(s_1.isAdditiveNumber(\"199100199\"))"
   ]
  }
 ],
 "metadata": {
  "kernelspec": {
   "display_name": "Python 3",
   "language": "python",
   "name": "python3"
  },
  "language_info": {
   "codemirror_mode": {
    "name": "ipython",
    "version": 3
   },
   "file_extension": ".py",
   "mimetype": "text/x-python",
   "name": "python",
   "nbconvert_exporter": "python",
   "pygments_lexer": "ipython3",
   "version": "3.7.1"
  }
 },
 "nbformat": 4,
 "nbformat_minor": 2
}
