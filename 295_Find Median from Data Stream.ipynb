{
 "cells": [
  {
   "cell_type": "markdown",
   "metadata": {},
   "source": [
    "# Description:"
   ]
  },
  {
   "cell_type": "markdown",
   "metadata": {},
   "source": [
    "Median is the middle value in an ordered integer list. If the size of the list is even, there is no middle value. So the median is the mean of the two middle value.\n",
    "\n",
    "For example,\n",
    "[2,3,4], the median is 3\n",
    "\n",
    "[2,3], the median is (2 + 3) / 2 = 2.5\n",
    "\n",
    "Design a data structure that supports the following two operations:\n",
    "\n",
    "void addNum(int num) - Add a integer number from the data stream to the data structure.\n",
    "double findMedian() - Return the median of all elements so far."
   ]
  },
  {
   "cell_type": "markdown",
   "metadata": {},
   "source": [
    "# Example:"
   ]
  },
  {
   "cell_type": "markdown",
   "metadata": {},
   "source": [
    "addNum(1)\n",
    "\n",
    "addNum(2)\n",
    "\n",
    "findMedian() -> 1.5\n",
    "\n",
    "addNum(3) \n",
    "\n",
    "findMedian() -> 2"
   ]
  },
  {
   "cell_type": "markdown",
   "metadata": {},
   "source": [
    "# Solution:"
   ]
  },
  {
   "cell_type": "code",
   "execution_count": 26,
   "metadata": {},
   "outputs": [],
   "source": [
    "import heapq\n",
    "class MedianFinder(object):\n",
    "    \"\"\"构建一个最大堆和一个最小堆，动态调整两个堆的大小。插入复杂度O(lgn)，查找复杂度O(1)。\"\"\"\n",
    "    \n",
    "    def __init__(self):\n",
    "        \"\"\"\n",
    "        initialize your data structure here.\n",
    "        \"\"\"\n",
    "        self.small = []\n",
    "        self.large = []\n",
    "\n",
    "    def addNum(self, num):\n",
    "        \"\"\"\n",
    "        :type num: int\n",
    "        :rtype: None\n",
    "        \"\"\"\n",
    "        if len(self.small) == 0:\n",
    "            heapq.heappush(self.small, -num)\n",
    "            return\n",
    "        \n",
    "        if num <= -self.small[0]:\n",
    "            heapq.heappush(self.small, -num)\n",
    "            \n",
    "        else:\n",
    "            heapq.heappush(self.large, num)\n",
    "            \n",
    "        if len(self.small) - len(self.large) == 2:\n",
    "            heapq.heappush(self.large, -heapq.heappop(self.small))\n",
    "        elif len(self.large) - len(self.small) == 2:\n",
    "            heapq.heappush(self.small, -heapq.heappop(self.large))\n",
    "         \n",
    "\n",
    "    def findMedian(self):\n",
    "        \"\"\"\n",
    "        :rtype: float\n",
    "        \"\"\"\n",
    "        if len(self.small) == len(self.large):\n",
    "            return (self.large[0] - self.small[0]) / 2.0\n",
    "        \n",
    "        if len(self.small) - len(self.large) == 1:\n",
    "            return -self.small[0]\n",
    "        \n",
    "        return self.large[0]"
   ]
  },
  {
   "cell_type": "markdown",
   "metadata": {},
   "source": [
    "# Test:"
   ]
  },
  {
   "cell_type": "code",
   "execution_count": 27,
   "metadata": {},
   "outputs": [
    {
     "name": "stdout",
     "output_type": "stream",
     "text": [
      "-1.5\n",
      "-2\n",
      "-3\n"
     ]
    }
   ],
   "source": [
    "if __name__ == '__main__':\n",
    "    obj = MedianFinder()\n",
    "    obj.addNum(-1)\n",
    "    obj.addNum(-2)\n",
    "    print(obj.findMedian())\n",
    "    obj.addNum(-3)\n",
    "    print(obj.findMedian())\n",
    "    obj.addNum(-4)\n",
    "    obj.addNum(-5)\n",
    "    print(obj.findMedian())"
   ]
  },
  {
   "cell_type": "code",
   "execution_count": 3,
   "metadata": {},
   "outputs": [
    {
     "name": "stdout",
     "output_type": "stream",
     "text": [
      "1\n",
      "1\n"
     ]
    }
   ],
   "source": [
    "import heapq\n",
    "a = []\n",
    "heapq.heappush(a,4)\n",
    "heapq.heappush(a,2)\n",
    "heapq.heappush(a,1)\n",
    "heapq.heappush(a,3)\n",
    "print(a[0])\n",
    "print(heapq.heappop(a))"
   ]
  },
  {
   "cell_type": "code",
   "execution_count": null,
   "metadata": {},
   "outputs": [],
   "source": []
  }
 ],
 "metadata": {
  "kernelspec": {
   "display_name": "Python 3",
   "language": "python",
   "name": "python3"
  },
  "language_info": {
   "codemirror_mode": {
    "name": "ipython",
    "version": 3
   },
   "file_extension": ".py",
   "mimetype": "text/x-python",
   "name": "python",
   "nbconvert_exporter": "python",
   "pygments_lexer": "ipython3",
   "version": "3.7.1"
  }
 },
 "nbformat": 4,
 "nbformat_minor": 2
}
