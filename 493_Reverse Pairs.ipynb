{
 "cells": [
  {
   "cell_type": "markdown",
   "metadata": {},
   "source": [
    "# Description:"
   ]
  },
  {
   "cell_type": "markdown",
   "metadata": {},
   "source": [
    "Given an array nums, we call (i, j) an important reverse pair if i < j and nums[i] > 2*nums[j].\n",
    "\n",
    "You need to return the number of important reverse pairs in the given array."
   ]
  },
  {
   "cell_type": "markdown",
   "metadata": {},
   "source": [
    "# Example:"
   ]
  },
  {
   "cell_type": "markdown",
   "metadata": {},
   "source": [
    "Input: [1,3,2,3,1]\n",
    "\n",
    "Output: 2"
   ]
  },
  {
   "cell_type": "markdown",
   "metadata": {},
   "source": [
    "Input: [2,4,3,5,1]\n",
    "\n",
    "Output: 3"
   ]
  },
  {
   "cell_type": "markdown",
   "metadata": {},
   "source": [
    "# Solution:"
   ]
  },
  {
   "cell_type": "code",
   "execution_count": 26,
   "metadata": {},
   "outputs": [],
   "source": [
    "class Solution_1:\n",
    "    \"\"\"归并排序\"\"\"\n",
    "    \n",
    "    def reversePairs(self, nums):\n",
    "        \"\"\"\n",
    "        :type nums: List[int]\n",
    "        :rtype: int\n",
    "        \"\"\"\n",
    "        self.cnt = 0\n",
    "        self.mergeSort(nums)\n",
    "        return self.cnt\n",
    "    \n",
    "    def mergeSort(self, nums):\n",
    "        l, r = 0, len(nums) - 1\n",
    "        if l < r:\n",
    "            mid = l + (l + r) // 2\n",
    "            left = self.mergeSort(nums[:mid + 1])\n",
    "            right = self.mergeSort(nums[mid + 1:])\n",
    "            return self.merge(left, right)\n",
    "        \n",
    "        return nums\n",
    "    \n",
    "    def merge(self, left, right):\n",
    "        l, r = 0, 0                         \n",
    "        while l < len(left) and r < len(right):\n",
    "            if left[l] <= 2 * right[r]:\n",
    "                l += 1\n",
    "            else:\n",
    "                self.cnt += len(left) - l     \n",
    "                r += 1\n",
    "        \n",
    "        return sorted(left + right)"
   ]
  },
  {
   "cell_type": "markdown",
   "metadata": {},
   "source": [
    "# Test:"
   ]
  },
  {
   "cell_type": "code",
   "execution_count": 27,
   "metadata": {},
   "outputs": [
    {
     "name": "stdout",
     "output_type": "stream",
     "text": [
      "2\n",
      "3\n"
     ]
    }
   ],
   "source": [
    "if __name__ == '__main__':\n",
    "    s_1 = Solution_1()\n",
    "    print (s_1.reversePairs([1,3,2,3,1]))\n",
    "    print (s_1.reversePairs([2,4,3,5,1]))"
   ]
  }
 ],
 "metadata": {
  "kernelspec": {
   "display_name": "Python 3",
   "language": "python",
   "name": "python3"
  },
  "language_info": {
   "codemirror_mode": {
    "name": "ipython",
    "version": 3
   },
   "file_extension": ".py",
   "mimetype": "text/x-python",
   "name": "python",
   "nbconvert_exporter": "python",
   "pygments_lexer": "ipython3",
   "version": "3.7.1"
  }
 },
 "nbformat": 4,
 "nbformat_minor": 2
}
