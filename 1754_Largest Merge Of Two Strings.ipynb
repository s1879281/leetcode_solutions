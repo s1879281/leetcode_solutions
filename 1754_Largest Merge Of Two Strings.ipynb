{
 "cells": [
  {
   "cell_type": "markdown",
   "metadata": {},
   "source": [
    "# Description:"
   ]
  },
  {
   "cell_type": "markdown",
   "metadata": {},
   "source": [
    "You are given two strings word1 and word2. You want to construct a string merge in the following way: while either word1 or word2 are non-empty, choose one of the following options:\n",
    "\n",
    "If word1 is non-empty, append the first character in word1 to merge and delete it from word1.\n",
    "For example, if word1 = \"abc\" and merge = \"dv\", then after choosing this operation, word1 = \"bc\" and merge = \"dva\".\n",
    "If word2 is non-empty, append the first character in word2 to merge and delete it from word2.\n",
    "For example, if word2 = \"abc\" and merge = \"\", then after choosing this operation, word2 = \"bc\" and merge = \"a\".\n",
    "Return the lexicographically largest merge you can construct.\n",
    "\n",
    "A string a is lexicographically larger than a string b (of the same length) if in the first position where a and b differ, a has a character strictly larger than the corresponding character in b. For example, \"abcd\" is lexicographically larger than \"abcc\" because the first position they differ is at the fourth character, and d is greater than c."
   ]
  },
  {
   "cell_type": "markdown",
   "metadata": {},
   "source": [
    "# Example:"
   ]
  },
  {
   "cell_type": "markdown",
   "metadata": {},
   "source": [
    "Input: word1 = \"cabaa\", word2 = \"bcaaa\"\n",
    "\n",
    "Output: \"cbcabaaaaa\"\n",
    "\n",
    "Explanation: One way to get the lexicographically largest merge is:\n",
    "- Take from word1: merge = \"c\", word1 = \"abaa\", word2 = \"bcaaa\"\n",
    "- Take from word2: merge = \"cb\", word1 = \"abaa\", word2 = \"caaa\"\n",
    "- Take from word2: merge = \"cbc\", word1 = \"abaa\", word2 = \"aaa\"\n",
    "- Take from word1: merge = \"cbca\", word1 = \"baa\", word2 = \"aaa\"\n",
    "- Take from word1: merge = \"cbcab\", word1 = \"aa\", word2 = \"aaa\"\n",
    "- Append the remaining 5 a's from word1 and word2 at the end of merge."
   ]
  },
  {
   "cell_type": "markdown",
   "metadata": {},
   "source": [
    "Input: word1 = \"abcabc\", word2 = \"abdcaba\"\n",
    "\n",
    "Output: \"abdcabcabcaba\""
   ]
  },
  {
   "cell_type": "markdown",
   "metadata": {},
   "source": [
    "# Solution:"
   ]
  },
  {
   "cell_type": "code",
   "execution_count": 3,
   "metadata": {},
   "outputs": [],
   "source": [
    "class Solution:\n",
    "    \"\"\"贪心\"\"\"\n",
    "    \n",
    "    def largestMerge(self, word1, word2):\n",
    "        \"\"\"\n",
    "        :type word1: str\n",
    "        :type word2: str\n",
    "        :rtype: str\n",
    "        \"\"\"\n",
    "        word1 = list(word1)\n",
    "        word2 = list(word2)\n",
    "        merge = \"\"\n",
    "        while word1 and word2:\n",
    "            if word1 >= word2:\n",
    "                merge += word1.pop(0)\n",
    "            else:\n",
    "                merge += word2.pop(0)\n",
    "        merge += \"\".join(word1) or \"\".join(word2)\n",
    "        return merge"
   ]
  },
  {
   "cell_type": "markdown",
   "metadata": {},
   "source": [
    "# Test:"
   ]
  },
  {
   "cell_type": "code",
   "execution_count": 4,
   "metadata": {},
   "outputs": [
    {
     "name": "stdout",
     "output_type": "stream",
     "text": [
      "cbcabaaaaa\n"
     ]
    }
   ],
   "source": [
    "if __name__ == '__main__':\n",
    "    s = Solution()\n",
    "    print (s.largestMerge(\"cabaa\", \"bcaaa\"))"
   ]
  }
 ],
 "metadata": {
  "kernelspec": {
   "display_name": "Python 3",
   "language": "python",
   "name": "python3"
  },
  "language_info": {
   "codemirror_mode": {
    "name": "ipython",
    "version": 3
   },
   "file_extension": ".py",
   "mimetype": "text/x-python",
   "name": "python",
   "nbconvert_exporter": "python",
   "pygments_lexer": "ipython3",
   "version": "3.7.1"
  }
 },
 "nbformat": 4,
 "nbformat_minor": 2
}
