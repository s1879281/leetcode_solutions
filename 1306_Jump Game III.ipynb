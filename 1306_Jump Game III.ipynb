{
 "cells": [
  {
   "cell_type": "markdown",
   "metadata": {},
   "source": [
    "# Description:"
   ]
  },
  {
   "cell_type": "markdown",
   "metadata": {},
   "source": [
    "Given an array of non-negative integers arr, you are initially positioned at start index of the array. When you are at index i, you can jump to i + arr[i] or i - arr[i], check if you can reach to any index with value 0.\n",
    "\n",
    "Notice that you can not jump outside of the array at any time."
   ]
  },
  {
   "cell_type": "markdown",
   "metadata": {},
   "source": [
    "# Example:"
   ]
  },
  {
   "cell_type": "markdown",
   "metadata": {},
   "source": [
    "Input: arr = [4,2,3,0,3,1,2], start = 5\n",
    "\n",
    "Output: true\n",
    "\n",
    "Explanation: \n",
    "\n",
    "All possible ways to reach at index 3 with value 0 are: \n",
    "\n",
    "index 5 -> index 4 -> index 1 -> index 3 \n",
    "\n",
    "index 5 -> index 6 -> index 4 -> index 1 -> index 3 "
   ]
  },
  {
   "cell_type": "markdown",
   "metadata": {},
   "source": [
    "Input: arr = [4,2,3,0,3,1,2], start = 0\n",
    "\n",
    "Output: true \n",
    "\n",
    "Explanation: \n",
    "\n",
    "One possible way to reach at index 3 with value 0 is: \n",
    "\n",
    "index 0 -> index 4 -> index 1 -> index 3"
   ]
  },
  {
   "cell_type": "markdown",
   "metadata": {},
   "source": [
    "Input: arr = [3,0,2,1,2], start = 2\n",
    "    \n",
    "Output: false\n",
    "    \n",
    "Explanation: There is no way to reach at index 1 with value 0."
   ]
  },
  {
   "cell_type": "markdown",
   "metadata": {},
   "source": [
    "# Solution:"
   ]
  },
  {
   "cell_type": "code",
   "execution_count": 2,
   "metadata": {},
   "outputs": [],
   "source": [
    "class Solution(object):\n",
    "    \"\"\"深度优先，记忆化搜索\"\"\"\n",
    "    \n",
    "    def canReach(self, arr, start):\n",
    "        \"\"\"\n",
    "        :type arr: List[int]\n",
    "        :type start: int\n",
    "        :rtype: bool\n",
    "        \"\"\"\n",
    "        self.visited = {}\n",
    "        self.arr = arr\n",
    "        return self.dfs(start)\n",
    "        \n",
    "    def dfs(self, start):\n",
    "        if start in self.visited or start < 0 or start >= len(self.arr) :\n",
    "            return False\n",
    "        if self.arr[start] == 0:\n",
    "            return True\n",
    "        self.visited[start] = True\n",
    "        return self.dfs(start - self.arr[start]) or self.dfs(start + self.arr[start])"
   ]
  },
  {
   "cell_type": "markdown",
   "metadata": {},
   "source": [
    "# Test:"
   ]
  },
  {
   "cell_type": "code",
   "execution_count": 3,
   "metadata": {},
   "outputs": [
    {
     "name": "stdout",
     "output_type": "stream",
     "text": [
      "True False\n"
     ]
    }
   ],
   "source": [
    "if __name__ == '__main__':\n",
    "    s = Solution()\n",
    "    print (s.canReach([4,2,3,0,3,1,2], 0), s.canReach([3,0,2,1,2], 2))"
   ]
  }
 ],
 "metadata": {
  "kernelspec": {
   "display_name": "Python 3",
   "language": "python",
   "name": "python3"
  },
  "language_info": {
   "codemirror_mode": {
    "name": "ipython",
    "version": 3
   },
   "file_extension": ".py",
   "mimetype": "text/x-python",
   "name": "python",
   "nbconvert_exporter": "python",
   "pygments_lexer": "ipython3",
   "version": "3.7.1"
  }
 },
 "nbformat": 4,
 "nbformat_minor": 2
}
