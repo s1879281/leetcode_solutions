{
 "cells": [
  {
   "cell_type": "markdown",
   "metadata": {},
   "source": [
    "# Description:"
   ]
  },
  {
   "cell_type": "markdown",
   "metadata": {},
   "source": [
    "You are given coins of different denominations and a total amount of money amount. Write a function to compute the fewest number of coins that you need to make up that amount. If that amount of money cannot be made up by any combination of the coins, return -1."
   ]
  },
  {
   "cell_type": "markdown",
   "metadata": {},
   "source": [
    "# Example:"
   ]
  },
  {
   "cell_type": "markdown",
   "metadata": {},
   "source": [
    "Input: coins = [1, 2, 5], amount = 11\n",
    "\n",
    "Output: 3\n",
    "\n",
    "Explanation: 11 = 5 + 5 + 1"
   ]
  },
  {
   "cell_type": "markdown",
   "metadata": {},
   "source": [
    "Input: coins = [2], amount = 3\n",
    "\n",
    "Output: -1"
   ]
  },
  {
   "cell_type": "markdown",
   "metadata": {},
   "source": [
    "# Solution:"
   ]
  },
  {
   "cell_type": "code",
   "execution_count": 4,
   "metadata": {},
   "outputs": [],
   "source": [
    "class Solution_1:\n",
    "    \"\"\"动态规划\"\"\"\n",
    "    \n",
    "    def coinChange(self, coins, amount):\n",
    "        \"\"\"\n",
    "        :type coins: List[int]\n",
    "        :type amount: int\n",
    "        :rtype: int\n",
    "        \"\"\"\n",
    "        dp = {0: 0}\n",
    "        for i in range(1, amount + 1):\n",
    "            l = [dp[i-j] for j in coins if i >= j]\n",
    "            if l:\n",
    "                dp[i] = min(l) + 1\n",
    "            else:\n",
    "                dp[i] = float('inf')\n",
    "        return dp[amount] if dp[amount] != float('inf') else -1"
   ]
  },
  {
   "cell_type": "code",
   "execution_count": 5,
   "metadata": {},
   "outputs": [],
   "source": [
    "class Solution_2:\n",
    "    \"\"\"动态规划\"\"\"\n",
    "    \n",
    "    def coinChange(self, coins, amount):\n",
    "        \"\"\"\n",
    "        :type coins: List[int]\n",
    "        :type amount: int\n",
    "        :rtype: int\n",
    "        \"\"\"\n",
    "        dp = [0] + [-1] * amount\n",
    "        for coin in coins:\n",
    "            for i in range(coin, amount + 1):\n",
    "                if dp[i - coin] != -1:\n",
    "                    dp[i] = min(dp[i - coin] + 1, dp[i]) if dp[i] != -1 else dp[i - coin] + 1\n",
    "        return dp[-1]"
   ]
  },
  {
   "cell_type": "code",
   "execution_count": 6,
   "metadata": {},
   "outputs": [],
   "source": [
    "class Solution_3:\n",
    "    \"\"\"深度优先记忆化搜索\"\"\"\n",
    "    \n",
    "    def coinChange(self, coins, amount):\n",
    "        \"\"\"\n",
    "        :type coins: List[int]\n",
    "        :type amount: int\n",
    "        :rtype: int\n",
    "        \"\"\"\n",
    "        self.dp = {i:1 for i in coins}\n",
    "        self.dp.update({0:0})\n",
    "        return self.helper(coins, amount)\n",
    "    \n",
    "    def helper(self, coins, amount):\n",
    "        if amount in self.dp:\n",
    "            return self.dp[amount]\n",
    "        \n",
    "        l = []\n",
    "        for i in coins:\n",
    "            if amount > i:\n",
    "                tmp = self.helper(coins, amount-i)\n",
    "                if tmp != -1:\n",
    "                    l.append(tmp)\n",
    "        \n",
    "        if l:\n",
    "            self.dp[amount] = min(l) + 1\n",
    "        else:\n",
    "            self.dp[amount] = -1\n",
    "        \n",
    "        return self.dp[amount]"
   ]
  },
  {
   "cell_type": "markdown",
   "metadata": {},
   "source": [
    "# Test:"
   ]
  },
  {
   "cell_type": "code",
   "execution_count": 7,
   "metadata": {},
   "outputs": [
    {
     "name": "stdout",
     "output_type": "stream",
     "text": [
      "3\n",
      "3\n",
      "3\n"
     ]
    }
   ],
   "source": [
    "if __name__ == '__main__':\n",
    "    s_1 = Solution_1()\n",
    "    s_2 = Solution_2()\n",
    "    s_3 = Solution_2()\n",
    "    print (s_1.coinChange([1,2,5], 11))\n",
    "    print (s_2.coinChange([1,2,5], 11))\n",
    "    print (s_3.coinChange([1,2,5], 11))"
   ]
  }
 ],
 "metadata": {
  "kernelspec": {
   "display_name": "Python 3",
   "language": "python",
   "name": "python3"
  },
  "language_info": {
   "codemirror_mode": {
    "name": "ipython",
    "version": 3
   },
   "file_extension": ".py",
   "mimetype": "text/x-python",
   "name": "python",
   "nbconvert_exporter": "python",
   "pygments_lexer": "ipython3",
   "version": "3.7.1"
  }
 },
 "nbformat": 4,
 "nbformat_minor": 2
}
