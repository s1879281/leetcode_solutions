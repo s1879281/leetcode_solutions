{
 "cells": [
  {
   "cell_type": "markdown",
   "metadata": {},
   "source": [
    "# Description:"
   ]
  },
  {
   "cell_type": "markdown",
   "metadata": {},
   "source": [
    "Given two sorted integer arrays nums1 and nums2, merge nums2 into nums1 as one sorted array.\n",
    "\n",
    "Note:\n",
    "\n",
    "* The number of elements initialized in nums1 and nums2 are m and n respectively.\n",
    "\n",
    "* You may assume that nums1 has enough space (size that is greater or equal to m + n) to hold additional elements from nums2."
   ]
  },
  {
   "cell_type": "markdown",
   "metadata": {},
   "source": [
    "# Example:"
   ]
  },
  {
   "cell_type": "markdown",
   "metadata": {},
   "source": [
    "Input:\n",
    "\n",
    "nums1 = [1,2,3,0,0,0], m = 3\n",
    "\n",
    "nums2 = [2,5,6],       n = 3\n",
    "\n",
    "Output: [1,2,2,3,5,6]"
   ]
  },
  {
   "cell_type": "markdown",
   "metadata": {},
   "source": [
    "# Solution:"
   ]
  },
  {
   "cell_type": "code",
   "execution_count": 4,
   "metadata": {},
   "outputs": [],
   "source": [
    "class Solution_1:\n",
    "    \"\"\"内置库排序，复杂度O(nlgn)\"\"\"\n",
    "    \n",
    "    def merge(self, nums1, m, nums2, n):\n",
    "        \"\"\"\n",
    "        :type nums1: List[int]\n",
    "        :type m: int\n",
    "        :type nums2: List[int]\n",
    "        :type n: int\n",
    "        :rtype: None Do not return anything, modify nums1 in-place instead.\n",
    "        \"\"\"\n",
    "        nums1[m:] = nums2\n",
    "        nums1.sort()"
   ]
  },
  {
   "cell_type": "code",
   "execution_count": 15,
   "metadata": {},
   "outputs": [],
   "source": [
    "class Solution_2:\n",
    "    \"\"\"时间复杂度O(n), 空间复杂度O(n)\"\"\"\n",
    "    \n",
    "    def merge(self, nums1, m, nums2, n):\n",
    "        \"\"\"\n",
    "        :type nums1: List[int]\n",
    "        :type m: int\n",
    "        :type nums2: List[int]\n",
    "        :type n: int\n",
    "        :rtype: None Do not return anything, modify nums1 in-place instead.\n",
    "        \"\"\"\n",
    "        l = []\n",
    "        i = 0\n",
    "        j = 0\n",
    "        while len(l) < m + n and i < m and j < n:\n",
    "            if nums1[i] <= nums2[j]:\n",
    "                l.append(nums1[i])\n",
    "                i += 1\n",
    "            else:\n",
    "                l.append(nums2[j])\n",
    "                j += 1\n",
    "        if i == m:\n",
    "            l += nums2[j:]\n",
    "        elif j == n:\n",
    "            l += nums1[i:]\n",
    "        nums1[:m+n] = l[:m+n]"
   ]
  },
  {
   "cell_type": "code",
   "execution_count": 17,
   "metadata": {},
   "outputs": [],
   "source": [
    "class Solution_3:\n",
    "    \"\"\"时间复杂度O(n), 空间复杂度O(1)\"\"\"\n",
    "    \n",
    "    def merge(self, nums1, m, nums2, n):\n",
    "        \"\"\"\n",
    "        :type nums1: List[int]\n",
    "        :type m: int\n",
    "        :type nums2: List[int]\n",
    "        :type n: int\n",
    "        :rtype: None Do not return anything, modify nums1 in-place instead.\n",
    "        \"\"\"\n",
    "        while n:\n",
    "            if m and nums1[m - 1] > nums2[n - 1]:\n",
    "                nums1[m + n - 1] = nums1[m - 1]\n",
    "                m -= 1\n",
    "            else:\n",
    "                nums1[m + n - 1] = nums2[n - 1]\n",
    "                n -= 1"
   ]
  },
  {
   "cell_type": "markdown",
   "metadata": {},
   "source": [
    "# Test:"
   ]
  },
  {
   "cell_type": "code",
   "execution_count": 18,
   "metadata": {},
   "outputs": [
    {
     "name": "stdout",
     "output_type": "stream",
     "text": [
      "[1, 2, 2, 3, 5, 6]\n",
      "[1, 2, 2, 3, 5, 6]\n",
      "[1, 2, 2, 3, 5, 6]\n"
     ]
    }
   ],
   "source": [
    "if __name__ == '__main__':\n",
    "    s_1 = Solution_1()\n",
    "    nums1 = [1,2,3,0,0,0]\n",
    "    nums2 = [2,5,6]\n",
    "    s_1.merge(nums1, 3, nums2, 3)\n",
    "    print(nums1)\n",
    "    \n",
    "    s_2 = Solution_2()\n",
    "    nums1 = [1,2,3,0,0,0]\n",
    "    nums2 = [2,5,6]\n",
    "    s_2.merge(nums1, 3, nums2, 3)\n",
    "    print(nums1)\n",
    "    \n",
    "    s_3 = Solution_3()\n",
    "    nums1 = [1,2,3,0,0,0]\n",
    "    nums2 = [2,5,6]\n",
    "    s_3.merge(nums1, 3, nums2, 3)\n",
    "    print(nums1)"
   ]
  }
 ],
 "metadata": {
  "kernelspec": {
   "display_name": "Python 3",
   "language": "python",
   "name": "python3"
  },
  "language_info": {
   "codemirror_mode": {
    "name": "ipython",
    "version": 3
   },
   "file_extension": ".py",
   "mimetype": "text/x-python",
   "name": "python",
   "nbconvert_exporter": "python",
   "pygments_lexer": "ipython3",
   "version": "3.6.8"
  }
 },
 "nbformat": 4,
 "nbformat_minor": 2
}
