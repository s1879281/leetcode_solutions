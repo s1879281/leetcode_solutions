{
 "cells": [
  {
   "cell_type": "markdown",
   "metadata": {},
   "source": [
    "# Description:"
   ]
  },
  {
   "cell_type": "markdown",
   "metadata": {},
   "source": [
    "Given a string s, you are allowed to convert it to a palindrome by adding characters in front of it. Find and return the shortest palindrome you can find by performing this transformation."
   ]
  },
  {
   "cell_type": "markdown",
   "metadata": {},
   "source": [
    "# Example:"
   ]
  },
  {
   "cell_type": "markdown",
   "metadata": {},
   "source": [
    "Input: \"aacecaaa\"\n",
    "\n",
    "Output: \"aaacecaaa\""
   ]
  },
  {
   "cell_type": "markdown",
   "metadata": {},
   "source": [
    "Input: \"abcd\"\n",
    "\n",
    "Output: \"dcbabcd\""
   ]
  },
  {
   "cell_type": "markdown",
   "metadata": {},
   "source": [
    "# Solution:"
   ]
  },
  {
   "cell_type": "code",
   "execution_count": 8,
   "metadata": {},
   "outputs": [],
   "source": [
    "class Solution_1:\n",
    "    \"\"\"暴力解，复杂度O(n^2)\"\"\"\n",
    "    \n",
    "    def shortestPalindrome(self, s):\n",
    "        \"\"\"\n",
    "        :type s: str\n",
    "        :rtype: str\n",
    "        \"\"\"\n",
    "        l = list(s)\n",
    "        reverse = l[::-1]\n",
    "        if len(s) < 2 or l == reverse:\n",
    "            return s\n",
    "        \n",
    "        front = ''\n",
    "        while l:\n",
    "            front += l.pop()\n",
    "            reverse.pop(0)\n",
    "            if l == reverse:\n",
    "                return front + s"
   ]
  },
  {
   "cell_type": "code",
   "execution_count": 9,
   "metadata": {},
   "outputs": [],
   "source": [
    "class Solution_2(object):\n",
    "    \"\"\"先寻找以首字符开始的最长回文字符串，然后拼接，复杂度O(n)\"\"\"\n",
    "    \n",
    "    def shortestPalindrome(self, s):\n",
    "        \"\"\"\n",
    "        :type s: str\n",
    "        :rtype: str\n",
    "        \"\"\"\n",
    "        if s == s[::-1]:\n",
    "            return s\n",
    "        \n",
    "        l = []\n",
    "        \n",
    "        start = 0\n",
    "        \n",
    "        for i in range(1, len(s)):\n",
    "            if s[i] != s[start]:\n",
    "                l.append([start, i - 1])\n",
    "                start = i\n",
    "            \n",
    "        l.append([start, i - 1])\n",
    "        \n",
    "        bestPairlength = 0\n",
    "        \n",
    "        for pair in l:\n",
    "            left = pair[0]\n",
    "            right = pair[1]\n",
    "            \n",
    "            while left >= 1 and right < len(s) - 1:\n",
    "                if s[left - 1] == s[right + 1]:\n",
    "                    left -= 1\n",
    "                    right += 1\n",
    "                else:\n",
    "                    break\n",
    "            if left == 0:\n",
    "                if right - left + 1 > bestPairlength:\n",
    "                    bestPairlength = right - left + 1\n",
    "                    bestPair = [left, right]\n",
    "                    \n",
    "        left = bestPair[0]\n",
    "        right = bestPair[1]\n",
    "        \n",
    "        return s[right + 1:][::-1] + s"
   ]
  },
  {
   "cell_type": "markdown",
   "metadata": {},
   "source": [
    "# Test:"
   ]
  },
  {
   "cell_type": "code",
   "execution_count": 10,
   "metadata": {},
   "outputs": [
    {
     "name": "stdout",
     "output_type": "stream",
     "text": [
      "dcbabcd\n",
      "dcbabcd\n"
     ]
    }
   ],
   "source": [
    "if __name__ == '__main__':\n",
    "    s_1 = Solution_1()\n",
    "    s_2 = Solution_2()\n",
    "    print (s_1.shortestPalindrome(\"abcd\"))\n",
    "    print (s_2.shortestPalindrome(\"abcd\"))"
   ]
  }
 ],
 "metadata": {
  "kernelspec": {
   "display_name": "Python 3",
   "language": "python",
   "name": "python3"
  },
  "language_info": {
   "codemirror_mode": {
    "name": "ipython",
    "version": 3
   },
   "file_extension": ".py",
   "mimetype": "text/x-python",
   "name": "python",
   "nbconvert_exporter": "python",
   "pygments_lexer": "ipython3",
   "version": "3.7.1"
  }
 },
 "nbformat": 4,
 "nbformat_minor": 2
}
