{
 "cells": [
  {
   "cell_type": "markdown",
   "metadata": {},
   "source": [
    "# Description:"
   ]
  },
  {
   "cell_type": "markdown",
   "metadata": {},
   "source": [
    "Given a non-empty array of digits representing a non-negative integer, plus one to the integer.\n",
    "\n",
    "The digits are stored such that the most significant digit is at the head of the list, and each element in the array contain a single digit.\n",
    "\n",
    "You may assume the integer does not contain any leading zero, except the number 0 itself."
   ]
  },
  {
   "cell_type": "markdown",
   "metadata": {},
   "source": [
    "# Example:"
   ]
  },
  {
   "cell_type": "markdown",
   "metadata": {},
   "source": [
    "Input: [1,2,3]\n",
    "\n",
    "Output: [1,2,4]\n",
    "\n",
    "Explanation: The array represents the integer 123."
   ]
  },
  {
   "cell_type": "markdown",
   "metadata": {},
   "source": [
    "Input: [4,3,2,1]\n",
    "\n",
    "Output: [4,3,2,2]\n",
    "\n",
    "Explanation: The array represents the integer 4321."
   ]
  },
  {
   "cell_type": "markdown",
   "metadata": {},
   "source": [
    "# Solution:"
   ]
  },
  {
   "cell_type": "code",
   "execution_count": 1,
   "metadata": {},
   "outputs": [],
   "source": [
    "class Solution_1:\n",
    "    \"\"\"最后一位加1。然后从后向前遍历，如果该位为10，则设为0，进位标记设为True；否则设为False，结束循环\"\"\"\n",
    "    \n",
    "    def plusOne(self, digits):\n",
    "        \"\"\"\n",
    "        :type digits: List[int]\n",
    "        :rtype: List[int]\n",
    "        \"\"\"\n",
    "        s = False\n",
    "        digits[-1] += 1\n",
    "        for index in range(1, len(digits) + 1):\n",
    "            if s:\n",
    "                digits[-index] += 1\n",
    "            if digits[-index] == 10:\n",
    "                digits[-index] = 0\n",
    "                s = True\n",
    "            else:\n",
    "                s = False\n",
    "                break\n",
    "        if s:\n",
    "            digits = [1] + digits\n",
    "        \n",
    "        return digits"
   ]
  },
  {
   "cell_type": "code",
   "execution_count": 3,
   "metadata": {},
   "outputs": [],
   "source": [
    "class Solution_2:\n",
    "    \"\"\"从后向前遍历，如果小于9，则该位加1，结束循环；否则该位设为0，继续遍历\"\"\"\n",
    "    \n",
    "    def plusOne(self, digits):\n",
    "        \"\"\"\n",
    "        :type digits: List[int]\n",
    "        :rtype: List[int]\n",
    "        \"\"\"\n",
    "        for index in range(1, len(digits) + 1):\n",
    "            if digits[-index] < 9:\n",
    "                digits[-index] += 1\n",
    "                return digits\n",
    "            else:\n",
    "                digits[-index] = 0\n",
    "        \n",
    "        return [1] + digits"
   ]
  },
  {
   "cell_type": "code",
   "execution_count": 13,
   "metadata": {},
   "outputs": [],
   "source": [
    "class Solution_3:\n",
    "    \"\"\"字符串转化\"\"\"\n",
    "    \n",
    "    def plusOne(self, digits):\n",
    "        \"\"\"\n",
    "        :type digits: List[int]\n",
    "        :rtype: List[int]\n",
    "        \"\"\"\n",
    "        digits = [str(i) for i in digits]\n",
    "        s = ''.join(digits)\n",
    "        return [int(i) for i in str(int(s) + 1)]"
   ]
  },
  {
   "cell_type": "markdown",
   "metadata": {},
   "source": [
    "# Test:"
   ]
  },
  {
   "cell_type": "code",
   "execution_count": 14,
   "metadata": {},
   "outputs": [
    {
     "name": "stdout",
     "output_type": "stream",
     "text": [
      "[9, 0, 0]\n",
      "[9, 0, 0]\n",
      "[9, 0, 0]\n"
     ]
    }
   ],
   "source": [
    "if __name__ == '__main__':\n",
    "    s_1 = Solution_1()\n",
    "    s_2 = Solution_2()\n",
    "    s_3 = Solution_3()\n",
    "    print(s_1.plusOne([8,9,9]))\n",
    "    print(s_2.plusOne([8,9,9]))\n",
    "    print(s_3.plusOne([8,9,9]))"
   ]
  },
  {
   "cell_type": "code",
   "execution_count": null,
   "metadata": {},
   "outputs": [],
   "source": []
  }
 ],
 "metadata": {
  "kernelspec": {
   "display_name": "Python 3",
   "language": "python",
   "name": "python3"
  },
  "language_info": {
   "codemirror_mode": {
    "name": "ipython",
    "version": 3
   },
   "file_extension": ".py",
   "mimetype": "text/x-python",
   "name": "python",
   "nbconvert_exporter": "python",
   "pygments_lexer": "ipython3",
   "version": "3.7.1"
  }
 },
 "nbformat": 4,
 "nbformat_minor": 2
}
