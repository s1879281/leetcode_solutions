{
 "cells": [
  {
   "cell_type": "markdown",
   "metadata": {},
   "source": [
    "# Description:"
   ]
  },
  {
   "cell_type": "markdown",
   "metadata": {},
   "source": [
    "Validate if a given string can be interpreted as a decimal number."
   ]
  },
  {
   "cell_type": "markdown",
   "metadata": {},
   "source": [
    "# Example:"
   ]
  },
  {
   "cell_type": "markdown",
   "metadata": {},
   "source": [
    "Some examples:\n",
    "\n",
    "\"0\" => true\n",
    "\n",
    "\" 0.1 \" => true\n",
    "\n",
    "\"abc\" => false\n",
    "\n",
    "\"1 a\" => false\n",
    "\n",
    "\"2e10\" => true\n",
    "\n",
    "\" -90e3   \" => true\n",
    "\n",
    "\" 1e\" => false\n",
    "\n",
    "\"e3\" => false\n",
    "\n",
    "\" 6e-1\" => true\n",
    "\n",
    "\" 99e2.5 \" => false\n",
    "\n",
    "\"53.5e93\" => true\n",
    "\n",
    "\" --6 \" => false\n",
    "\n",
    "\"-+3\" => false\n",
    "\n",
    "\"95a54e53\" => false"
   ]
  },
  {
   "cell_type": "markdown",
   "metadata": {},
   "source": [
    "# Solution:"
   ]
  },
  {
   "cell_type": "code",
   "execution_count": 26,
   "metadata": {},
   "outputs": [],
   "source": [
    "class Solution_1:\n",
    "    \"\"\"正则匹配\"\"\"\n",
    "    \n",
    "    def isNumber(self, s):\n",
    "        \"\"\"\n",
    "        :type s: str\n",
    "        :rtype: bool\n",
    "        \"\"\"\n",
    "        return re.match(r\"^ *[\\+\\-]?([0-9]+(\\.[0-9]*)?|\\.[0-9]+)([eE][\\+\\-]?[0-9]+)? *$\",s)"
   ]
  },
  {
   "cell_type": "markdown",
   "metadata": {},
   "source": [
    "# Test:"
   ]
  },
  {
   "cell_type": "code",
   "execution_count": 28,
   "metadata": {},
   "outputs": [
    {
     "name": "stdout",
     "output_type": "stream",
     "text": [
      "True\n",
      "False\n"
     ]
    }
   ],
   "source": [
    "if __name__ == '__main__':\n",
    "    s_1 = Solution_1()\n",
    "    print (bool(s_1.isNumber(\"53.5e93\" )))\n",
    "    print (bool(s_1.isNumber(\" 99e2.5 \" )))"
   ]
  }
 ],
 "metadata": {
  "kernelspec": {
   "display_name": "Python 3",
   "language": "python",
   "name": "python3"
  },
  "language_info": {
   "codemirror_mode": {
    "name": "ipython",
    "version": 3
   },
   "file_extension": ".py",
   "mimetype": "text/x-python",
   "name": "python",
   "nbconvert_exporter": "python",
   "pygments_lexer": "ipython3",
   "version": "3.7.1"
  }
 },
 "nbformat": 4,
 "nbformat_minor": 2
}
