{
 "cells": [
  {
   "cell_type": "markdown",
   "metadata": {},
   "source": [
    "# Description:"
   ]
  },
  {
   "cell_type": "markdown",
   "metadata": {},
   "source": [
    "Given an array nums of n integers and an integer target, are there elements a, b, c, and d in nums such that a + b + c + d = target? Find all unique quadruplets in the array which gives the sum of target.\n",
    "\n",
    "Note:\n",
    "The solution set must not contain duplicate quadruplets."
   ]
  },
  {
   "cell_type": "markdown",
   "metadata": {},
   "source": [
    "# Example:"
   ]
  },
  {
   "cell_type": "markdown",
   "metadata": {},
   "source": [
    "Given array nums = [1, 0, -1, 0, -2, 2], and target = 0.\n",
    "\n",
    "A solution set is:\n",
    "\n",
    "[\n",
    "  [-1,  0, 0, 1],\n",
    "  [-2, -1, 1, 2],\n",
    "  [-2,  0, 0, 2]\n",
    "]"
   ]
  },
  {
   "cell_type": "markdown",
   "metadata": {},
   "source": [
    "# Solution:"
   ]
  },
  {
   "cell_type": "code",
   "execution_count": 40,
   "metadata": {},
   "outputs": [],
   "source": [
    "class Solution_1(object):\n",
    "    \"\"\"利用两数之和和三数之和算法，递归，复杂度O(n^3)\"\"\"\n",
    "    \n",
    "    def fourSum(self, nums, target):\n",
    "        \"\"\"\n",
    "        :type nums: List[int]\n",
    "        :type target: int\n",
    "        :rtype: List[List[int]]\n",
    "        \"\"\"\n",
    "        nums.sort()\n",
    "        return self.findSum(nums, 4, 0, target)\n",
    "    \n",
    "    def findSum(self, nums, number, start, target):\n",
    "        if number == 2: \n",
    "            return self.twoSum(nums, start, target)\n",
    "        \n",
    "        result = []\n",
    "        \n",
    "        while start < len(nums) - number + 1:\n",
    "            #  important\n",
    "            if target < nums[start] * number or target > nums[-1] * number:\n",
    "                break\n",
    "            \n",
    "            tar = target - nums[start]\n",
    "            res = self.findSum(nums, number - 1, start + 1, tar)\n",
    "            for r in res:\n",
    "                result.append([nums[start]] + r)\n",
    "            while start < len(nums) - number + 1 and nums[start + 1] == nums[start]:\n",
    "                start += 1\n",
    "            start += 1\n",
    "        \n",
    "        return result\n",
    "        \n",
    "    def twoSum(self, nums, start, target):\n",
    "        res = []\n",
    "        end = len(nums) - 1\n",
    "        \n",
    "        while end > start:\n",
    "            if nums[start] + nums[end] == target:\n",
    "                res.append([nums[start], nums[end]])\n",
    "                while end > start + 1 and nums[start + 1] == nums[start]:\n",
    "                    start += 1\n",
    "                start += 1\n",
    "                while end > start + 1 and nums[end - 1] == nums[end]:\n",
    "                    end -= 1\n",
    "                end -= 1\n",
    "            elif nums[start] + nums[end] > target:\n",
    "                end -= 1\n",
    "            else:\n",
    "                start += 1\n",
    "        return res"
   ]
  },
  {
   "cell_type": "markdown",
   "metadata": {},
   "source": [
    "# Test:"
   ]
  },
  {
   "cell_type": "code",
   "execution_count": 41,
   "metadata": {},
   "outputs": [
    {
     "name": "stdout",
     "output_type": "stream",
     "text": [
      "[[-2, -1, 1, 2], [-2, 0, 0, 2], [-1, 0, 0, 1]]\n"
     ]
    }
   ],
   "source": [
    "if __name__ == '__main__':\n",
    "    s_1 = Solution_1()\n",
    "    print(s_1.fourSum([1, 0, -1, 0, -2, 2], 0))"
   ]
  }
 ],
 "metadata": {
  "kernelspec": {
   "display_name": "Python 3",
   "language": "python",
   "name": "python3"
  },
  "language_info": {
   "codemirror_mode": {
    "name": "ipython",
    "version": 3
   },
   "file_extension": ".py",
   "mimetype": "text/x-python",
   "name": "python",
   "nbconvert_exporter": "python",
   "pygments_lexer": "ipython3",
   "version": "3.7.1"
  }
 },
 "nbformat": 4,
 "nbformat_minor": 2
}
