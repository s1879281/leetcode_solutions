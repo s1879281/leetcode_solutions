{
 "cells": [
  {
   "cell_type": "markdown",
   "metadata": {},
   "source": [
    "# Description:"
   ]
  },
  {
   "cell_type": "markdown",
   "metadata": {},
   "source": [
    "Design your implementation of the linked list. You can choose to use the singly linked list or the doubly linked list. A node in a singly linked list should have two attributes: val and next. val is the value of the current node, and next is a pointer/reference to the next node. If you want to use the doubly linked list, you will need one more attribute prev to indicate the previous node in the linked list. Assume all nodes in the linked list are 0-indexed.\n",
    "\n",
    "Implement these functions in your linked list class:\n",
    "\n",
    "get(index) : Get the value of the index-th node in the linked list. If the index is invalid, return -1.\n",
    "\n",
    "addAtHead(val) : Add a node of value val before the first element of the linked list. After the insertion, the new node will be the first node of the linked list.\n",
    "\n",
    "addAtTail(val) : Append a node of value val to the last element of the linked list.\n",
    "\n",
    "addAtIndex(index, val) : Add a node of value val before the index-th node in the linked list. If index equals to the length of linked list, the node will be appended to the end of linked list. If index is greater than the length, the node will not be inserted.\n",
    "\n",
    "deleteAtIndex(index) : Delete the index-th node in the linked list, if the index is valid."
   ]
  },
  {
   "cell_type": "markdown",
   "metadata": {},
   "source": [
    "# Example:"
   ]
  },
  {
   "cell_type": "markdown",
   "metadata": {},
   "source": [
    "MyLinkedList linkedList = new MyLinkedList();\n",
    "\n",
    "linkedList.addAtHead(1);\n",
    "\n",
    "linkedList.addAtTail(3);\n",
    "\n",
    "linkedList.addAtIndex(1, 2);  // linked list becomes 1->2->3\n",
    "\n",
    "linkedList.get(1);            // returns 2\n",
    "\n",
    "linkedList.deleteAtIndex(1);  // now the linked list is 1->3\n",
    "\n",
    "linkedList.get(1);            // returns 3"
   ]
  },
  {
   "cell_type": "markdown",
   "metadata": {},
   "source": [
    "# Solution:"
   ]
  },
  {
   "cell_type": "code",
   "execution_count": 31,
   "metadata": {},
   "outputs": [],
   "source": [
    "class ListNode(object):\n",
    "    \n",
    "    def __init__(self, x):\n",
    "        self.val = x\n",
    "        self.next = None\n",
    "        \n",
    "    def __call__(self):\n",
    "        l = [self.val]\n",
    "        cur = self\n",
    "        while cur.next is not None:\n",
    "            cur = cur.next\n",
    "            l.append(cur.val)\n",
    "        return l\n",
    "\n",
    "class MyLinkedList(object):\n",
    "\n",
    "    def __init__(self):\n",
    "        \"\"\"\n",
    "        Initialize your data structure here.\n",
    "        \"\"\"\n",
    "        self.head = None\n",
    "        self.size = 0\n",
    "        \n",
    "    def __call__(self):\n",
    "        head = self.head\n",
    "        return head()\n",
    "\n",
    "    def get(self, index):\n",
    "        \"\"\"\n",
    "        Get the value of the index-th node in the linked list. If the index is invalid, return -1.\n",
    "        :type index: int\n",
    "        :rtype: int\n",
    "        \"\"\"\n",
    "        if index < 0 or index >= self.size:\n",
    "            return -1\n",
    "        \n",
    "        cur = self.head\n",
    "        \n",
    "        for _ in range(index):\n",
    "            cur = cur.next\n",
    "            \n",
    "        return cur.val\n",
    "        \n",
    "\n",
    "    def addAtHead(self, val):\n",
    "        \"\"\"\n",
    "        Add a node of value val before the first element of the linked list. After the insertion, \n",
    "        the new node will be the first node of the linked list.\n",
    "        :type val: int\n",
    "        :rtype: None\n",
    "        \"\"\" \n",
    "        node = ListNode(val)\n",
    "        \n",
    "        node.next = self.head\n",
    "        self.head = node\n",
    "            \n",
    "        self.size += 1\n",
    "\n",
    "    def addAtTail(self, val):\n",
    "        \"\"\"\n",
    "        Append a node of value val to the last element of the linked list.\n",
    "        :type val: int\n",
    "        :rtype: None\n",
    "        \"\"\"\n",
    "        cur = dummy = ListNode(0)\n",
    "        dummy.next = self.head\n",
    "        \n",
    "        for _ in range(self.size):\n",
    "            cur = cur.next    \n",
    "        \n",
    "        node = ListNode(val)\n",
    "        cur.next = node\n",
    "        self.head = dummy.next\n",
    "            \n",
    "        self.size += 1\n",
    "\n",
    "    def addAtIndex(self, index, val):\n",
    "        \"\"\"\n",
    "        Add a node of value val before the index-th node in the linked list. \n",
    "        If index equals to the length of linked list, the node will be appended to the end of linked list.\n",
    "        If index is greater than the length, the node will not be inserted.\n",
    "        :type index: int\n",
    "        :type val: int\n",
    "        :rtype: None\n",
    "        \"\"\"\n",
    "        if index > self.size:\n",
    "            return\n",
    "        \n",
    "        if index < 0:\n",
    "            self.addAtHead(val)\n",
    "        \n",
    "        if index == self.size:\n",
    "            self.addAtTail(val)\n",
    "        \n",
    "        else:\n",
    "            cur = dummy = ListNode(0)\n",
    "            dummy.next = self.head\n",
    "            \n",
    "            for _ in range(index):\n",
    "                cur = cur.next\n",
    "            \n",
    "            node = ListNode(val)\n",
    "            node.next = cur.next\n",
    "            cur.next = node\n",
    "            self.head = dummy.next\n",
    "            \n",
    "            self.size += 1\n",
    "        \n",
    "\n",
    "    def deleteAtIndex(self, index):\n",
    "        \"\"\"\n",
    "        Delete the index-th node in the linked list, if the index is valid.\n",
    "        :type index: int\n",
    "        :rtype: None\n",
    "        \"\"\"\n",
    "        if index < 0 or index >= self.size:\n",
    "            return\n",
    "        \n",
    "        cur = dummy = ListNode(0)\n",
    "        dummy.next = self.head\n",
    "        \n",
    "        for _ in range(index):\n",
    "            cur = cur.next\n",
    "            \n",
    "        cur.next = cur.next.next\n",
    "        self.head = dummy.next\n",
    "        \n",
    "        self.size -= 1"
   ]
  },
  {
   "cell_type": "markdown",
   "metadata": {},
   "source": [
    "# Test:"
   ]
  },
  {
   "cell_type": "code",
   "execution_count": 33,
   "metadata": {},
   "outputs": [
    {
     "name": "stdout",
     "output_type": "stream",
     "text": [
      "2\n",
      "3\n"
     ]
    }
   ],
   "source": [
    "if __name__ == '__main__':\n",
    "    l = MyLinkedList()\n",
    "    l.addAtHead(1)\n",
    "    l.addAtTail(3)\n",
    "    l.addAtIndex(1, 2)\n",
    "    print(l.get(1))\n",
    "    l.deleteAtIndex(1)\n",
    "    print(l.get(1))"
   ]
  }
 ],
 "metadata": {
  "kernelspec": {
   "display_name": "Python 3",
   "language": "python",
   "name": "python3"
  },
  "language_info": {
   "codemirror_mode": {
    "name": "ipython",
    "version": 3
   },
   "file_extension": ".py",
   "mimetype": "text/x-python",
   "name": "python",
   "nbconvert_exporter": "python",
   "pygments_lexer": "ipython3",
   "version": "3.7.1"
  }
 },
 "nbformat": 4,
 "nbformat_minor": 2
}
