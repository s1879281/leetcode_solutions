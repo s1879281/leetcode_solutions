{
 "cells": [
  {
   "cell_type": "markdown",
   "metadata": {},
   "source": [
    "# Description:"
   ]
  },
  {
   "cell_type": "markdown",
   "metadata": {},
   "source": [
    "Given an array of integers nums sorted in ascending order, find the starting and ending position of a given target value.\n",
    "\n",
    "Your algorithm's runtime complexity must be in the order of O(log n).\n",
    "\n",
    "If the target is not found in the array, return [-1, -1]."
   ]
  },
  {
   "cell_type": "markdown",
   "metadata": {},
   "source": [
    "# Example:"
   ]
  },
  {
   "cell_type": "markdown",
   "metadata": {},
   "source": [
    "Input: nums = [5,7,7,8,8,10], target = 8\n",
    "\n",
    "Output: [3,4]"
   ]
  },
  {
   "cell_type": "markdown",
   "metadata": {},
   "source": [
    "Input: nums = [5,7,7,8,8,10], target = 6\n",
    "    \n",
    "Output: [-1,-1]"
   ]
  },
  {
   "cell_type": "markdown",
   "metadata": {},
   "source": [
    "# Solution:"
   ]
  },
  {
   "cell_type": "code",
   "execution_count": 7,
   "metadata": {},
   "outputs": [],
   "source": [
    "class Solution_1:\n",
    "    \"\"\"二分查找\"\"\"\n",
    "    \n",
    "    def searchRange(self, nums, target):\n",
    "        \"\"\"\n",
    "        :type nums: List[int]\n",
    "        :type target: int\n",
    "        :rtype: List[int]\n",
    "        \"\"\"\n",
    "        l, r = 0, len(nums) - 1\n",
    "        while l <= r:\n",
    "            mid = l + (r - l) // 2\n",
    "            if nums[mid] == target:\n",
    "                break\n",
    "            elif nums[mid] > target:\n",
    "                r = mid - 1\n",
    "            else:\n",
    "                l = mid + 1\n",
    "                \n",
    "        if not nums or nums[mid] != target:\n",
    "            return [-1, -1]\n",
    "        \n",
    "        if mid == 0:\n",
    "            ll = 0\n",
    "        else:\n",
    "            l, r = 0, mid - 1\n",
    "            while l <= r:\n",
    "                m = l + (r - l) // 2\n",
    "                if nums[m] == target:\n",
    "                    r = m - 1\n",
    "                else:\n",
    "                    l = m + 1\n",
    "            ll = l\n",
    "            \n",
    "        if mid == len(nums) - 1:\n",
    "            rr = len(nums) - 1\n",
    "        else:\n",
    "            l, r = mid + 1, len(nums) - 1\n",
    "            while l <= r:\n",
    "                m = l + (r - l) // 2\n",
    "                if nums[m] != target:\n",
    "                    r = m - 1\n",
    "                else:\n",
    "                    l = m + 1\n",
    "            rr = r\n",
    "            \n",
    "        return [ll, rr]"
   ]
  },
  {
   "cell_type": "markdown",
   "metadata": {},
   "source": [
    "# Test:"
   ]
  },
  {
   "cell_type": "code",
   "execution_count": 8,
   "metadata": {},
   "outputs": [
    {
     "name": "stdout",
     "output_type": "stream",
     "text": [
      "[3, 4] [-1, -1]\n"
     ]
    }
   ],
   "source": [
    "if __name__ == '__main__':\n",
    "    s_1 = Solution_1()\n",
    "    print (s_1.searchRange([5,7,7,8,8,10], 8), s_1.searchRange([5,7,7,8,8,10], 6))"
   ]
  }
 ],
 "metadata": {
  "kernelspec": {
   "display_name": "Python 3",
   "language": "python",
   "name": "python3"
  },
  "language_info": {
   "codemirror_mode": {
    "name": "ipython",
    "version": 3
   },
   "file_extension": ".py",
   "mimetype": "text/x-python",
   "name": "python",
   "nbconvert_exporter": "python",
   "pygments_lexer": "ipython3",
   "version": "3.7.1"
  }
 },
 "nbformat": 4,
 "nbformat_minor": 2
}
