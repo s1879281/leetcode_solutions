{
 "cells": [
  {
   "cell_type": "markdown",
   "metadata": {},
   "source": [
    "# Description:"
   ]
  },
  {
   "cell_type": "markdown",
   "metadata": {},
   "source": [
    "Given inorder and postorder traversal of a tree, construct the binary tree.\n",
    "\n",
    "Note:\n",
    "\n",
    "You may assume that duplicates do not exist in the tree."
   ]
  },
  {
   "cell_type": "markdown",
   "metadata": {},
   "source": [
    "# Example:"
   ]
  },
  {
   "cell_type": "markdown",
   "metadata": {},
   "source": [
    "Given:\n",
    "\n",
    "inorder = [9,3,15,20,7]\n",
    "\n",
    "postorder = [9,15,7,20,3]\n",
    "\n",
    "Return the following binary tree:\n",
    "\n",
    "[3,9,20,null,null,15,7]"
   ]
  },
  {
   "cell_type": "markdown",
   "metadata": {},
   "source": [
    "# Solution:"
   ]
  },
  {
   "cell_type": "code",
   "execution_count": 5,
   "metadata": {},
   "outputs": [],
   "source": [
    "# Definition for binary tree node.\n",
    "class TreeNode(object):\n",
    "    \"\"\"定义树的节点\"\"\"\n",
    "    \n",
    "    def __init__(self, x):\n",
    "        self.val = x\n",
    "        self.left = None\n",
    "        self.right = None\n",
    "        \n",
    "    def __call__(self):\n",
    "        cur = self\n",
    "        queue = [cur]\n",
    "        l = [cur.val]\n",
    "        while queue:\n",
    "            cur = queue.pop(0)\n",
    "\n",
    "            if not cur.left:\n",
    "                l.append(None)\n",
    "            else:\n",
    "                queue.append(cur.left)\n",
    "                l.append(cur.left.val)\n",
    "                \n",
    "            if not cur.right:\n",
    "                l.append(None)\n",
    "            else:\n",
    "                queue.append(cur.right)\n",
    "                l.append(cur.right.val)\n",
    "        \n",
    "        while l[-1] is None:\n",
    "            l.pop()\n",
    "                \n",
    "        return l\n",
    "\n",
    "class BinaryTree(object):\n",
    "    \"\"\"定义二叉树\"\"\"\n",
    "    \n",
    "    def __init__(self, numList):\n",
    "        self.root = self.buildBinaryTree(numList, 0)\n",
    "        \n",
    "    def buildBinaryTree(self, numList, index):\n",
    "        if index > len(numList) - 1 or numList[index] == None:\n",
    "            return None\n",
    "        \n",
    "        root = TreeNode(numList[index])\n",
    "        root.left = self.buildBinaryTree(numList, 2 * index + 1)\n",
    "        root.right = self.buildBinaryTree(numList, 2 * index + 2)\n",
    "        \n",
    "        return root\n",
    "            \n",
    "    def __call__(self):\n",
    "        root = self.root\n",
    "                \n",
    "        return root()"
   ]
  },
  {
   "cell_type": "code",
   "execution_count": 10,
   "metadata": {},
   "outputs": [],
   "source": [
    "class Solution_1(object):\n",
    "    \"\"\"递归\"\"\"\n",
    "    \n",
    "    def buildTree(self, inorder, postorder):\n",
    "        \"\"\"\n",
    "        :type inorder: List[int]\n",
    "        :type postorder: List[int]\n",
    "        :rtype: TreeNode\n",
    "        \"\"\"\n",
    "        if inorder:\n",
    "            ind = inorder.index(postorder.pop())\n",
    "            root = TreeNode(inorder[ind])\n",
    "            root.right = self.buildTree(inorder[ind+1:], postorder)\n",
    "            root.left = self.buildTree(inorder[:ind], postorder)\n",
    "            return root"
   ]
  },
  {
   "cell_type": "markdown",
   "metadata": {},
   "source": [
    "# Test:"
   ]
  },
  {
   "cell_type": "code",
   "execution_count": 11,
   "metadata": {},
   "outputs": [
    {
     "name": "stdout",
     "output_type": "stream",
     "text": [
      "[3, 9, 20, None, None, 15, 7]\n"
     ]
    }
   ],
   "source": [
    "if __name__ == '__main__':\n",
    "    s_1 = Solution_1()\n",
    "    print(s_1.buildTree([9,3,15,20,7], [9,15,7,20,3])())"
   ]
  }
 ],
 "metadata": {
  "kernelspec": {
   "display_name": "Python 3",
   "language": "python",
   "name": "python3"
  },
  "language_info": {
   "codemirror_mode": {
    "name": "ipython",
    "version": 3
   },
   "file_extension": ".py",
   "mimetype": "text/x-python",
   "name": "python",
   "nbconvert_exporter": "python",
   "pygments_lexer": "ipython3",
   "version": "3.6.8"
  }
 },
 "nbformat": 4,
 "nbformat_minor": 2
}
