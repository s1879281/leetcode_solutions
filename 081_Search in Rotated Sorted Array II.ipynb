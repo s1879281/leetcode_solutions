{
 "cells": [
  {
   "cell_type": "markdown",
   "metadata": {},
   "source": [
    "# Description:"
   ]
  },
  {
   "cell_type": "markdown",
   "metadata": {},
   "source": [
    "There is an integer array nums sorted in non-decreasing order (not necessarily with distinct values).\n",
    "\n",
    "Before being passed to your function, nums is rotated at an unknown pivot index k (0 <= k < nums.length) such that the resulting array is [nums[k], nums[k+1], ..., nums[n-1], nums[0], nums[1], ..., nums[k-1]] (0-indexed). For example, [0,1,2,4,4,4,5,6,6,7] might be rotated at pivot index 5 and become [4,5,6,6,7,0,1,2,4,4].\n",
    "\n",
    "Given the array nums after the rotation and an integer target, return true if target is in nums, or false if it is not in nums.\n",
    "\n",
    "You must decrease the overall operation steps as much as possible."
   ]
  },
  {
   "cell_type": "markdown",
   "metadata": {},
   "source": [
    "# Example:"
   ]
  },
  {
   "cell_type": "markdown",
   "metadata": {},
   "source": [
    "Input: nums = [2,5,6,0,0,1,2], target = 0\n",
    "\n",
    "Output: true"
   ]
  },
  {
   "cell_type": "markdown",
   "metadata": {},
   "source": [
    "Input: nums = [2,5,6,0,0,1,2], target = 3\n",
    "\n",
    "Output: false"
   ]
  },
  {
   "cell_type": "markdown",
   "metadata": {},
   "source": [
    "# Solution:"
   ]
  },
  {
   "cell_type": "code",
   "execution_count": 1,
   "metadata": {},
   "outputs": [],
   "source": [
    "class Solution:\n",
    "    \"\"\"二分查找\"\"\"\n",
    "    \n",
    "    def search(self, nums, target):\n",
    "        l, r = 0, len(nums) - 1\n",
    "        while l <= r:\n",
    "            mid = (l + r) // 2\n",
    "            if nums[mid] == target:\n",
    "                return True\n",
    "            while l <= mid and nums[l] == nums[mid]:\n",
    "                l += 1\n",
    "            if l > mid:\n",
    "                continue\n",
    "            if nums[l] <= nums[mid]:\n",
    "                if nums[l] <= target < nums[mid]:\n",
    "                    r = mid - 1\n",
    "                else:\n",
    "                    l = mid + 1\n",
    "            else:\n",
    "                if nums[mid] < target <= nums[r]:\n",
    "                    l = mid + 1\n",
    "                else:\n",
    "                    r = mid - 1\n",
    "        return False"
   ]
  },
  {
   "cell_type": "markdown",
   "metadata": {},
   "source": [
    "# Test:"
   ]
  },
  {
   "cell_type": "code",
   "execution_count": 2,
   "metadata": {},
   "outputs": [
    {
     "name": "stdout",
     "output_type": "stream",
     "text": [
      "False\n"
     ]
    }
   ],
   "source": [
    "if __name__ == '__main__':\n",
    "    s = Solution()\n",
    "    print(s.search([2,5,6,0,0,1,2], 3))"
   ]
  }
 ],
 "metadata": {
  "kernelspec": {
   "display_name": "Python 3",
   "language": "python",
   "name": "python3"
  },
  "language_info": {
   "codemirror_mode": {
    "name": "ipython",
    "version": 3
   },
   "file_extension": ".py",
   "mimetype": "text/x-python",
   "name": "python",
   "nbconvert_exporter": "python",
   "pygments_lexer": "ipython3",
   "version": "3.7.1"
  }
 },
 "nbformat": 4,
 "nbformat_minor": 2
}
