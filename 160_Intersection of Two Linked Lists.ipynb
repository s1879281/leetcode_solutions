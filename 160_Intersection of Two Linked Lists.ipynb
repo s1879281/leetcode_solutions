{
 "cells": [
  {
   "cell_type": "markdown",
   "metadata": {},
   "source": [
    "# Description:"
   ]
  },
  {
   "cell_type": "markdown",
   "metadata": {},
   "source": [
    "Write a program to find the node at which the intersection of two singly linked lists begins."
   ]
  },
  {
   "cell_type": "markdown",
   "metadata": {},
   "source": [
    "# Example:"
   ]
  },
  {
   "cell_type": "markdown",
   "metadata": {},
   "source": [
    "Input: intersectVal = 8, listA = [4,1,8,4,5], listB = [5,0,1,8,4,5], skipA = 2, skipB = 3\n",
    "\n",
    "Output: Reference of the node with value = 8\n",
    "\n",
    "Input Explanation: The intersected node's value is 8 (note that this must not be 0 if the two lists intersect). From the head of A, it reads as [4,1,8,4,5]. From the head of B, it reads as [5,0,1,8,4,5]. There are 2 nodes before the intersected node in A; There are 3 nodes before the intersected node in B."
   ]
  },
  {
   "cell_type": "markdown",
   "metadata": {},
   "source": [
    "Input: intersectVal = 2, listA = [0,9,1,2,4], listB = [3,2,4], skipA = 3, skipB = 1\n",
    "    \n",
    "Output: Reference of the node with value = 2\n",
    "    \n",
    "Input Explanation: The intersected node's value is 2 (note that this must not be 0 if the two lists intersect). From the head of A, it reads as [0,9,1,2,4]. From the head of B, it reads as [3,2,4]. There are 3 nodes before the intersected node in A; There are 1 node before the intersected node in B."
   ]
  },
  {
   "cell_type": "markdown",
   "metadata": {},
   "source": [
    "Input: intersectVal = 0, listA = [2,6,4], listB = [1,5], skipA = 3, skipB = 2\n",
    "    \n",
    "Output: null\n",
    "    \n",
    "Input Explanation: From the head of A, it reads as [2,6,4]. From the head of B, it reads as [1,5]. Since the two lists do not intersect, intersectVal must be 0, while skipA and skipB can be arbitrary values.\n",
    "Explanation: The two lists do not intersect, so return null."
   ]
  },
  {
   "cell_type": "markdown",
   "metadata": {},
   "source": [
    "# Solution:"
   ]
  },
  {
   "cell_type": "code",
   "execution_count": 6,
   "metadata": {},
   "outputs": [],
   "source": [
    "# Definition for singly-linked list.\n",
    "class ListNode(object):\n",
    "    \"\"\"定义链表节点\"\"\"\n",
    "    \n",
    "    def __init__(self, x):\n",
    "        self.val = x\n",
    "        self.next = None\n",
    "        \n",
    "    def __call__(self):\n",
    "        l = [self.val]\n",
    "        cur = self\n",
    "        while cur.next is not None:\n",
    "            cur = cur.next\n",
    "            l.append(cur.val)\n",
    "        return l\n",
    "\n",
    "class LinkedList(object):\n",
    "    \"\"\"定义链表\"\"\"\n",
    "    \n",
    "    def __init__(self, numList):\n",
    "        if len(numList) == 0:\n",
    "            self.head = None\n",
    "        else:\n",
    "            self.head = cur = ListNode(numList[0])\n",
    "            index = 1\n",
    "            while index < len(numList):\n",
    "                cur.next = ListNode(numList[index])\n",
    "                cur = cur.next\n",
    "                index += 1\n",
    "            \n",
    "    def __call__(self):\n",
    "        head = self.head\n",
    "        return head()"
   ]
  },
  {
   "cell_type": "code",
   "execution_count": 9,
   "metadata": {},
   "outputs": [],
   "source": [
    "class Solution_1(object):\n",
    "    \"\"\"\"\"\"\n",
    "    \n",
    "    def getIntersectionNode(self, headA, headB):\n",
    "        \"\"\"\n",
    "        :type head1, head1: ListNode\n",
    "        :rtype: ListNode\n",
    "        \"\"\"\n",
    "        pa, pb = headA, headB\n",
    "        while pa is not pb:\n",
    "            pa = headB if pa is None else pa.next\n",
    "            pb = headA if pb is None else pb.next\n",
    "        return pa"
   ]
  },
  {
   "cell_type": "markdown",
   "metadata": {},
   "source": [
    "# Test:"
   ]
  },
  {
   "cell_type": "code",
   "execution_count": 10,
   "metadata": {},
   "outputs": [
    {
     "name": "stdout",
     "output_type": "stream",
     "text": [
      "None\n",
      "None\n"
     ]
    }
   ],
   "source": [
    "if __name__ == '__main__':\n",
    "    s_1 = Solution_1()\n",
    "    \n",
    "    list1 = LinkedList([4,1,8,4,5])\n",
    "    l1 = list1.head\n",
    "    list2 = LinkedList([5,0,1,8,4,5])\n",
    "    l2 = list2.head\n",
    "    l = s_1.getIntersectionNode(l1, l2)\n",
    "    print(l.val if l else None)\n",
    "    \n",
    "    list1 = LinkedList([2,6,4])\n",
    "    l1 = list1.head\n",
    "    list2 = LinkedList([1,5])\n",
    "    l2 = list2.head\n",
    "    l = s_1.getIntersectionNode(l1, l2)\n",
    "    print(l.val if l else None)"
   ]
  }
 ],
 "metadata": {
  "kernelspec": {
   "display_name": "Python 3",
   "language": "python",
   "name": "python3"
  },
  "language_info": {
   "codemirror_mode": {
    "name": "ipython",
    "version": 3
   },
   "file_extension": ".py",
   "mimetype": "text/x-python",
   "name": "python",
   "nbconvert_exporter": "python",
   "pygments_lexer": "ipython3",
   "version": "3.7.1"
  }
 },
 "nbformat": 4,
 "nbformat_minor": 2
}
