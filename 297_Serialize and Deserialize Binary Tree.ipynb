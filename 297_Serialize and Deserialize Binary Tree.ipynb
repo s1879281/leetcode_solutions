{
 "cells": [
  {
   "cell_type": "markdown",
   "metadata": {},
   "source": [
    "# Description:"
   ]
  },
  {
   "cell_type": "markdown",
   "metadata": {},
   "source": [
    "Serialization is the process of converting a data structure or object into a sequence of bits so that it can be stored in a file or memory buffer, or transmitted across a network connection link to be reconstructed later in the same or another computer environment.\n",
    "\n",
    "Design an algorithm to serialize and deserialize a binary tree. There is no restriction on how your serialization/deserialization algorithm should work. You just need to ensure that a binary tree can be serialized to a string and this string can be deserialized to the original tree structure."
   ]
  },
  {
   "cell_type": "markdown",
   "metadata": {},
   "source": [
    "# Solution:"
   ]
  },
  {
   "cell_type": "code",
   "execution_count": 22,
   "metadata": {},
   "outputs": [],
   "source": [
    "# Definition for binary tree node.\n",
    "class TreeNode(object):\n",
    "    \"\"\"定义树的节点\"\"\"\n",
    "    \n",
    "    def __init__(self, x):\n",
    "        self.val = x\n",
    "        self.left = None\n",
    "        self.right = None\n",
    "        \n",
    "    def __call__(self):\n",
    "        cur = self\n",
    "        queue = [cur]\n",
    "        l = [cur.val]\n",
    "        while queue:\n",
    "            cur = queue.pop(0)\n",
    "\n",
    "            if not cur.left:\n",
    "                l.append(None)\n",
    "            else:\n",
    "                queue.append(cur.left)\n",
    "                l.append(cur.left.val)\n",
    "                \n",
    "            if not cur.right:\n",
    "                l.append(None)\n",
    "            else:\n",
    "                queue.append(cur.right)\n",
    "                l.append(cur.right.val)\n",
    "        \n",
    "        while l[-1] is None:\n",
    "            l.pop()\n",
    "                \n",
    "        return l\n",
    "\n",
    "class BinaryTree(object):\n",
    "    \"\"\"定义二叉树\"\"\"\n",
    "    \n",
    "    def __init__(self, numList):\n",
    "        self.root = self.buildBinaryTree(numList, 0)\n",
    "        \n",
    "    def buildBinaryTree(self, numList, index):\n",
    "        if index > len(numList) - 1 or numList[index] == None:\n",
    "            return None\n",
    "        \n",
    "        root = TreeNode(numList[index])\n",
    "        root.left = self.buildBinaryTree(numList, 2 * index + 1)\n",
    "        root.right = self.buildBinaryTree(numList, 2 * index + 2)\n",
    "        \n",
    "        return root\n",
    "            \n",
    "    def __call__(self):\n",
    "        root = self.root\n",
    "                \n",
    "        return root()"
   ]
  },
  {
   "cell_type": "code",
   "execution_count": 39,
   "metadata": {},
   "outputs": [],
   "source": [
    "class Codec_1:\n",
    "    \"\"\"前序遍历\"\"\"\n",
    "    \n",
    "    def serialize(self, root):\n",
    "        \"\"\"Encodes a tree to a single string.\n",
    "        \n",
    "        :type root: TreeNode\n",
    "        :rtype: str\n",
    "        \"\"\"\n",
    "        self.ans = []\n",
    "        self.preorder(root)\n",
    "        return ' '.join(self.ans)\n",
    "        \n",
    "        \n",
    "    def preorder(self, root):\n",
    "        if root:\n",
    "            self.ans.append(str(root.val))\n",
    "            self.preorder(root.left)\n",
    "            self.preorder(root.right)\n",
    "        else:\n",
    "            self.ans.append('#')\n",
    "\n",
    "            \n",
    "    def deserialize(self, data):\n",
    "        \"\"\"Decodes your encoded data to tree.\n",
    "        \n",
    "        :type data: str\n",
    "        :rtype: TreeNode\n",
    "        \"\"\"\n",
    "        return self.buildTree(data.split())\n",
    "        \n",
    "        \n",
    "    def buildTree(self, l):\n",
    "        if l:\n",
    "            node = l.pop(0)\n",
    "            if node != '#':\n",
    "                root = TreeNode(int(node))\n",
    "                root.left = self.buildTree(l)\n",
    "                root.right = self.buildTree(l)\n",
    "                return root"
   ]
  },
  {
   "cell_type": "code",
   "execution_count": 40,
   "metadata": {},
   "outputs": [],
   "source": [
    "class Codec_2:\n",
    "    \"\"\"层级遍历\"\"\"\n",
    "    \n",
    "    def serialize(self, root):\n",
    "        \"\"\"Encodes a tree to a single string.\n",
    "        \n",
    "        :type root: TreeNode\n",
    "        :rtype: str\n",
    "        \"\"\"\n",
    "        ans = []\n",
    "        queue = [root]\n",
    "        \n",
    "        while any(queue):\n",
    "            for node in queue:\n",
    "                if node:\n",
    "                    ans.append(str(node.val))\n",
    "                else:\n",
    "                    ans.append('#')\n",
    "            temp_queue = []\n",
    "            \n",
    "            for node in queue:\n",
    "                if node:\n",
    "                    temp_queue.extend([node.left, node.right])\n",
    "                else:\n",
    "                    temp_queue.extend([None, None])\n",
    "            queue = temp_queue\n",
    "            \n",
    "        return ' '.join(ans)\n",
    "\n",
    "    \n",
    "    def deserialize(self, data):\n",
    "        \"\"\"Decodes your encoded data to tree.\n",
    "        \n",
    "        :type data: str\n",
    "        :rtype: TreeNode\n",
    "        \"\"\"\n",
    "        l = data.split()\n",
    "        return self.buildTree(l, 0)\n",
    "    \n",
    "    \n",
    "    def buildTree(self, l, ind):\n",
    "        if ind >= len(l) or l[ind] == '#':\n",
    "            return\n",
    "        root = TreeNode(int(l[ind]))\n",
    "        root.left = self.buildTree(l, 2 * ind + 1)\n",
    "        root.right = self.buildTree(l, 2 * ind + 2)\n",
    "        return root"
   ]
  },
  {
   "cell_type": "markdown",
   "metadata": {},
   "source": [
    "# Test:"
   ]
  },
  {
   "cell_type": "code",
   "execution_count": 42,
   "metadata": {},
   "outputs": [
    {
     "name": "stdout",
     "output_type": "stream",
     "text": [
      "[1, 2, 3, None, None, 4, 5]\n",
      "[1, 2, 3, None, None, 4, 5]\n"
     ]
    }
   ],
   "source": [
    "if __name__ == '__main__':\n",
    "    tree_1 = BinaryTree([1,2,3,None,None,4,5])\n",
    "    root_1 = tree_1.root\n",
    "    codec_1 = Codec_1()\n",
    "    root = codec_1.deserialize(codec_1.serialize(root_1))\n",
    "    print (root())\n",
    "    codec_2 = Codec_2()\n",
    "    root = codec_2.deserialize(codec.serialize(root_1))\n",
    "    print (root())"
   ]
  }
 ],
 "metadata": {
  "kernelspec": {
   "display_name": "Python 3",
   "language": "python",
   "name": "python3"
  },
  "language_info": {
   "codemirror_mode": {
    "name": "ipython",
    "version": 3
   },
   "file_extension": ".py",
   "mimetype": "text/x-python",
   "name": "python",
   "nbconvert_exporter": "python",
   "pygments_lexer": "ipython3",
   "version": "3.7.1"
  }
 },
 "nbformat": 4,
 "nbformat_minor": 2
}
