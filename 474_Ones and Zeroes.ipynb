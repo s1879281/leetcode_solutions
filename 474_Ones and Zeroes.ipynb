{
 "cells": [
  {
   "cell_type": "markdown",
   "metadata": {},
   "source": [
    "# Description:"
   ]
  },
  {
   "cell_type": "markdown",
   "metadata": {},
   "source": [
    "In the computer world, use restricted resource you have to generate maximum benefit is what we always want to pursue.\n",
    "For now, suppose you are a dominator of m 0s and n 1s respectively. On the other hand, there is an array with strings consisting of only 0s and 1s.\n",
    "\n",
    "Now your task is to find the maximum number of strings that you can form with given m 0s and n 1s. Each 0 and 1 can be used at most once.\n",
    "\n",
    "Note:\n",
    "\n",
    "The given numbers of 0s and 1s will both not exceed 100\n",
    "\n",
    "The size of given string array won't exceed 600."
   ]
  },
  {
   "cell_type": "markdown",
   "metadata": {},
   "source": [
    "# Example:"
   ]
  },
  {
   "cell_type": "markdown",
   "metadata": {},
   "source": [
    "Input: Array = {\"10\", \"0001\", \"111001\", \"1\", \"0\"}, m = 5, n = 3\n",
    "\n",
    "Output: 4\n",
    "\n",
    "Explanation: This are totally 4 strings can be formed by the using of 5 0s and 3 1s, which are “10,”0001”,”1”,”0”"
   ]
  },
  {
   "cell_type": "markdown",
   "metadata": {},
   "source": [
    "Input: Array = {\"10\", \"0\", \"1\"}, m = 1, n = 1\n",
    "\n",
    "Output: 2\n",
    "\n",
    "Explanation: You could form \"10\", but then you'd have nothing left. Better form \"0\" and \"1\"."
   ]
  },
  {
   "cell_type": "markdown",
   "metadata": {},
   "source": [
    "# Solution:"
   ]
  },
  {
   "cell_type": "code",
   "execution_count": 1,
   "metadata": {},
   "outputs": [],
   "source": [
    "class Solution_1:\n",
    "    \"\"\"动态规划，时间复杂度O(MNL)，TLE error\"\"\"\n",
    "    \n",
    "    def findMaxForm(self, strs, m, n):\n",
    "        \"\"\"\n",
    "        :type strs: List[str]\n",
    "        :type m: int\n",
    "        :type n: int\n",
    "        :rtype: int\n",
    "        \"\"\"\n",
    "        dp = [[[0 for k in range(n + 1)] for j in range(m + 1)] for i in range(len(strs) + 1)]\n",
    "        \n",
    "        for i in range(1, len(strs) + 1):\n",
    "            for j in range(0, m + 1):\n",
    "                for k in range(0, n + 1):\n",
    "                    l = [dp[s - 1][j - strs[s - 1].count('0')][k - strs[s - 1].count('1')] for s in range(1, i + 1) \\\n",
    "                        if j - strs[s - 1].count('0') >= 0 and k - strs[s - 1].count('1') >= 0]\n",
    "                    if not l:\n",
    "                        dp[i][j][k] = 0\n",
    "                    else:\n",
    "                        dp[i][j][k] = max(l) + 1\n",
    "                        \n",
    "        return dp[-1][-1][-1]"
   ]
  },
  {
   "cell_type": "code",
   "execution_count": 2,
   "metadata": {},
   "outputs": [],
   "source": [
    "class Solution_2:\n",
    "    \"\"\"动态规划，时间复杂度O(MNL)，TLE error\"\"\"\n",
    "    \n",
    "    def findMaxForm(self, strs, m, n):\n",
    "        \"\"\"\n",
    "        :type strs: List[str]\n",
    "        :type m: int\n",
    "        :type n: int\n",
    "        :rtype: int\n",
    "        \"\"\"\n",
    "        dp = [[[0 for k in range(n + 1)] for j in range(m + 1)] for i in range(len(strs) + 1)]\n",
    "        \n",
    "        for i in range(1, len(strs) + 1):\n",
    "            for j in range(0, m + 1):\n",
    "                for k in range(0, n + 1):\n",
    "                    if j - strs[i - 1].count('0') >= 0 and k - strs[i - 1].count('1') >= 0:\n",
    "                        dp[i][j][k] = max(dp[i - 1][j - strs[i - 1].count('0')][k - strs[i - 1].count('1')] + 1, \\\n",
    "                                          dp[i - 1][j][k])\n",
    "                    \n",
    "                    else:\n",
    "                        dp[i][j][k] = dp[i - 1][j][k]\n",
    "                        \n",
    "        return dp[-1][-1][-1]"
   ]
  },
  {
   "cell_type": "code",
   "execution_count": 3,
   "metadata": {},
   "outputs": [],
   "source": [
    "class Solution_3:\n",
    "    \"\"\"动态规划，时间复杂度O(MNL)，空间复杂度O(MN)\"\"\"\n",
    "    \n",
    "    def findMaxForm(self, strs, m, n):\n",
    "        \"\"\"\n",
    "        :type strs: List[str]\n",
    "        :type m: int\n",
    "        :type n: int\n",
    "        :rtype: int\n",
    "        \"\"\"\n",
    "        dp = [[0 for k in range(n + 1)] for j in range(m + 1)]\n",
    "        \n",
    "        for i in range(len(strs)):\n",
    "            x = strs[i].count('0')\n",
    "            y = strs[i].count('1')\n",
    "            for j in range(m, -1, -1):\n",
    "                for k in range(n, -1, -1):\n",
    "                    if j - x >= 0 and k - y >= 0:\n",
    "                        dp[j][k] = max(dp[j - x][k - y] + 1, dp[j][k])\n",
    "                    \n",
    "        return dp[-1][-1]"
   ]
  },
  {
   "cell_type": "code",
   "execution_count": 4,
   "metadata": {},
   "outputs": [],
   "source": [
    "class Solution_4:\n",
    "    \"\"\"深度优先+记忆化搜索+剪枝\"\"\"\n",
    "    \n",
    "    def findMaxForm(self, strs, m, n):\n",
    "        \"\"\"\n",
    "        :type strs: List[str]\n",
    "        :type m: int\n",
    "        :type n: int\n",
    "        :rtype: int\n",
    "        \"\"\"\n",
    "        strs.sort()\n",
    "        self.dp = {}\n",
    "        return self.dfs(strs, 0, m, n)\n",
    "        \n",
    "        \n",
    "    def dfs(self, strs, start, m, n):\n",
    "        if m < 0 or n < 0:\n",
    "            return None\n",
    "        if (start, m, n) in self.dp:\n",
    "            return self.dp[(start, m, n)]\n",
    "\n",
    "        l = []\n",
    "        for i in range(start, len(strs)):\n",
    "            if i > start and strs[i] == strs[i - 1]:\n",
    "                continue\n",
    "            r = self.dfs(strs, i + 1, m - strs[i].count('0'), n - strs[i].count('1'))\n",
    "            if r is not None:\n",
    "                l.append(r)\n",
    "                \n",
    "        self.dp[(start, m, n)] = max(l) + 1 if l else 0\n",
    "        return self.dp[(start, m, n)]"
   ]
  },
  {
   "cell_type": "markdown",
   "metadata": {},
   "source": [
    "# Test:"
   ]
  },
  {
   "cell_type": "code",
   "execution_count": 5,
   "metadata": {},
   "outputs": [
    {
     "name": "stdout",
     "output_type": "stream",
     "text": [
      "4 2\n",
      "4 2\n",
      "4 2\n",
      "4 2\n"
     ]
    }
   ],
   "source": [
    "if __name__ == '__main__':\n",
    "    s_1 = Solution_1()\n",
    "    s_2 = Solution_2()\n",
    "    s_3 = Solution_3()\n",
    "    s_4 = Solution_4()\n",
    "    print (s_1.findMaxForm([\"10\", \"0001\", \"111001\", \"1\", \"0\"], 5, 3), s_1.findMaxForm([\"10\", \"0\", \"1\"], 1, 1))\n",
    "    print (s_2.findMaxForm([\"10\", \"0001\", \"111001\", \"1\", \"0\"], 5, 3), s_2.findMaxForm([\"10\", \"0\", \"1\"], 1, 1))\n",
    "    print (s_3.findMaxForm([\"10\", \"0001\", \"111001\", \"1\", \"0\"], 5, 3), s_3.findMaxForm([\"10\", \"0\", \"1\"], 1, 1))\n",
    "    print (s_4.findMaxForm([\"10\", \"0001\", \"111001\", \"1\", \"0\"], 5, 3), s_4.findMaxForm([\"10\", \"0\", \"1\"], 1, 1))"
   ]
  }
 ],
 "metadata": {
  "kernelspec": {
   "display_name": "Python 3",
   "language": "python",
   "name": "python3"
  },
  "language_info": {
   "codemirror_mode": {
    "name": "ipython",
    "version": 3
   },
   "file_extension": ".py",
   "mimetype": "text/x-python",
   "name": "python",
   "nbconvert_exporter": "python",
   "pygments_lexer": "ipython3",
   "version": "3.6.8"
  }
 },
 "nbformat": 4,
 "nbformat_minor": 2
}
