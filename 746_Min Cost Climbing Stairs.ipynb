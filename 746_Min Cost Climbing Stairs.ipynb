{
 "cells": [
  {
   "cell_type": "markdown",
   "metadata": {},
   "source": [
    "# Description:"
   ]
  },
  {
   "cell_type": "markdown",
   "metadata": {},
   "source": [
    "On a staircase, the i-th step has some non-negative cost cost[i] assigned (0 indexed). \n",
    "\n",
    "Once you pay the cost, you can either climb one or two steps. You need to find minimum cost to reach the top of the floor, and you can either start from the step with index 0, or the step with index 1. "
   ]
  },
  {
   "cell_type": "markdown",
   "metadata": {},
   "source": [
    "# Example:"
   ]
  },
  {
   "cell_type": "markdown",
   "metadata": {},
   "source": [
    "Input: cost = [10, 15, 20]\n",
    "\n",
    "Output: 15\n",
    "\n",
    "Explanation: Cheapest is start on cost[1], pay that cost and go to the top."
   ]
  },
  {
   "cell_type": "markdown",
   "metadata": {},
   "source": [
    "Input: cost = [1, 100, 1, 1, 1, 100, 1, 1, 100, 1]\n",
    "\n",
    "Output: 6\n",
    "\n",
    "Explanation: Cheapest is start on cost[0], and only step on 1s, skipping cost[3]."
   ]
  },
  {
   "cell_type": "markdown",
   "metadata": {},
   "source": [
    "# Solution:"
   ]
  },
  {
   "cell_type": "code",
   "execution_count": 16,
   "metadata": {},
   "outputs": [],
   "source": [
    "class Solution_1:\n",
    "    \"\"\"动态规划，复杂度O(n)\"\"\"\n",
    "    \n",
    "    def minCostClimbingStairs(self, cost):\n",
    "        \"\"\"\n",
    "        :type cost: List[int]\n",
    "        :rtype: int\n",
    "        \"\"\"\n",
    "        n = len(cost)\n",
    "        dp = {0:0, 1:0}\n",
    "        for i in range(2, n+1):\n",
    "            dp[i] = min(dp[i-2] + cost[i-2], dp[i-1] + cost[i-1])\n",
    "        return dp[n]"
   ]
  },
  {
   "cell_type": "code",
   "execution_count": 22,
   "metadata": {},
   "outputs": [],
   "source": [
    "class Solution_2:\n",
    "    \"\"\"动态规划，空间复杂度O(1)\"\"\"\n",
    "    \n",
    "    def minCostClimbingStairs(self, cost):\n",
    "        \"\"\"\n",
    "        :type cost: List[int]\n",
    "        :rtype: int\n",
    "        \"\"\"\n",
    "        n = len(cost)\n",
    "        a, b = 0, 0\n",
    "        for i in range(2, n):\n",
    "            a, b = b, min(a + cost[i-2], b + cost[i-1])\n",
    "        return min(a + cost[-2], b + cost[-1])"
   ]
  },
  {
   "cell_type": "code",
   "execution_count": 23,
   "metadata": {},
   "outputs": [],
   "source": [
    "class Solution_3:\n",
    "    \"\"\"深度优先记忆化搜索，复杂度O(n)\"\"\"\n",
    "    \n",
    "    def minCostClimbingStairs(self, cost):\n",
    "        \"\"\"\n",
    "        :type cost: List[int]\n",
    "        :rtype: int\n",
    "        \"\"\"\n",
    "        n = len(cost)\n",
    "        self.dp = {0:0, 1:0}\n",
    "        return self.helper(n, cost)\n",
    "    \n",
    "    def helper(self, n, cost):\n",
    "        if n in self.dp:\n",
    "            return self.dp[n]\n",
    "        \n",
    "        self.dp[n] = min(self.helper(n-2,cost) + cost[n-2], self.helper(n-1,cost) + cost[n-1])\n",
    "        return self.dp[n]"
   ]
  },
  {
   "cell_type": "markdown",
   "metadata": {},
   "source": [
    "# Test:"
   ]
  },
  {
   "cell_type": "code",
   "execution_count": 24,
   "metadata": {},
   "outputs": [
    {
     "name": "stdout",
     "output_type": "stream",
     "text": [
      "6\n",
      "6\n",
      "6\n"
     ]
    }
   ],
   "source": [
    "if __name__ == '__main__':\n",
    "    s_1 = Solution_1()\n",
    "    s_2 = Solution_2()\n",
    "    s_3 = Solution_3()\n",
    "    print(s_1.minCostClimbingStairs([1, 100, 1, 1, 1, 100, 1, 1, 100, 1]))\n",
    "    print(s_2.minCostClimbingStairs([1, 100, 1, 1, 1, 100, 1, 1, 100, 1]))\n",
    "    print(s_3.minCostClimbingStairs([1, 100, 1, 1, 1, 100, 1, 1, 100, 1]))"
   ]
  }
 ],
 "metadata": {
  "kernelspec": {
   "display_name": "Python 3",
   "language": "python",
   "name": "python3"
  },
  "language_info": {
   "codemirror_mode": {
    "name": "ipython",
    "version": 3
   },
   "file_extension": ".py",
   "mimetype": "text/x-python",
   "name": "python",
   "nbconvert_exporter": "python",
   "pygments_lexer": "ipython3",
   "version": "3.7.1"
  }
 },
 "nbformat": 4,
 "nbformat_minor": 2
}
