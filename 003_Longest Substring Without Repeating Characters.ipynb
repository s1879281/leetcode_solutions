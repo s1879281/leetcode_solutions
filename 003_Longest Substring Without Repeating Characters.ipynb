{
 "cells": [
  {
   "cell_type": "markdown",
   "metadata": {},
   "source": [
    "# Description:"
   ]
  },
  {
   "cell_type": "markdown",
   "metadata": {},
   "source": [
    "Given a string, find the length of the longest substring without repeating characters."
   ]
  },
  {
   "cell_type": "markdown",
   "metadata": {},
   "source": [
    "# Example:"
   ]
  },
  {
   "cell_type": "markdown",
   "metadata": {},
   "source": [
    "Input: \"abcabcbb\"\n",
    "\n",
    "Output: 3 \n",
    "\n",
    "Explanation: The answer is \"abc\", with the length of 3. "
   ]
  },
  {
   "cell_type": "markdown",
   "metadata": {},
   "source": [
    "Input: \"bbbbb\"\n",
    "\n",
    "Output: 1\n",
    "\n",
    "Explanation: The answer is \"b\", with the length of 1."
   ]
  },
  {
   "cell_type": "markdown",
   "metadata": {},
   "source": [
    "Input: \"pwwkew\"\n",
    "    \n",
    "Output: 3\n",
    "    \n",
    "Explanation: The answer is \"wke\", with the length of 3. \n",
    "             Note that the answer must be a substring, \"pwke\" is a subsequence and not a substring."
   ]
  },
  {
   "cell_type": "markdown",
   "metadata": {},
   "source": [
    "# Solution:"
   ]
  },
  {
   "cell_type": "code",
   "execution_count": 3,
   "metadata": {},
   "outputs": [],
   "source": [
    "class Solution_1:\n",
    "    \n",
    "    def lengthOfLongestSubstring(self, s):\n",
    "        \"\"\"从前向后遍历，以遍历到的每个字符作为首字符。先判断以该字符开始的maxLength长度的字符串内是否有重复字符，\n",
    "        然后逐一增加新字符。若产生最大长度，则更新maxLength。复杂度O(n^2)\"\"\"\n",
    "        \n",
    "        \"\"\"\n",
    "        :type s: str\n",
    "        :rtype: int\n",
    "        \"\"\"\n",
    "        if not s:\n",
    "            return 0\n",
    "        maxLength = 1\n",
    "        for i in range(len(s)):\n",
    "            j = i + maxLength\n",
    "            \n",
    "            if j - i + 1 - len(set(s[i:j])) > 1:\n",
    "                continue\n",
    "                \n",
    "            while j < len(s):\n",
    "                if s[j] in s[i:j]:\n",
    "                    break\n",
    "                j += 1\n",
    "                \n",
    "            if j - i > maxLength:\n",
    "                maxLength = j - i\n",
    "                \n",
    "        return maxLength"
   ]
  },
  {
   "cell_type": "code",
   "execution_count": 8,
   "metadata": {},
   "outputs": [],
   "source": [
    "class Solution_2:\n",
    "    \n",
    "    def lengthOfLongestSubstring(self, s):\n",
    "        \"\"\"用字典存储每个字符出现的最后位置。设置一个不重复字符串的起始位置。从前向后遍历字符串，\n",
    "        若字符曾经出现过，并且之前出现的最后位置在起始位置之后，则将起始位置置于之前出现的最后位置的后一位。\n",
    "        若未曾出现过，则尝试更新maxLength。复杂度O(n)\"\"\"\n",
    "        \n",
    "        \"\"\"\n",
    "        :type s: str\n",
    "        :rtype: int\n",
    "        \"\"\"\n",
    "        maxLength = 0\n",
    "        left = 0\n",
    "        used = {}\n",
    "        \n",
    "        for i in range(len(s)):\n",
    "            if s[i] in used and left <= used[s[i]]:\n",
    "                left = used[s[i]] + 1\n",
    "            else:\n",
    "                maxLength = max(maxLength, i - left + 1)\n",
    "                \n",
    "            used[s[i]] = i\n",
    "            \n",
    "        return maxLength"
   ]
  },
  {
   "cell_type": "markdown",
   "metadata": {},
   "source": [
    "# Test:"
   ]
  },
  {
   "cell_type": "code",
   "execution_count": 9,
   "metadata": {},
   "outputs": [
    {
     "name": "stdout",
     "output_type": "stream",
     "text": [
      "3\n",
      "3\n"
     ]
    }
   ],
   "source": [
    "if __name__ == '__main__':\n",
    "    s_1 = Solution_1()\n",
    "    s_2 = Solution_2()\n",
    "    print(s_1.lengthOfLongestSubstring('pwwkew'))\n",
    "    print(s_2.lengthOfLongestSubstring('pwwkew'))"
   ]
  },
  {
   "cell_type": "code",
   "execution_count": null,
   "metadata": {},
   "outputs": [],
   "source": []
  },
  {
   "cell_type": "code",
   "execution_count": null,
   "metadata": {},
   "outputs": [],
   "source": []
  }
 ],
 "metadata": {
  "kernelspec": {
   "display_name": "Python 3",
   "language": "python",
   "name": "python3"
  },
  "language_info": {
   "codemirror_mode": {
    "name": "ipython",
    "version": 3
   },
   "file_extension": ".py",
   "mimetype": "text/x-python",
   "name": "python",
   "nbconvert_exporter": "python",
   "pygments_lexer": "ipython3",
   "version": "3.7.1"
  }
 },
 "nbformat": 4,
 "nbformat_minor": 2
}
