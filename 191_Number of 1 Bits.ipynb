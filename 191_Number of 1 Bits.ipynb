{
 "cells": [
  {
   "cell_type": "markdown",
   "metadata": {},
   "source": [
    "# Description:"
   ]
  },
  {
   "cell_type": "markdown",
   "metadata": {},
   "source": [
    "Write a function that takes an unsigned integer and return the number of '1' bits it has (also known as the Hamming weight)."
   ]
  },
  {
   "cell_type": "markdown",
   "metadata": {},
   "source": [
    "# Example:"
   ]
  },
  {
   "cell_type": "markdown",
   "metadata": {},
   "source": [
    "Input: 00000000000000000000000000001011\n",
    "\n",
    "Output: 3\n",
    "\n",
    "Explanation: The input binary string 00000000000000000000000000001011 has a total of three '1' bits."
   ]
  },
  {
   "cell_type": "markdown",
   "metadata": {},
   "source": [
    "Input: 00000000000000000000000010000000\n",
    "    \n",
    "Output: 1\n",
    "    \n",
    "Explanation: The input binary string 00000000000000000000000010000000 has a total of one '1' bit."
   ]
  },
  {
   "cell_type": "markdown",
   "metadata": {},
   "source": [
    "Input: 11111111111111111111111111111101\n",
    "    \n",
    "Output: 31\n",
    "    \n",
    "Explanation: The input binary string 11111111111111111111111111111101 has a total of thirty one '1' bits."
   ]
  },
  {
   "cell_type": "markdown",
   "metadata": {},
   "source": [
    "# Solution:"
   ]
  },
  {
   "cell_type": "code",
   "execution_count": 1,
   "metadata": {},
   "outputs": [],
   "source": [
    "class Solution_1:\n",
    "    \"\"\"内置函数\"\"\"\n",
    "    \n",
    "    def hammingWeight(self, n):\n",
    "        \"\"\"\n",
    "        :type n: int\n",
    "        :rtype: int\n",
    "        \"\"\"\n",
    "        return str(bin(n)).count('1')"
   ]
  },
  {
   "cell_type": "code",
   "execution_count": 2,
   "metadata": {},
   "outputs": [],
   "source": [
    "class Solution_2:\n",
    "    \"\"\"\n",
    "    Think of a number in binary n = XXXXXX1000, n - 1 is XXXXXX0111. \n",
    "    n & (n - 1) will be XXXXXX0000 which is just cancel the last 1.\n",
    "    \"\"\"\n",
    "    \n",
    "    def hammingWeight(self, n):\n",
    "        \"\"\"\n",
    "        :type n: int\n",
    "        :rtype: int\n",
    "        \"\"\"\n",
    "        c = 0\n",
    "        while n:\n",
    "            n &= n - 1\n",
    "            c += 1\n",
    "        return c"
   ]
  },
  {
   "cell_type": "code",
   "execution_count": 3,
   "metadata": {},
   "outputs": [],
   "source": [
    "class Solution_3:\n",
    "    \"\"\"\n",
    "    右移一位，如果末位为0，应是原来数的1/2\n",
    "    \"\"\"\n",
    "    def hammingWeight(self, n):\n",
    "        \"\"\"\n",
    "        :type n: int\n",
    "        :rtype: int\n",
    "        \"\"\"\n",
    "        res = 0\n",
    "        while n:\n",
    "            if 2 * (n >> 1) != n:\n",
    "                res += 1\n",
    "            n = n >> 1\n",
    "        return res"
   ]
  },
  {
   "cell_type": "markdown",
   "metadata": {},
   "source": [
    "# Test:"
   ]
  },
  {
   "cell_type": "code",
   "execution_count": 4,
   "metadata": {},
   "outputs": [
    {
     "name": "stdout",
     "output_type": "stream",
     "text": [
      "31\n",
      "31\n",
      "31\n"
     ]
    }
   ],
   "source": [
    "if __name__ == '__main__':\n",
    "    s_1 = Solution_1()\n",
    "    s_2 = Solution_2()\n",
    "    s_3 = Solution_3()\n",
    "    print (s_1.hammingWeight(int('11111111111111111111111111111101',2)))\n",
    "    print (s_2.hammingWeight(int('11111111111111111111111111111101',2)))\n",
    "    print (s_3.hammingWeight(int('11111111111111111111111111111101',2)))"
   ]
  }
 ],
 "metadata": {
  "kernelspec": {
   "display_name": "Python 3",
   "language": "python",
   "name": "python3"
  },
  "language_info": {
   "codemirror_mode": {
    "name": "ipython",
    "version": 3
   },
   "file_extension": ".py",
   "mimetype": "text/x-python",
   "name": "python",
   "nbconvert_exporter": "python",
   "pygments_lexer": "ipython3",
   "version": "3.7.1"
  }
 },
 "nbformat": 4,
 "nbformat_minor": 2
}
