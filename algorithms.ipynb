{
 "cells": [
  {
   "cell_type": "markdown",
   "metadata": {},
   "source": [
    "# 各种排序算法"
   ]
  },
  {
   "cell_type": "markdown",
   "metadata": {},
   "source": [
    "### 快速排序"
   ]
  },
  {
   "cell_type": "code",
   "execution_count": 12,
   "metadata": {},
   "outputs": [
    {
     "name": "stdout",
     "output_type": "stream",
     "text": [
      "[-4, 1, 2, 3, 5, 6, 7, 11]\n"
     ]
    }
   ],
   "source": [
    "class QuickSort():\n",
    "    def quick_sort(self, nums, l, r):\n",
    "        if l < r:\n",
    "            q = self.partition(nums, l, r)\n",
    "            self.quick_sort(nums, l, q - 1)\n",
    "            self.quick_sort(nums, q + 1, r)\n",
    "            \n",
    "        \n",
    "    def partition(self, nums, l, r):\n",
    "        pivot = nums[r]\n",
    "        i = l - 1\n",
    "        for j in range(l, r):\n",
    "            if nums[j] < pivot:\n",
    "                i += 1\n",
    "                nums[i], nums[j] = nums[j], nums[i]\n",
    "        nums[i + 1], nums[r] = nums[r], nums[i + 1]\n",
    "        return i + 1\n",
    "\n",
    "a = QuickSort()\n",
    "nums = [5,-4,6,3,7,11,1,2]\n",
    "a.quick_sort(nums, 0, 7)\n",
    "print(nums)"
   ]
  },
  {
   "cell_type": "markdown",
   "metadata": {},
   "source": [
    "### 归并排序"
   ]
  },
  {
   "cell_type": "code",
   "execution_count": 24,
   "metadata": {},
   "outputs": [
    {
     "name": "stdout",
     "output_type": "stream",
     "text": [
      "[-4, 1, 2, 3, 5, 6, 7, 11]\n"
     ]
    }
   ],
   "source": [
    "class MergeSort():\n",
    "    def merge_sort(self, nums, l, r):\n",
    "        if l < r: \n",
    "            mid = (l + r) // 2\n",
    "            self.merge_sort(nums, l, mid)\n",
    "            self.merge_sort(nums, mid + 1, r)\n",
    "            self.merge(nums, l, mid, r)\n",
    "            \n",
    "    def merge(self, nums, l, mid, r):\n",
    "        n = []\n",
    "        i = l\n",
    "        j = mid + 1\n",
    "        while i <= mid and j <= r:\n",
    "            if nums[i] <= nums[j]:\n",
    "                n.append(nums[i])\n",
    "                i += 1\n",
    "            else:\n",
    "                n.append(nums[j])\n",
    "                j += 1\n",
    "        if i > mid:\n",
    "            while j <= r:\n",
    "                n.append(nums[j])\n",
    "                j += 1\n",
    "        else:\n",
    "            while i <= mid:\n",
    "                n.append(nums[i])\n",
    "                i += 1\n",
    "        nums[l: r + 1] = n\n",
    "\n",
    "a = MergeSort()\n",
    "nums = [5,-4,6,3,7,11,1,2]\n",
    "a.merge_sort(nums, 0, 7)\n",
    "print(nums)"
   ]
  },
  {
   "cell_type": "markdown",
   "metadata": {},
   "source": [
    "### 冒泡排序"
   ]
  },
  {
   "cell_type": "code",
   "execution_count": 33,
   "metadata": {},
   "outputs": [
    {
     "name": "stdout",
     "output_type": "stream",
     "text": [
      "[-4, 1, 2, 3, 5, 6, 7, 11]\n"
     ]
    }
   ],
   "source": [
    "class BubbleSort():\n",
    "    def bubble_sort(self, nums):\n",
    "        for i in range(len(nums) - 1):\n",
    "            for j in range(1, len(nums) - i):\n",
    "                if nums[j] < nums[j - 1]:\n",
    "                    nums[j], nums[j - 1] = nums[j - 1], nums[j]\n",
    "\n",
    "a = BubbleSort()\n",
    "nums = [5,-4,6,3,7,11,1,2]\n",
    "a.bubble_sort(nums)\n",
    "print(nums)"
   ]
  },
  {
   "cell_type": "markdown",
   "metadata": {},
   "source": [
    "### 插入排序"
   ]
  },
  {
   "cell_type": "code",
   "execution_count": 35,
   "metadata": {},
   "outputs": [
    {
     "name": "stdout",
     "output_type": "stream",
     "text": [
      "[-4, 1, 2, 3, 5, 6, 7, 11]\n"
     ]
    }
   ],
   "source": [
    "class InsertSort():\n",
    "    def insert_sort(self, nums):\n",
    "        for i in range(1, len(nums)):\n",
    "            key = nums[i]\n",
    "            j = i - 1\n",
    "            while j >= 0 and nums[j] > key:\n",
    "                nums[j + 1] = nums[j]\n",
    "                j -= 1\n",
    "            nums[j + 1] = key\n",
    "\n",
    "a = InsertSort()\n",
    "nums = [5,-4,6,3,7,11,1,2]\n",
    "a.insert_sort(nums)\n",
    "print(nums)                      "
   ]
  },
  {
   "cell_type": "markdown",
   "metadata": {},
   "source": [
    "### 希尔排序"
   ]
  },
  {
   "cell_type": "code",
   "execution_count": 45,
   "metadata": {},
   "outputs": [
    {
     "name": "stdout",
     "output_type": "stream",
     "text": [
      "[-4, 1, 2, 3, 5, 6, 7, 11]\n"
     ]
    }
   ],
   "source": [
    "class ShellSort():\n",
    "    def shell_sort(self, nums):\n",
    "        gap = len(nums) // 2\n",
    "        while gap > 0:\n",
    "            for i in range(gap, len(nums)):\n",
    "                key = nums[i]\n",
    "                j = i - gap\n",
    "                while j >= 0 and nums[j] > key:\n",
    "                    nums[j + gap] = nums[j]\n",
    "                    j -= gap\n",
    "                nums[j + gap] = key\n",
    "            gap //= 2\n",
    "            \n",
    "a = ShellSort()\n",
    "nums = [5,-4,6,3,7,11,1,2]\n",
    "a.shell_sort(nums)\n",
    "print(nums)                      "
   ]
  },
  {
   "cell_type": "markdown",
   "metadata": {},
   "source": [
    "### 选择排序"
   ]
  },
  {
   "cell_type": "code",
   "execution_count": 40,
   "metadata": {},
   "outputs": [
    {
     "name": "stdout",
     "output_type": "stream",
     "text": [
      "[-4, 1, 2, 3, 5, 6, 7, 11]\n"
     ]
    }
   ],
   "source": [
    "class SelectSort():\n",
    "    def select_sort(self, nums):\n",
    "        for i in range(len(nums) - 1):  # 每轮确定最小值的数位\n",
    "            for j in range(i + 1, len(nums)):\n",
    "                if nums[j] < nums[i]:\n",
    "                    nums[j], nums[i] = nums[i], nums[j]\n",
    "\n",
    "a = SelectSort()\n",
    "nums = [5,-4,6,3,7,11,1,2]\n",
    "a.select_sort(nums)\n",
    "print(nums)      "
   ]
  },
  {
   "cell_type": "markdown",
   "metadata": {},
   "source": [
    "### 计数排序"
   ]
  },
  {
   "cell_type": "code",
   "execution_count": 13,
   "metadata": {},
   "outputs": [
    {
     "name": "stdout",
     "output_type": "stream",
     "text": [
      "[0, 1, 1, 2, 2, 2, 3, 3, 3, 4, 4, 5]\n"
     ]
    }
   ],
   "source": [
    "class CountingSort():\n",
    "    def counting_sort(self, nums):\n",
    "        c = [0 for i in range(max(nums) + 1)]\n",
    "        for n in nums:\n",
    "            c[n] += 1\n",
    "        for i in range(1, len(c)):\n",
    "            c[i] += c[i - 1]\n",
    "        \n",
    "        temp = [0] * len(nums)\n",
    "        for n in nums:\n",
    "            temp[c[n] - 1] = n\n",
    "            c[n] -= 1\n",
    "        nums[:] = temp[:]\n",
    "\n",
    "a = CountingSort()\n",
    "nums = [1,0,4,2,3,2,2,4,1,3,5,3]\n",
    "a.counting_sort(nums)\n",
    "print(nums)  "
   ]
  },
  {
   "cell_type": "markdown",
   "metadata": {},
   "source": [
    "### 基数排序"
   ]
  },
  {
   "cell_type": "code",
   "execution_count": 11,
   "metadata": {},
   "outputs": [
    {
     "name": "stdout",
     "output_type": "stream",
     "text": [
      "[5042, 12, 1213, 3213, 3, 5345, 326, 55656]\n",
      "[3, 12, 1213, 3213, 326, 5042, 5345, 55656]\n",
      "[3, 12, 5042, 1213, 3213, 326, 5345, 55656]\n",
      "[3, 12, 326, 1213, 3213, 5042, 5345, 55656]\n",
      "[3, 12, 326, 1213, 3213, 5042, 5345, 55656]\n",
      "[3, 12, 326, 1213, 3213, 5042, 5345, 55656]\n"
     ]
    }
   ],
   "source": [
    "class RadixSort():\n",
    "    def radix_sort(self, nums):\n",
    "        func = lambda num,i: num // 10 ** i % 10   # 获取从后数第i位的数字\n",
    "        j = len(str(max(nums)))\n",
    "        i = 0  # 从最后一位开始\n",
    "        while i < j:\n",
    "            bucket_list = [[] for i in range(10)]\n",
    "            for n in nums:\n",
    "                bucket_list[func(n, i)].append(n)\n",
    "#             nums = [n for bucket in bucket_list for n in bucket]\n",
    "            nums.clear()   # 在原数组上操作\n",
    "            for bucket in bucket_list:\n",
    "                for n in bucket:\n",
    "                    nums.append(n)\n",
    "            print(nums)\n",
    "            i += 1\n",
    "            \n",
    "a = RadixSort()\n",
    "nums = [1213,3213,326,5345,5042,12,3,55656]\n",
    "a.radix_sort(nums)\n",
    "print(nums) "
   ]
  },
  {
   "cell_type": "markdown",
   "metadata": {},
   "source": [
    "### 堆排序"
   ]
  },
  {
   "cell_type": "code",
   "execution_count": 61,
   "metadata": {},
   "outputs": [
    {
     "name": "stdout",
     "output_type": "stream",
     "text": [
      "[-4, 1, 2, 3, 5, 6, 7, 11]\n"
     ]
    }
   ],
   "source": [
    "class HeapSort():\n",
    "    def heap_sort(self, nums):\n",
    "        max_heap = MaxHeap(nums)\n",
    "        for i in range(len(nums) - 1):\n",
    "            max_heap.heap[1], max_heap.heap[max_heap.size] = max_heap.heap[max_heap.size], max_heap.heap[1]\n",
    "            max_heap.size -= 1\n",
    "            max_heap.heapify(1)\n",
    "        nums[:] = max_heap.heap[1:]\n",
    "    \n",
    "class MaxHeap():\n",
    "    def __init__(self, nums):\n",
    "        self.heap = [0] + nums\n",
    "        self.size = len(nums)\n",
    "        for i in range(self.size // 2, 0, -1):   # 从有子节点的最后一个位置往前遍历\n",
    "            self.heapify(i)\n",
    "    \n",
    "    def heapify(self, i):\n",
    "        while i <= self.size // 2:   # 到有子节点的最后一个位置为止\n",
    "            if i * 2 + 1 > self.size or self.heap[i * 2] >= self.heap[i * 2 + 1]:  # 没有右孩子或者左孩子较大\n",
    "                if self.heap[i * 2] > self.heap[i]:\n",
    "                    self.heap[i * 2], self.heap[i] = self.heap[i], self.heap[i * 2]\n",
    "                    i = i * 2\n",
    "                else:\n",
    "                    break\n",
    "            else: \n",
    "                if self.heap[i * 2 + 1] > self.heap[i]:    # 右孩子较大\n",
    "                    self.heap[i * 2 + 1], self.heap[i] = self.heap[i], self.heap[i * 2 + 1]\n",
    "                    i = i * 2 + 1\n",
    "                else:\n",
    "                    break\n",
    "                \n",
    "a = HeapSort()\n",
    "nums = [5,-4,6,3,7,11,1,2]\n",
    "a.heap_sort(nums)\n",
    "print(nums) "
   ]
  },
  {
   "cell_type": "markdown",
   "metadata": {},
   "source": [
    "# 二叉树的前序 中序 后序 遍历\n",
    "### 递归写法"
   ]
  },
  {
   "cell_type": "code",
   "execution_count": 14,
   "metadata": {},
   "outputs": [],
   "source": [
    "#前序中序后序 遍历 递归写法\n",
    "def pre(root):\n",
    "    if root == None:\n",
    "        return []\n",
    "    return [root.val] + pre(root.left) + pre(root.right)\n",
    "\n",
    "def inorder(root):\n",
    "    if root == None:\n",
    "        return []\n",
    "    return inorder(root.left) + [root.val] + inorder(root.right)\n",
    "\n",
    "def tin(root):\n",
    "    if root == None:\n",
    "        return []\n",
    "    return tin(root.left)+ tin(root.right) + [root.val]"
   ]
  },
  {
   "cell_type": "markdown",
   "metadata": {},
   "source": [
    "### 迭代写法"
   ]
  },
  {
   "cell_type": "code",
   "execution_count": 9,
   "metadata": {},
   "outputs": [],
   "source": [
    "#中序\n",
    "\n",
    "def inorder(root):\n",
    "    output, stack = [], []\n",
    "    while stack or root:\n",
    "        if root:\n",
    "            stack.append(root)\n",
    "            root = root.left\n",
    "        else:\n",
    "            node = stack.pop()\n",
    "            output.append(node.val)\n",
    "            root = node.right\n",
    "    return output"
   ]
  },
  {
   "cell_type": "code",
   "execution_count": 10,
   "metadata": {},
   "outputs": [],
   "source": [
    "# 前序\n",
    "def pre(root):\n",
    "    output, stack = [],[]\n",
    "    stack.append(root)\n",
    "    while stack:\n",
    "        node = stack.pop()\n",
    "        output.append(node.val)\n",
    "        if node.right:\n",
    "            stack.append(node.right)\n",
    "        if node.left:\n",
    "            stack.append(node.left)\n",
    "    return output\n"
   ]
  },
  {
   "cell_type": "code",
   "execution_count": 2,
   "metadata": {},
   "outputs": [],
   "source": [
    "#后序\n",
    "def tin(root):\n",
    "    res, stack1, stack2 = [], [], []\n",
    "    stack1.append(root)\n",
    "    while stack1:\n",
    "        node = stack1.pop()\n",
    "        if node != None:\n",
    "            stack2.append(node)\n",
    "            stack1.append(node.left)\n",
    "            stack1.append(node.right)\n",
    "    while stack2:\n",
    "        node = stack2.pop()\n",
    "        res.append(node.val)\n",
    "    return res"
   ]
  },
  {
   "cell_type": "code",
   "execution_count": null,
   "metadata": {},
   "outputs": [],
   "source": []
  }
 ],
 "metadata": {
  "kernelspec": {
   "display_name": "Python 3",
   "language": "python",
   "name": "python3"
  },
  "language_info": {
   "codemirror_mode": {
    "name": "ipython",
    "version": 3
   },
   "file_extension": ".py",
   "mimetype": "text/x-python",
   "name": "python",
   "nbconvert_exporter": "python",
   "pygments_lexer": "ipython3",
   "version": "3.7.1"
  }
 },
 "nbformat": 4,
 "nbformat_minor": 2
}
