{
 "cells": [
  {
   "cell_type": "markdown",
   "metadata": {},
   "source": [
    "# Description:"
   ]
  },
  {
   "cell_type": "markdown",
   "metadata": {},
   "source": [
    "Given an array of integers, return indices of the two numbers such that they add up to a specific target.\n",
    "You may assume that each input would have exactly one solution, and you may not use the same element twice."
   ]
  },
  {
   "cell_type": "markdown",
   "metadata": {},
   "source": [
    "# Example:"
   ]
  },
  {
   "cell_type": "markdown",
   "metadata": {},
   "source": [
    "Given nums = [2, 7, 11, 15], target = 9,\n",
    "\n",
    "Because nums[0] + nums[1] = 2 + 7 = 9,\n",
    "return [0, 1]."
   ]
  },
  {
   "cell_type": "markdown",
   "metadata": {},
   "source": [
    "# Solution:"
   ]
  },
  {
   "cell_type": "code",
   "execution_count": 3,
   "metadata": {},
   "outputs": [],
   "source": [
    "class Solution_1:\n",
    "    \"\"\"将原列表的索引和值匹配为元组，生成新列表，并按值排序。再用首尾递进查找。复杂度：O(nlgn)\"\"\"\n",
    "    \n",
    "    def twoSum(self, nums, target):\n",
    "        \"\"\"\n",
    "        :type nums: List[int]\n",
    "        :type target: int\n",
    "        :rtype: List[int]\n",
    "        \"\"\"\n",
    "        nums_index = [(num,index) for index, num in enumerate(nums)]\n",
    "        nums_index.sort()\n",
    "        begin = 0\n",
    "        end = len(nums) - 1\n",
    "        while begin < end:\n",
    "            if nums_index[begin][0] + nums_index[end][0] == target:\n",
    "                return [nums_index[begin][1],nums_index[end][1]]\n",
    "            elif nums_index[begin][0] + nums_index[end][0] > target:\n",
    "                end -= 1\n",
    "            else:\n",
    "                begin += 1"
   ]
  },
  {
   "cell_type": "code",
   "execution_count": 4,
   "metadata": {},
   "outputs": [],
   "source": [
    "class Solution_2:\n",
    "    \"\"\"将原列表的索引按值大小排序，生成新列表。再用首尾递进查找。复杂度：O(nlgn)\"\"\"\n",
    "    \n",
    "    def twoSum(self, nums, target):\n",
    "        \"\"\"\n",
    "        :type nums: List[int]\n",
    "        :type target: int\n",
    "        :rtype: List[int]\n",
    "        \"\"\"\n",
    "        sorted_index = sorted(range(len(nums)), key=lambda k:nums[k])\n",
    "        begin = 0\n",
    "        end = len(nums) - 1\n",
    "        while begin < end:\n",
    "            if nums[sorted_index[begin]] + nums[sorted_index[end]] == target:\n",
    "                return [sorted_index[begin],sorted_index[end]]\n",
    "            elif nums[sorted_index[begin]] + nums[sorted_index[end]] > target:\n",
    "                end -= 1\n",
    "            else:\n",
    "                begin += 1"
   ]
  },
  {
   "cell_type": "code",
   "execution_count": 17,
   "metadata": {},
   "outputs": [],
   "source": [
    "class Solution_3:\n",
    "    \"\"\"建立一个键为列表值，值为列表索引的字典。将每一个值存入字典前，在字典中查询是否有匹配值。复杂度：O(n)\"\"\"\n",
    "    \n",
    "    def twoSum(self, nums, target):\n",
    "        \"\"\"\n",
    "        :type nums: List[int]\n",
    "        :type target: int\n",
    "        :rtype: List[int]\n",
    "        \"\"\"\n",
    "        hash_nums = {}\n",
    "        for index, num in enumerate(nums):\n",
    "            another = target - num\n",
    "            try:\n",
    "                hash_nums[another]\n",
    "                return [hash_nums[another], index]\n",
    "            except KeyError:\n",
    "                hash_nums[num] = index"
   ]
  },
  {
   "cell_type": "markdown",
   "metadata": {},
   "source": [
    "# Test:"
   ]
  },
  {
   "cell_type": "code",
   "execution_count": 18,
   "metadata": {},
   "outputs": [
    {
     "name": "stdout",
     "output_type": "stream",
     "text": [
      "[1, 2]\n",
      "[1, 2]\n",
      "[1, 2]\n"
     ]
    }
   ],
   "source": [
    "if __name__ == '__main__':\n",
    "    s_1 = Solution_1()\n",
    "    s_2 = Solution_2()\n",
    "    s_3 = Solution_3()\n",
    "    print (s_1.twoSum([3, 2, 4], 6))\n",
    "    print (s_2.twoSum([3, 2, 4], 6))\n",
    "    print (s_3.twoSum([3, 2, 4], 6))"
   ]
  }
 ],
 "metadata": {
  "kernelspec": {
   "display_name": "Python 3",
   "language": "python",
   "name": "python3"
  },
  "language_info": {
   "codemirror_mode": {
    "name": "ipython",
    "version": 3
   },
   "file_extension": ".py",
   "mimetype": "text/x-python",
   "name": "python",
   "nbconvert_exporter": "python",
   "pygments_lexer": "ipython3",
   "version": "3.7.1"
  }
 },
 "nbformat": 4,
 "nbformat_minor": 2
}
