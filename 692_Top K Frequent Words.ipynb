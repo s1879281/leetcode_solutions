{
 "cells": [
  {
   "cell_type": "markdown",
   "metadata": {},
   "source": [
    "# Description:"
   ]
  },
  {
   "cell_type": "markdown",
   "metadata": {},
   "source": [
    "Given a non-empty list of words, return the k most frequent elements.\n",
    "\n",
    "Your answer should be sorted by frequency from highest to lowest. If two words have the same frequency, then the word with the lower alphabetical order comes first."
   ]
  },
  {
   "cell_type": "markdown",
   "metadata": {},
   "source": [
    "# Example:"
   ]
  },
  {
   "cell_type": "markdown",
   "metadata": {},
   "source": [
    "Input: [\"i\", \"love\", \"leetcode\", \"i\", \"love\", \"coding\"], k = 2\n",
    "\n",
    "Output: [\"i\", \"love\"]\n",
    "\n",
    "Explanation: \"i\" and \"love\" are the two most frequent words.\n",
    "\n",
    "    Note that \"i\" comes before \"love\" due to a lower alphabetical order."
   ]
  },
  {
   "cell_type": "markdown",
   "metadata": {},
   "source": [
    "Input: [\"the\", \"day\", \"is\", \"sunny\", \"the\", \"the\", \"the\", \"sunny\", \"is\", \"is\"], k = 4\n",
    "\n",
    "Output: [\"the\", \"is\", \"sunny\", \"day\"]\n",
    "\n",
    "Explanation: \"the\", \"is\", \"sunny\" and \"day\" are the four most frequent words, with the number of occurrence being 4, 3, 2 and 1 respectively."
   ]
  },
  {
   "cell_type": "markdown",
   "metadata": {},
   "source": [
    "# Solution:"
   ]
  },
  {
   "cell_type": "code",
   "execution_count": 24,
   "metadata": {},
   "outputs": [],
   "source": [
    "class BinHeap:\n",
    "    \"\"\"建立一个二叉堆\"\"\"\n",
    "    \n",
    "    def __init__(self):\n",
    "        self.heaplist = [0]\n",
    "        self.size = 0\n",
    "    \n",
    "    \n",
    "    def minChild(self, i):\n",
    "        \"\"\"返回较小的子节点\"\"\"\n",
    "        \n",
    "        if i * 2 + 1 > self.size or self.heaplist[i * 2] < self.heaplist[i * 2 + 1]:\n",
    "            return i * 2\n",
    "        \n",
    "        return i * 2 + 1\n",
    "    \n",
    "    \n",
    "    def percdown(self, i):\n",
    "        \"\"\"比较与较小的子节点的大小，若大于较小的子节点，则与之交换\"\"\"\n",
    "        \n",
    "        while i * 2 <= self.size:\n",
    "            mc = self.minChild(i)\n",
    "            \n",
    "            if self.heaplist[i] > self.heaplist[mc]:\n",
    "                self.heaplist[i], self.heaplist[mc] = self.heaplist[mc], self.heaplist[i]\n",
    "                i = mc\n",
    "                \n",
    "            else:\n",
    "                break\n",
    "            \n",
    "        \n",
    "    def percup(self, i):\n",
    "        \"\"\"比较与父节点的大小，若小于父节点，则与父节点交换\"\"\"\n",
    "        \n",
    "        while i // 2 > 0:\n",
    "            if self.heaplist[i] < self.heaplist[i // 2]:\n",
    "                self.heaplist[i], self.heaplist[i // 2] = self.heaplist[i // 2], self.heaplist[i]\n",
    "                i = i // 2\n",
    "                \n",
    "            else:\n",
    "                break\n",
    "        \n",
    "    \n",
    "    def heapify(self, alist):\n",
    "        \"\"\"现有列表构建二叉堆\"\"\"\n",
    "        \n",
    "        self.size = len(alist)\n",
    "        i = self.size // 2\n",
    "        self.heaplist = [0] + alist\n",
    "        while i > 0:\n",
    "            self.percdown(i)\n",
    "            i -= 1\n",
    "            \n",
    "    \n",
    "    def heappush(self, n):\n",
    "        \"\"\"插入新值\"\"\"\n",
    "        \n",
    "        self.heaplist.append(n)\n",
    "        self.size += 1\n",
    "        self.percup(self.size)\n",
    "        \n",
    "        \n",
    "    def heappop(self):\n",
    "        \"\"\"返回最小值，将末尾值放在根节点，然后重新构建堆\"\"\"\n",
    "        \n",
    "        self.heaplist[self.size], self.heaplist[1] = self.heaplist[1], self.heaplist[self.size]\n",
    "        minval = self.heaplist.pop()\n",
    "        self.size -= 1\n",
    "        self.percdown(1)\n",
    "        \n",
    "        return minval"
   ]
  },
  {
   "cell_type": "code",
   "execution_count": 25,
   "metadata": {},
   "outputs": [],
   "source": [
    "class Word:\n",
    "    def __init__(self, freq, word):\n",
    "        self.freq = freq\n",
    "        self.word = word\n",
    "    \n",
    "    def __lt__(self, other):\n",
    "        if self.freq == other.freq:\n",
    "            return self.word > other.word\n",
    "        return self.freq < other.freq\n",
    "    \n",
    "    def __eq__(self, other):\n",
    "        return self.freq == other.freq and self.word == other.word"
   ]
  },
  {
   "cell_type": "code",
   "execution_count": 28,
   "metadata": {},
   "outputs": [],
   "source": [
    "from collections import defaultdict\n",
    "\n",
    "class Solution_1:\n",
    "    \"\"\"利用二叉堆，复杂度O(nlgk)\"\"\"\n",
    "    \n",
    "    def topKFrequent(self, words, k):\n",
    "        \"\"\"\n",
    "        :type words: List[str]\n",
    "        :type k: int\n",
    "        :rtype: List[str]\n",
    "        \"\"\"\n",
    "        dic = defaultdict(int)\n",
    "        for word in words:\n",
    "            dic[word] += 1\n",
    "            \n",
    "        heapq = BinHeap()\n",
    "        heapq.heapify([])\n",
    "        for word, freq in dic.items():\n",
    "            heapq.heappush(Word(freq, word))\n",
    "            if heapq.size > k:\n",
    "                heapq.heappop()\n",
    "        \n",
    "        res = []\n",
    "        for _ in range(k):\n",
    "            res.insert(0, heapq.heappop().word)\n",
    "        \n",
    "        return res"
   ]
  },
  {
   "cell_type": "code",
   "execution_count": 36,
   "metadata": {},
   "outputs": [],
   "source": [
    "from collections import Counter\n",
    "import heapq\n",
    "\n",
    "class Solution_2:\n",
    "    \"\"\"利用二叉堆内置库，复杂度O(nlgk)\"\"\"\n",
    "    \n",
    "    def topKFrequent(self, words, k):\n",
    "        \"\"\"\n",
    "        :type words: List[str]\n",
    "        :type k: int\n",
    "        :rtype: List[str]\n",
    "        \"\"\"\n",
    "        count = Counter(words)\n",
    "            \n",
    "        heap = []\n",
    "        for word, freq in count.items():\n",
    "            heapq.heappush(heap, Word(freq, word))\n",
    "            if len(heap) > k:\n",
    "                heapq.heappop(heap)\n",
    "        \n",
    "        res = []\n",
    "        for _ in range(k):\n",
    "            res.insert(0, heapq.heappop(heap).word)\n",
    "        \n",
    "        return res"
   ]
  },
  {
   "cell_type": "markdown",
   "metadata": {},
   "source": [
    "# Test:"
   ]
  },
  {
   "cell_type": "code",
   "execution_count": 37,
   "metadata": {},
   "outputs": [
    {
     "name": "stdout",
     "output_type": "stream",
     "text": [
      "['the', 'is', 'sunny', 'day']\n",
      "['the', 'is', 'sunny', 'day']\n"
     ]
    }
   ],
   "source": [
    "if __name__ == '__main__':\n",
    "    s_1 = Solution_1()\n",
    "    s_2 = Solution_2()\n",
    "    print (s_1.topKFrequent([\"the\", \"day\", \"is\", \"sunny\", \"the\", \"the\", \"the\", \"sunny\", \"is\", \"is\"], 4))\n",
    "    print (s_2.topKFrequent([\"the\", \"day\", \"is\", \"sunny\", \"the\", \"the\", \"the\", \"sunny\", \"is\", \"is\"], 4))"
   ]
  }
 ],
 "metadata": {
  "kernelspec": {
   "display_name": "Python 3",
   "language": "python",
   "name": "python3"
  },
  "language_info": {
   "codemirror_mode": {
    "name": "ipython",
    "version": 3
   },
   "file_extension": ".py",
   "mimetype": "text/x-python",
   "name": "python",
   "nbconvert_exporter": "python",
   "pygments_lexer": "ipython3",
   "version": "3.6.8"
  }
 },
 "nbformat": 4,
 "nbformat_minor": 2
}
