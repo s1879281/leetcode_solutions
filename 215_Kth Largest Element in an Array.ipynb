{
 "cells": [
  {
   "cell_type": "markdown",
   "metadata": {},
   "source": [
    "# Description:"
   ]
  },
  {
   "cell_type": "markdown",
   "metadata": {},
   "source": [
    "Given an integer array nums and an integer k, return the kth largest element in the array.\n",
    "\n",
    "Note that it is the kth largest element in the sorted order, not the kth distinct element."
   ]
  },
  {
   "cell_type": "markdown",
   "metadata": {},
   "source": [
    "# Example:"
   ]
  },
  {
   "cell_type": "markdown",
   "metadata": {},
   "source": [
    "Input: nums = [3,2,1,5,6,4], k = 2\n",
    "\n",
    "Output: 5"
   ]
  },
  {
   "cell_type": "markdown",
   "metadata": {},
   "source": [
    "Input: nums = [3,2,3,1,2,4,5,5,6], k = 4\n",
    "\n",
    "Output: 4"
   ]
  },
  {
   "cell_type": "markdown",
   "metadata": {},
   "source": [
    "# Solution:"
   ]
  },
  {
   "cell_type": "code",
   "execution_count": 3,
   "metadata": {},
   "outputs": [],
   "source": [
    "import heapq\n",
    "class Solution_1(object):\n",
    "    \"\"\"内置库，最小堆，复杂度O(nlgk)\"\"\"\n",
    "    \n",
    "    \n",
    "    def findKthLargest(self, nums, k):\n",
    "        \"\"\"\n",
    "        :type nums: List[int]\n",
    "        :type k: int\n",
    "        :rtype: int\n",
    "        \"\"\"\n",
    "        heap = []\n",
    "        for num in nums:\n",
    "            heapq.heappush(heap, num)\n",
    "            if len(heap) > k:\n",
    "                heapq.heappop(heap)\n",
    "        res = heapq.heappop(heap)\n",
    "        return res"
   ]
  },
  {
   "cell_type": "code",
   "execution_count": 6,
   "metadata": {},
   "outputs": [],
   "source": [
    "class Solution_2(object):\n",
    "    \"\"\"快排，复杂度O(n)\"\"\"\n",
    "    \n",
    "    \n",
    "    def findKthLargest(self, nums, k):\n",
    "        \"\"\"\n",
    "        :type nums: List[int]\n",
    "        :type k: int\n",
    "        :rtype: int\n",
    "        \"\"\"\n",
    "        self.nums = nums\n",
    "        self.k = k\n",
    "        return self.quicksort(0, len(nums) - 1)\n",
    "    \n",
    "    def quicksort(self, l, r):\n",
    "        if l == r:\n",
    "            return self.nums[l]\n",
    "        if l < r:\n",
    "            q = self.partition(l, r)\n",
    "            if q == len(self.nums) - self.k:\n",
    "                return self.nums[q]\n",
    "            elif q > len(self.nums) - self.k:\n",
    "                return self.quicksort(l, q - 1)\n",
    "            else:\n",
    "                return self.quicksort(q + 1, r)\n",
    "        \n",
    "    def partition(self, l, r):\n",
    "        pivot = self.nums[r]\n",
    "        i = l - 1\n",
    "        for j in range(l, r):\n",
    "            if self.nums[j] < pivot:\n",
    "                i += 1\n",
    "                self.nums[i], self.nums[j] = self.nums[j], self.nums[i]\n",
    "        i += 1\n",
    "        self.nums[i], self.nums[r] = self.nums[r], self.nums[i]\n",
    "        return i"
   ]
  },
  {
   "cell_type": "markdown",
   "metadata": {},
   "source": [
    "# Test:"
   ]
  },
  {
   "cell_type": "code",
   "execution_count": 7,
   "metadata": {},
   "outputs": [
    {
     "name": "stdout",
     "output_type": "stream",
     "text": [
      "5\n",
      "5\n"
     ]
    }
   ],
   "source": [
    "if __name__ == '__main__':\n",
    "    s_1 = Solution_1()\n",
    "    s_2 = Solution_2()\n",
    "    print (s_1.findKthLargest([3,2,1,5,6,4], 2))\n",
    "    print (s_2.findKthLargest([3,2,1,5,6,4], 2))"
   ]
  }
 ],
 "metadata": {
  "kernelspec": {
   "display_name": "Python 3",
   "language": "python",
   "name": "python3"
  },
  "language_info": {
   "codemirror_mode": {
    "name": "ipython",
    "version": 3
   },
   "file_extension": ".py",
   "mimetype": "text/x-python",
   "name": "python",
   "nbconvert_exporter": "python",
   "pygments_lexer": "ipython3",
   "version": "3.7.1"
  }
 },
 "nbformat": 4,
 "nbformat_minor": 2
}
