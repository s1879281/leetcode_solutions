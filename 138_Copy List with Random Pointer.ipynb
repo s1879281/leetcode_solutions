{
 "cells": [
  {
   "cell_type": "markdown",
   "metadata": {},
   "source": [
    "# Description:"
   ]
  },
  {
   "cell_type": "markdown",
   "metadata": {},
   "source": [
    "A linked list is given such that each node contains an additional random pointer which could point to any node in the list or null.\n",
    "Return a deep copy of the list."
   ]
  },
  {
   "cell_type": "markdown",
   "metadata": {},
   "source": [
    "# Example:"
   ]
  },
  {
   "cell_type": "markdown",
   "metadata": {},
   "source": [
    "Input:\n",
    "{\"$id\":\"1\",\"next\":{\"$id\":\"2\",\"next\":null,\"random\":{\"$ref\":\"2\"},\"val\":2},\"random\":{\"$ref\":\"2\"},\"val\":1}\n",
    "\n",
    "Explanation:\n",
    "\n",
    "Node 1's value is 1, both of its next and random pointer points to Node 2.\n",
    "\n",
    "Node 2's value is 2, its next pointer points to null and its random pointer points to itself."
   ]
  },
  {
   "cell_type": "markdown",
   "metadata": {},
   "source": [
    "# Solution:"
   ]
  },
  {
   "cell_type": "code",
   "execution_count": 3,
   "metadata": {},
   "outputs": [],
   "source": [
    "# Definition for singly-linked list.\n",
    "class ListNode(object):\n",
    "    \"\"\"定义链表节点\"\"\"\n",
    "    \n",
    "    def __init__(self, x):\n",
    "        self.val = x\n",
    "        self.next = None\n",
    "        self.random = random\n",
    "        \n",
    "    def __call__(self):\n",
    "        l = [self.val]\n",
    "        cur = self\n",
    "        while cur.next is not None:\n",
    "            cur = cur.next\n",
    "            l.append(cur.val)\n",
    "        return l\n",
    "\n",
    "class LinkedList(object):\n",
    "    \"\"\"定义链表\"\"\"\n",
    "    \n",
    "    def __init__(self, numList):\n",
    "        if len(numList) == 0:\n",
    "            self.head = None\n",
    "        else:\n",
    "            self.head = cur = ListNode(numList[0])\n",
    "            index = 1\n",
    "            while index < len(numList):\n",
    "                cur.next = ListNode(numList[index])\n",
    "                cur = cur.next\n",
    "                index += 1    \n",
    "            \n",
    "    def __call__(self):\n",
    "        head = self.head\n",
    "        return head()"
   ]
  },
  {
   "cell_type": "code",
   "execution_count": 4,
   "metadata": {},
   "outputs": [],
   "source": [
    "class Solution_1(object):\n",
    "    \"\"\"时间复杂度O(n)，空间复杂度O(n)\"\"\"\n",
    "    \n",
    "    def copyRandomList(self, head):\n",
    "        \"\"\"\n",
    "        :type head: Node\n",
    "        :rtype: Node\n",
    "        \"\"\"\n",
    "        dic = dict()\n",
    "        m = n = head\n",
    "        while m:\n",
    "            dic[m] = Node(m.val, None, None)\n",
    "            m = m.next\n",
    "        while n:\n",
    "            dic[n].next = dic.get(n.next)\n",
    "            dic[n].random = dic.get(n.random)\n",
    "            n = n.next\n",
    "        return dic.get(head)"
   ]
  }
 ],
 "metadata": {
  "kernelspec": {
   "display_name": "Python 3",
   "language": "python",
   "name": "python3"
  },
  "language_info": {
   "codemirror_mode": {
    "name": "ipython",
    "version": 3
   },
   "file_extension": ".py",
   "mimetype": "text/x-python",
   "name": "python",
   "nbconvert_exporter": "python",
   "pygments_lexer": "ipython3",
   "version": "3.7.1"
  }
 },
 "nbformat": 4,
 "nbformat_minor": 2
}
